{
 "cells": [
  {
   "cell_type": "markdown",
   "metadata": {},
   "source": [
    "# Challenge 1\n",
    "\n",
    "Generate (fake) data that is linearly related to log(x).\n",
    "\n",
    "You are making this model up. It is of the form B0 + B1*log(x) + epsilon. (You are making up the parameters.)\n",
    "\n",
    "Simulate some data from this model.\n",
    "\n",
    "Then fit two models to it:\n",
    "\n",
    "quadratic (second degree polynomial)\n",
    "logarithmic (log(x))\n",
    "(The second one should fit really well, since it has the same form as the underlying model!)"
   ]
  },
  {
   "cell_type": "code",
   "execution_count": 37,
   "metadata": {
    "collapsed": true
   },
   "outputs": [],
   "source": [
    "import pandas as pd\n",
    "import numpy as np\n",
    "import matplotlib.pyplot as plt\n",
    "from pprint import pprint\n",
    "import pickle\n",
    "import re\n",
    "import statsmodels.api as sm\n",
    "import patsy\n",
    "import seaborn as sns\n",
    "from seaborn import plt\n",
    "from sklearn.linear_model import LinearRegression\n",
    "from sklearn.cross_validation import train_test_split\n",
    "import sklearn.metrics as metrics\n",
    "import random\n",
    "%matplotlib inline"
   ]
  },
  {
   "cell_type": "code",
   "execution_count": 90,
   "metadata": {
    "collapsed": true
   },
   "outputs": [],
   "source": [
    "x = pd.Series([np.log(random.randint(1, 100)*i) for i in range(1,1000)])"
   ]
  },
  {
   "cell_type": "code",
   "execution_count": 120,
   "metadata": {
    "collapsed": false
   },
   "outputs": [],
   "source": [
    "dat = pd.DataFrame({\n",
    "        'x':x\n",
    "    })"
   ]
  },
  {
   "cell_type": "code",
   "execution_count": 121,
   "metadata": {
    "collapsed": false
   },
   "outputs": [],
   "source": [
    "y = np.exp(x)+np.sin(x)"
   ]
  },
  {
   "cell_type": "code",
   "execution_count": 126,
   "metadata": {
    "collapsed": false
   },
   "outputs": [
    {
     "data": {
      "text/plain": [
       "LinearRegression(copy_X=True, fit_intercept=True, n_jobs=1, normalize=True)"
      ]
     },
     "execution_count": 126,
     "metadata": {},
     "output_type": "execute_result"
    }
   ],
   "source": [
    "#model 1: b0 + b1*log(x) + E; \n",
    "#model 2: b0 + b1*x + b1*x^2 + E\n",
    "mod1 = LinearRegression(fit_intercept=True)\n",
    "mod2 = LinearRegression(fit_intercept=True, normalize=True)\n",
    "mod1.fit(dat, y)\n",
    "mod2.fit(pd.concat([dat, np.power(dat.x,2)], axis=1), y)"
   ]
  },
  {
   "cell_type": "code",
   "execution_count": 127,
   "metadata": {
    "collapsed": false
   },
   "outputs": [
    {
     "data": {
      "text/plain": [
       "0.67839001041692937"
      ]
     },
     "execution_count": 127,
     "metadata": {},
     "output_type": "execute_result"
    }
   ],
   "source": [
    "#model 1: b0 + b1*log(x) + E;\n",
    "mod1.score(dat,y)"
   ]
  },
  {
   "cell_type": "code",
   "execution_count": 128,
   "metadata": {
    "collapsed": false
   },
   "outputs": [
    {
     "data": {
      "text/plain": [
       "0.91957474080784507"
      ]
     },
     "execution_count": 128,
     "metadata": {},
     "output_type": "execute_result"
    }
   ],
   "source": [
    "#model 2: b0 + b1*x + b1*x^2 + E\n",
    "mod2.score(pd.concat([dat, np.power(dat.x,2)], axis=1), y)"
   ]
  },
  {
   "cell_type": "markdown",
   "metadata": {},
   "source": [
    "# Challenge 2\n",
    "\n",
    "Generate (fake) data from a model of the form B0 + B1*x + B2*x^2 + epsilon. (You are making up the parameters.)\n",
    "\n",
    "Split the data into a training and test set.\n",
    "\n",
    "Fit a model to your training set. Calculate mean squared error on your training set. Then calculate it on your test set.\n",
    "\n",
    "(You could use sklearn.metrics.mean_squared_error.)"
   ]
  },
  {
   "cell_type": "code",
   "execution_count": 129,
   "metadata": {
    "collapsed": false
   },
   "outputs": [],
   "source": [
    "#use dat from previous\n",
    "dat2 = pd.concat([dat, np.power(dat.x,2)], axis=1)"
   ]
  },
  {
   "cell_type": "code",
   "execution_count": 130,
   "metadata": {
    "collapsed": false
   },
   "outputs": [],
   "source": [
    "dat2.columns = ['x','xsquared']"
   ]
  },
  {
   "cell_type": "code",
   "execution_count": 139,
   "metadata": {
    "collapsed": false
   },
   "outputs": [
    {
     "data": {
      "text/plain": [
       "LinearRegression(copy_X=True, fit_intercept=True, n_jobs=1, normalize=True)"
      ]
     },
     "execution_count": 139,
     "metadata": {},
     "output_type": "execute_result"
    }
   ],
   "source": [
    "#split into test train\n",
    "Xtrain, Xtest, ytrain, ytest = train_test_split(dat2, y, train_size=0.7)\n",
    "chal2mod = LinearRegression(fit_intercept=True, normalize=True)\n",
    "chal2mod.fit(Xtrain, ytrain)"
   ]
  },
  {
   "cell_type": "code",
   "execution_count": 142,
   "metadata": {
    "collapsed": true
   },
   "outputs": [
    {
     "data": {
      "text/plain": [
       "array([ -6.77856153e+03,  -6.74920599e+03,   4.24055872e+04,\n",
       "         3.16468687e+04,   1.16310810e+04,   4.64905307e+04,\n",
       "         3.12719636e+04,  -6.75608869e+03,   1.91501399e+03,\n",
       "         3.90513068e+03,   6.11216564e+04,   4.95575028e+04,\n",
       "         7.08506914e+04,   3.00071234e+04,   4.23035020e+04,\n",
       "         5.05611058e+04,   1.77278019e+03,   2.33604337e+04,\n",
       "         4.41412870e+04,   5.35578779e+04,   3.88539669e+03,\n",
       "         1.27264135e+04,  -6.64717664e+03,   4.95312945e+03,\n",
       "        -1.07961392e+03,  -3.40269226e+03,   3.48684051e+04,\n",
       "         3.06581999e+03,   6.09671299e+04,   5.46245712e+04,\n",
       "         1.92693543e+04,   2.84258796e+04,   1.44650066e+04,\n",
       "         6.10218110e+04,   1.70519970e+04,   4.10028580e+04,\n",
       "         2.57303996e+04,   2.13461101e+04,   1.47996917e+04,\n",
       "         2.61306041e+04,   2.41254210e+04,   7.31043749e+03,\n",
       "         2.04530647e+04,  -6.20171078e+03,  -5.72068608e+03,\n",
       "        -3.53326098e+03,   5.42415538e+04,   6.20663219e+04,\n",
       "         1.20156892e+04,   1.64429602e+04,   2.60315397e+04,\n",
       "         1.94012119e+04,   1.45899530e+04,   3.32058275e+04,\n",
       "         5.52770614e+04,   1.23320681e+04,  -6.46075415e+03,\n",
       "         1.06818757e+04,   4.73874384e+04,   4.17181641e+04,\n",
       "         5.70176691e+04,   8.46908163e+03,   5.61764099e+04,\n",
       "         2.72673284e+03,   2.13739505e+04,   3.29602991e+04,\n",
       "         1.63457336e+04,   1.61385157e+04,   4.33055087e+04,\n",
       "        -5.29649887e+03,   2.29454072e+04,   4.10137966e+04,\n",
       "         9.12551073e+03,   8.32468935e+03,   1.15052862e+03,\n",
       "         1.14421569e+04,   1.75674656e+04,   1.10765359e+04,\n",
       "         3.85629375e+04,   2.38574635e+04,  -6.37585699e+03,\n",
       "         4.09108497e+04,   3.22763596e+04,   3.83930380e+03,\n",
       "        -4.84587504e+03,   1.54480623e+04,   3.04596639e+04,\n",
       "         2.39419406e+04,   2.35031893e+04,   2.40253220e+03,\n",
       "         6.50263072e+02,   3.60785052e+03,   1.92912924e+03,\n",
       "         1.79440452e+02,   2.42417725e+04,   5.77785792e+04,\n",
       "         5.56764894e+04,  -6.75380785e+03,   4.67039261e+04,\n",
       "        -5.35747291e+03,   4.48434410e+04,   3.99723146e+04,\n",
       "         3.21931855e+04,  -4.17735323e+03,   5.99966188e+04,\n",
       "         4.24161323e+04,  -9.71868799e+02,  -4.49945243e+03,\n",
       "        -1.26052567e+03,   4.07217551e+04,   3.22680509e+04,\n",
       "         4.72498146e+04,   5.38183188e+04,   2.49417225e+03,\n",
       "         2.32529695e+04,   3.48469120e+04,   2.31064380e+03,\n",
       "         3.29847460e+04,   6.24048937e+04,   1.59478804e+04,\n",
       "         3.76478698e+04,   1.79178504e+04,   5.44565891e+03,\n",
       "         3.01524088e+04,   2.20327571e+04,   4.22343526e+04,\n",
       "         3.05198276e+04,   4.39397693e+04,   2.38715577e+04,\n",
       "        -6.72049606e+03,   1.67765475e+02,   3.59565424e+04,\n",
       "         2.01028774e+03,   2.57137156e+04,   2.02128897e+04,\n",
       "         6.07584316e+04,   3.10730040e+04,   1.80216718e+04,\n",
       "         6.25877495e+04,  -5.78244181e+03,   1.36983906e+04,\n",
       "        -3.97711855e+03,   4.10349357e+04,   3.14754854e+04,\n",
       "         3.75000930e+04,   7.74806985e+03,   3.17359928e+03,\n",
       "         1.73751268e+04,   2.59023283e+04,   3.09582656e+04,\n",
       "         2.07173214e+04,  -6.77545855e+03,   3.82920123e+04,\n",
       "        -2.82753219e+03,  -2.47997226e+03,   4.70505922e+04,\n",
       "         4.39255765e+04,   4.95867954e+04,   2.73094157e+04,\n",
       "         8.71302110e+02,   2.64740161e+04,   2.62195192e+04,\n",
       "         5.91833191e+04,   3.18520128e+04,   5.21511580e+04,\n",
       "         4.11586191e+04,   1.71370420e+04,   6.02096077e+03,\n",
       "         4.40053079e+02,  -3.23030088e+02,   4.39269284e+04,\n",
       "         1.07928210e+03,   3.89591508e+04,  -5.80867547e+03,\n",
       "         5.11360518e+04,  -5.11778703e+03,   5.17584797e+04,\n",
       "         3.96962803e+04,  -3.71984519e+03,  -4.63364412e+03,\n",
       "        -1.76609707e+03,   1.17336513e+04,   5.25841580e+04,\n",
       "         1.99630343e+04,  -7.04774593e+02,   3.61985583e+04,\n",
       "         6.45315836e+04,   2.83001347e+04,   1.04977518e+04,\n",
       "        -1.76609707e+03,   3.62970720e+04,   2.76760607e+03,\n",
       "         1.75418864e+04,  -4.80413480e+03,   2.39138049e+04,\n",
       "         5.16734810e+04,   2.39981419e+04,  -1.63931299e+03,\n",
       "         1.92828335e+04,   1.15178637e+04,   3.92062106e+04,\n",
       "         1.34181827e+04,   1.52639376e+04,  -4.27284185e+03,\n",
       "         4.40039100e+04,   1.06500859e+04,   4.44479544e+04,\n",
       "         3.89722350e+04,   1.85854623e+04,   3.56801562e+04,\n",
       "         2.52680434e+04,   4.76606457e+04,   4.78723457e+03,\n",
       "         6.14197995e+04,   9.38424428e+03,   3.24568320e+04,\n",
       "         5.05651070e+04,   3.28187253e+04,   3.96063416e+04,\n",
       "         3.29186106e+04,   8.40836673e+03,   2.86668283e+04,\n",
       "         2.07341531e+03,   9.74106832e+03,   1.35442206e+03,\n",
       "         3.83827990e+04,   1.81947816e+03,   2.86157011e+04,\n",
       "         5.48222777e+04,   2.37020396e+04,   2.91024665e+04,\n",
       "         4.73062858e+04,   4.80410994e+04,   5.68904743e+04,\n",
       "         8.76150003e+03,  -6.45741307e+03,   3.90160722e+04,\n",
       "         8.03002922e+03,   3.20708477e+04,   3.67073346e+04,\n",
       "         2.16836822e+04,   2.73815779e+04,  -3.62788421e+03,\n",
       "         6.04760689e+03,   5.18554830e+04,  -5.67389132e+03,\n",
       "         1.60446453e+02,   4.04215304e+04,   2.17437834e+04,\n",
       "        -6.54545307e+03,   4.38179478e+04,   5.42393518e+04,\n",
       "         1.45618829e+04,   3.64002709e+04,   4.52473768e+04,\n",
       "         5.62466281e+04,   5.82118773e+04,   6.93434199e+03,\n",
       "         6.83061371e+03,   4.37477617e+04,   3.51480566e+03,\n",
       "         1.40332958e+04,  -3.76656728e+01,   4.24961785e+03,\n",
       "        -4.94229760e+03,   8.43873903e+03,   4.71322702e+04,\n",
       "         1.89251095e+04,   5.49991277e+03,  -6.33577313e+03,\n",
       "         1.98307663e+04,   1.89373693e+04,   5.02667899e+04,\n",
       "        -6.50052015e+03,   1.18936715e+04,   4.47614885e+04,\n",
       "        -6.86532016e+03,  -6.22872945e+03,   3.00071234e+04,\n",
       "         3.40892115e+04,   4.34057221e+03,   4.96803882e+04,\n",
       "         2.41836466e+04,   4.88783903e+04,   4.75736659e+03,\n",
       "         6.42897248e+04,   5.97629598e+04,   4.97708487e+04,\n",
       "        -5.80478185e+02,   4.64347820e+04,   1.89142081e+04,\n",
       "         5.59870778e+04,   5.59224377e+04,   1.87885797e+04,\n",
       "         4.63954572e+04,   6.13052054e+04,   6.42423451e+04,\n",
       "         3.57272044e+04,   3.78878548e+04,   4.95569167e+04,\n",
       "         2.28487150e+04,   5.69056602e+04,   2.55888848e+04,\n",
       "        -1.35625110e+03,   1.64606061e+04,   3.82363358e+04,\n",
       "         6.05716109e+04,   2.14926435e+04,  -6.87583146e+03,\n",
       "         2.53198504e+04,   4.02515587e+04,   8.51832517e+03,\n",
       "        -2.45950229e+03,   1.14972346e+04,   2.32170719e+04,\n",
       "         1.52715672e+04,   7.49483775e+03,   6.13643038e+04,\n",
       "         2.31931189e+04,  -5.40774285e+02,   4.00905351e+04,\n",
       "         4.26767297e+04,   4.85509903e+04,  -6.85658430e+03,\n",
       "         5.01433766e+04,  -6.89571651e+03,  -3.37195101e+03,\n",
       "         5.89356658e+03,   1.23521545e+04,   3.66983395e+04,\n",
       "         2.94399381e+04,  -6.90774552e+03,   1.38682661e+04,\n",
       "         1.40665921e+04,   5.35769907e+04,  -6.20965807e+03,\n",
       "         4.20621539e+03,   8.39126925e+03,   3.25861046e+04,\n",
       "        -5.65355034e+03,   4.68704297e+04,   3.03283087e+04,\n",
       "         3.34693561e+04,   5.44591756e+04,   2.36810317e+03,\n",
       "         5.01387557e+04,  -6.82694173e+03,   3.22634341e+04,\n",
       "         2.95477287e+04,   4.30014010e+04,   1.33339572e+04,\n",
       "         5.43905415e+04,   4.24828507e+04,   3.56969660e+04,\n",
       "         3.34889991e+04,   6.06402518e+04,   3.03867488e+04,\n",
       "         2.86719369e+04,   8.18536141e+03,   1.88323314e+04,\n",
       "        -6.59212718e+03,   4.62046885e+03,   9.75925697e+03,\n",
       "         5.95206424e+04,   3.32426933e+04,   2.73974759e+04,\n",
       "         5.21418132e+04,   4.56665828e+04,   4.62046885e+03,\n",
       "         3.59356764e+04,   1.87296960e+04,   5.86834989e+04,\n",
       "         6.59828899e+04,   4.83684704e+04,   9.64814019e+03,\n",
       "         1.36116955e+04,   1.52563063e+04,   9.93875264e+03,\n",
       "         4.45212496e+04,   2.22848069e+04,   9.75743859e+03,\n",
       "         6.35827367e+04,   4.96254289e+04,   2.42775796e+03,\n",
       "         2.93059999e+03,   3.15866955e+04,   1.16479095e+03,\n",
       "         5.16876648e+03,   4.48540030e+04,   5.86919484e+04,\n",
       "         2.13499079e+04,   3.78315730e+04,   3.11197496e+04,\n",
       "         2.15530899e+04,   2.91992173e+04,   2.49566801e+04,\n",
       "        -6.48689077e+03,   4.02247689e+04,   5.17778989e+04,\n",
       "         6.75859899e+03,   1.31631971e+04,   2.52719943e+02,\n",
       "         3.04013438e+04,   1.85193138e+04,   4.72535405e+04,\n",
       "         2.16686399e+04,   2.57915051e+04,   1.83408715e+04,\n",
       "         1.38231985e+04,   2.27978401e+04,  -3.81168264e+03,\n",
       "         1.39443340e+04,   4.09765926e+04,   5.18366547e+04,\n",
       "         5.60221117e+04,   3.47366688e+04,   5.45696857e+04,\n",
       "         5.19555690e+04,   3.49483287e+03,   1.14662653e+04,\n",
       "         2.93598804e+04,   5.02546960e+04,   2.35364124e+04,\n",
       "        -5.20935363e+02,   1.04586626e+04,   2.36796092e+04,\n",
       "         1.97564634e+04,   2.99303135e+04,   3.50869182e+04,\n",
       "         1.82324999e+04,  -5.22768178e+03,   3.07122488e+04,\n",
       "         5.73339732e+04,   7.98385522e+03,   4.38673993e+04,\n",
       "        -6.30819445e+03,   2.18050253e+04,   1.54708138e+04,\n",
       "         6.93311124e+04,   3.53932079e+04,  -5.80867547e+03,\n",
       "         1.76440823e+04,   2.29478209e+04,   2.07663894e+04,\n",
       "         8.88331187e+03,   5.18034072e+04,   4.75153340e+04,\n",
       "         9.50180824e+03,   4.79862747e+04,   5.95280058e+04,\n",
       "         3.21840352e+03,   2.28632366e+04,   3.44900055e+04,\n",
       "         5.00543304e+04,   2.34318870e+04,   2.68345149e+04,\n",
       "         2.18237504e+04,   1.41883798e+04,   3.11569116e+04,\n",
       "        -1.48750580e+03,  -2.02036007e+03,   4.26194376e+04,\n",
       "         2.40472418e+04,   9.05118908e+03,   4.63662553e+04,\n",
       "         9.58237610e+03,   1.78151056e+04,   2.87780280e+04,\n",
       "        -5.71617541e+02,   1.58461420e+04,   3.26217792e+04,\n",
       "        -3.85500138e+03,   4.68735646e+04,  -6.57866986e+03,\n",
       "         4.56898005e+03,   4.05361464e+04,   3.62482619e+04,\n",
       "         2.05686128e+04,   4.02671774e+04,   2.26715319e+04,\n",
       "        -4.47517069e+03,   2.76929122e+04,   1.02338374e+04,\n",
       "         4.79149914e+03,   5.87496410e+04,   4.09780522e+04,\n",
       "         1.30275572e+04,   6.24053238e+04,   7.19216086e+03,\n",
       "         1.50879522e+04,   2.44513611e+04,   9.65908735e+03,\n",
       "         2.99490390e+04,   2.13271146e+04,   1.97059477e+04,\n",
       "         3.65427340e+03,  -3.08223052e+02,   1.70592129e+04,\n",
       "         3.43952257e+04,   5.01901336e+04,   3.33064454e+04,\n",
       "         1.02553195e+04,   1.49341271e+04,  -5.15614111e+03,\n",
       "         8.99160337e+03,   2.35838173e+04,   1.63383560e+04,\n",
       "         3.07777629e+04,  -3.11597570e+03,   5.57379873e+04,\n",
       "        -1.38146920e+03,   3.77918870e+04,   4.67926060e+04,\n",
       "        -2.29629087e+03,   2.80659965e+04,   4.20772460e+04,\n",
       "        -5.79994686e+03,  -4.66341095e+03,   4.13036174e+04,\n",
       "         4.04729678e+03,   6.32381517e+04,   2.27468882e+04,\n",
       "        -1.15994293e+03,   2.31163547e+04,   3.94115307e+03,\n",
       "        -3.30019905e+03,   2.69377487e+04,   6.31481917e+04,\n",
       "         4.11462687e+04,   5.23906421e+04,   1.83380973e+04,\n",
       "         2.94699130e+04,   1.29488472e+04,  -5.77995677e+02,\n",
       "         6.04646156e+04,   2.33508952e+04,  -1.00441878e+03,\n",
       "         8.29039256e+03,   3.84226443e+04,  -6.88367456e+03,\n",
       "         4.44898323e+02,   3.74808789e+04,   4.31347860e+04,\n",
       "         6.08084696e+04,   4.27764380e+04,  -1.23334271e+03,\n",
       "         6.96618901e+03,   4.49265395e+04,   1.84530308e+04,\n",
       "         2.00737303e+04,   2.28559766e+04,   6.45102852e+04,\n",
       "         5.44908543e+04,   5.82218458e+04,   1.23588471e+04,\n",
       "        -5.21785545e+03,   1.74079765e+04,   1.47950458e+04,\n",
       "         5.21291668e+04,   2.94848909e+04,   3.56507205e+04,\n",
       "         3.19369115e+04,  -6.11604744e+03,   6.22534943e+03,\n",
       "         8.37416234e+03,   5.80406194e+04,   5.75738225e+03,\n",
       "         5.57695930e+03,   1.33890532e+04,  -3.44879150e+03,\n",
       "         5.83998876e+03,   3.00287576e+04,   5.07276765e+04,\n",
       "         1.61637494e+04,   2.06777829e+02,   6.15621727e+04,\n",
       "         5.11816043e+03,  -4.61874351e+03,   1.19581290e+04,\n",
       "         2.78802396e+03,   1.65984989e+04,   1.25123844e+04,\n",
       "        -6.54487972e+03,   2.30514487e+04,   6.70007429e+04,\n",
       "        -3.78618582e+03,   7.10909883e+03,  -6.61228537e+03,\n",
       "         1.97962894e+04,   2.99283419e+04,   2.17537898e+04,\n",
       "         3.78204652e+04,   9.70283745e+03,   2.09461880e+04,\n",
       "         7.65749168e+02,   3.85115575e+04,   2.37397837e+04,\n",
       "         2.34176084e+04,   8.59393224e+03,   2.78773404e+04,\n",
       "         4.11862112e+04,   4.65714791e+04,   4.01413016e+04,\n",
       "        -4.91437304e+03,  -6.47071300e+03,   4.08325407e+04,\n",
       "         1.94977502e+04,   5.80334685e+04,   2.99342566e+04,\n",
       "         2.69678008e+04,  -5.55659183e+02,  -6.48404714e+03,\n",
       "         4.65253336e+04,   2.18836001e+04,   3.77402320e+04,\n",
       "         4.77392368e+04,   3.87442815e+03,   6.85777260e+04,\n",
       "        -2.78735173e+03,   1.69348739e+04,   1.63634331e+04,\n",
       "         4.34221023e+04,   6.83114534e+04,   4.41258227e+04,\n",
       "         5.79871269e+03,   1.97498210e+04,   5.21412634e+04,\n",
       "         1.15848144e+04,   4.94953317e+04,   8.03002922e+03,\n",
       "         1.18086563e+04,   3.51480566e+03,   5.09705065e+03,\n",
       "         2.60678965e+04,  -6.41604280e+03,   2.21194589e+04,\n",
       "         3.15169940e+04,   1.29044862e+04,   1.32071953e+04,\n",
       "         3.07700616e+04,   3.93740824e+04,   3.26601585e+04,\n",
       "         2.85931815e+04,   4.08303428e+04,   4.71434800e+04,\n",
       "        -7.49602561e+02,   3.29765989e+04,  -1.38146920e+03,\n",
       "         3.48193823e+04,   3.88790074e+04,   5.40802650e+04,\n",
       "         1.10067382e+04,   4.57285946e+04,   4.08998815e+04,\n",
       "         2.99184818e+04,   4.63268619e+04,   5.45536205e+04,\n",
       "         2.98345605e+04,   3.82802566e+04,   3.06002103e+04,\n",
       "         5.83586359e+03,  -5.67612861e+03,   5.14558210e+03,\n",
       "         3.88320328e+03,   9.73560964e+03,   3.26181219e+04,\n",
       "         6.41221449e+03,   4.40369518e+04,   5.54991039e+03,\n",
       "         3.87930218e+03,   3.31175570e+04,   1.32820140e+04,\n",
       "         4.66604568e+04,   6.23252415e+04,   5.57601445e+04,\n",
       "         2.03618995e+04,   4.37677545e+04,   5.40456450e+04,\n",
       "         6.50104874e+04,  -2.40834220e+03,   1.28896852e+04,\n",
       "         2.07250618e+04,   3.46874691e+04,   5.95160397e+04,\n",
       "         2.32326322e+04,   5.33865273e+04,  -6.86966206e+03,\n",
       "         5.97510599e+04,   2.31451618e+04,  -6.52481387e+03,\n",
       "        -4.45913953e+03,   4.30449919e+04,   5.96607741e+03,\n",
       "         7.77909470e+03,   4.33851048e+04,   2.94459352e+04,\n",
       "         4.48672015e+04,  -6.73478224e+03,   2.96074704e+04])"
      ]
     },
     "execution_count": 142,
     "metadata": {},
     "output_type": "execute_result"
    }
   ],
   "source": [
    "chal2mod.predict(Xtrain)"
   ]
  },
  {
   "cell_type": "code",
   "execution_count": 143,
   "metadata": {
    "collapsed": false
   },
   "outputs": [],
   "source": [
    "insampleMSE = metrics.mean_squared_error(ytrain, chal2mod.predict(Xtrain))"
   ]
  },
  {
   "cell_type": "code",
   "execution_count": 144,
   "metadata": {
    "collapsed": false
   },
   "outputs": [],
   "source": [
    "outsampleMSE = metrics.mean_squared_error(ytest, chal2mod.predict(Xtest))"
   ]
  },
  {
   "cell_type": "code",
   "execution_count": 145,
   "metadata": {
    "collapsed": false
   },
   "outputs": [
    {
     "name": "stdout",
     "output_type": "stream",
     "text": [
      "In Sample M.S. Error is 39580152.705275,\n",
      " Out of Sample Error is 36635732.121558 \n"
     ]
    }
   ],
   "source": [
    "print(\"In Sample M.S. Error is %f,\\n Out of Sample Error is %f \" % (insampleMSE, outsampleMSE))"
   ]
  },
  {
   "cell_type": "markdown",
   "metadata": {},
   "source": [
    "# Challenge 3\n",
    "\n",
    "For the data from two (above), try polynomial fits from 0th (just constant) to 7th order (highest term x^7). Over the x axis of model degree (8 points), plot:\n",
    "\n",
    "+ training error\n",
    "+ test error\n",
    "+ R squared\n",
    "+ AIC"
   ]
  },
  {
   "cell_type": "code",
   "execution_count": 146,
   "metadata": {
    "collapsed": false
   },
   "outputs": [],
   "source": [
    "from sklearn.preprocessing import PolynomialFeatures as PF\n",
    "from sklearn.pipeline import make_pipeline"
   ]
  },
  {
   "cell_type": "code",
   "execution_count": 148,
   "metadata": {
    "collapsed": false
   },
   "outputs": [
    {
     "data": {
      "text/plain": [
       "699"
      ]
     },
     "execution_count": 148,
     "metadata": {},
     "output_type": "execute_result"
    }
   ],
   "source": [
    "Xtrain.shape[0]"
   ]
  },
  {
   "cell_type": "code",
   "execution_count": 149,
   "metadata": {
    "collapsed": false
   },
   "outputs": [],
   "source": [
    "from pprint import pprint\n",
    "from collections import OrderedDict\n",
    "evals=OrderedDict()\n",
    "evals={'Degree':[],'TrainingErr':[], 'TestErr':[],'Rsquared':[],'AIC':[]}\n",
    "\n",
    "\n",
    "for i in range(0,8):\n",
    "    chal4mod = make_pipeline(PF(i, include_bias=True), LinearRegression(fit_intercept=False, normalize=True))\n",
    "    chal4mod.fit(Xtrain.drop('xsquared',axis=1), ytrain)\n",
    "    \n",
    "    evals['Degree'].append(i)\n",
    "    evals['TrainingErr'].append(metrics.mean_squared_error(ytrain, chal4mod.predict(Xtrain.drop('xsquared',axis=1))))\n",
    "    evals['TestErr'].append(metrics.mean_squared_error(ytest, chal4mod.predict(Xtest.drop('xsquared',axis=1))))\n",
    "    evals['Rsquared'].append(chal4mod.score(Xtrain.drop('xsquared',axis=1), ytrain))\n",
    "    evals['AIC'].append((2*i + Xtrain.shape[0]*np.log(metrics.mean_squared_error(ytrain, chal4mod.predict(Xtrain.drop('xsquared',axis=1)))/Xtrain.shape[0])))\n",
    "    "
   ]
  },
  {
   "cell_type": "code",
   "execution_count": 150,
   "metadata": {
    "collapsed": false
   },
   "outputs": [
    {
     "name": "stdout",
     "output_type": "stream",
     "text": [
      "{'AIC': [9368.686100451645,\n",
      "         8605.9835824166439,\n",
      "         7653.987142213834,\n",
      "         6495.5159526059506,\n",
      "         5005.0908986604672,\n",
      "         3331.8609282549642,\n",
      "         1557.0248230838804,\n",
      "         -390.4942940916078],\n",
      " 'Degree': [0, 1, 2, 3, 4, 5, 6, 7],\n",
      " 'Rsquared': [-2.2204460492503131e-16,\n",
      "              0.66512401798790544,\n",
      "              0.91446219122596117,\n",
      "              0.98373898046410302,\n",
      "              0.99807738759245312,\n",
      "              0.99982499216061371,\n",
      "              0.99998622490719147,\n",
      "              0.99999915308040666],\n",
      " 'TestErr': [514222780.66396731,\n",
      "             152575458.18795285,\n",
      "             36635732.121553183,\n",
      "             6281861.1331605669,\n",
      "             805580.46779982303,\n",
      "             81343.650970175149,\n",
      "             5854.7026470011233,\n",
      "             270.76087833776751],\n",
      " 'TrainingErr': [462721143.69719613,\n",
      "                 154954197.39335805,\n",
      "                 39580152.705275312,\n",
      "                 7524317.557332675,\n",
      "                 889633.41210646764,\n",
      "                 80979.827596854098,\n",
      "                 6374.0266989655283,\n",
      "                 391.88760280744742]}\n"
     ]
    }
   ],
   "source": [
    "pprint(evals)"
   ]
  },
  {
   "cell_type": "code",
   "execution_count": 171,
   "metadata": {
    "collapsed": false
   },
   "outputs": [
    {
     "data": {
      "image/png": "[encoded data removed]",
      "text/plain": [
       "<matplotlib.figure.Figure at 0x106473450>"
      ]
     },
     "execution_count": 171,
     "metadata": {},
     "output_type": "execute_result"
    },
    {
     "data": {
      "image/png": "[encoded data removed]",
      "text/plain": [
       "<matplotlib.figure.Figure at 0x106473450>"
      ]
     },
     "metadata": {},
     "output_type": "display_data"
    }
   ],
   "source": [
    "fig,axes = plt.subplots(1,1,figsize=(15,5))\n",
    "fig"
   ]
  },
  {
   "cell_type": "code",
   "execution_count": 184,
   "metadata": {
    "collapsed": false
   },
   "outputs": [
    {
     "data": {
      "text/plain": [
       "<matplotlib.legend.Legend at 0x126e04c50>"
      ]
     },
     "execution_count": 184,
     "metadata": {},
     "output_type": "execute_result"
    },
    {
     "data": {
      "image/png": "[encoded data removed]",
      "text/plain": [
       "<matplotlib.figure.Figure at 0x12661f690>"
      ]
     },
     "metadata": {},
     "output_type": "display_data"
    }
   ],
   "source": [
    "\n",
    "fig,(ax1,ax2,ax3) = plt.subplots(3,1,figsize=(15,10))\n",
    "ax1.plot(evals['Degree'], evals['Rsquared'], label='Rsquared', color='blue')\n",
    "ax2.plot(evals['Degree'], evals['TrainingErr'], label='Training Error', color='orange')\n",
    "ax2.plot(evals['Degree'], evals['TestErr'], label='Test Error', color='red')\n",
    "ax3.plot(evals['Degree'], evals['AIC'], label='AIC', color='pink')\n",
    "\n",
    "\n",
    "\n",
    "\n",
    "#ax.set_ylim((-150, 150))\n",
    "#ax.set_xlim((0, 1))\n",
    "#ax.set_ylabel('y')\n",
    "ax2.set_xlabel('Polynomial Degrees')\n",
    "ax1.set_ylabel('Model r-squared')\n",
    "ax2.set_ylabel('Error Scale')\n",
    "ax3.set_ylabel('AIC')\n",
    "ax1.legend()\n",
    "ax2.legend()\n",
    "ax3.legend()"
   ]
  },
  {
   "cell_type": "markdown",
   "metadata": {},
   "source": [
    "# Challenge 4\n",
    "\n",
    "For the data from two (above), fit a model to only the first 5 of your data points (m=5). Then to first 10 (m=10). Then to first 15 (m=15). In this manner, keep fitting until you fit your entire training set. For each step, calculate the training error and the test error. Plot both (in the same plot) over m. This is called a learning curve."
   ]
  },
  {
   "cell_type": "code",
   "execution_count": 69,
   "metadata": {
    "collapsed": false
   },
   "outputs": [],
   "source": [
    "Xtrain, Xtest, ytrain, ytest = train_test_split(dat2, y, train_size=0.7)"
   ]
  },
  {
   "cell_type": "code",
   "execution_count": 185,
   "metadata": {
    "collapsed": true
   },
   "outputs": [
    {
     "name": "stdout",
     "output_type": "stream",
     "text": [
      "{'TestErr': [154047984.82534775,\n",
      "             79917798.704454288,\n",
      "             24022575.860574048,\n",
      "             23863921.10153706,\n",
      "             68816014.034566164,\n",
      "             62151676.185215786,\n",
      "             295646632.34827882,\n",
      "             274911870.81621104,\n",
      "             206278289.06818971,\n",
      "             62592844.381679803,\n",
      "             58667779.249250256,\n",
      "             53909882.133498222,\n",
      "             53544929.831880532,\n",
      "             55720639.038008451,\n",
      "             54884943.260954641,\n",
      "             52324668.467084005,\n",
      "             51187642.547920674,\n",
      "             54241278.192709014,\n",
      "             50993247.034532458,\n",
      "             53244034.297921762,\n",
      "             52113526.417483665,\n",
      "             51119927.723801441,\n",
      "             50058580.767365843,\n",
      "             47919873.057436422,\n",
      "             49078651.271916874,\n",
      "             51376022.270054653,\n",
      "             51778486.613519497,\n",
      "             49408761.582813032,\n",
      "             48181508.460487522,\n",
      "             51637507.732561037,\n",
      "             51160022.624183238,\n",
      "             50539572.644888647,\n",
      "             48697669.687252522,\n",
      "             48126652.680667706,\n",
      "             47257495.983255126,\n",
      "             46689297.651491098,\n",
      "             46070160.023152776,\n",
      "             44588174.208032988,\n",
      "             44406928.374376461,\n",
      "             43974018.496717393,\n",
      "             43631027.218255907,\n",
      "             43604642.015989497,\n",
      "             43268141.354708649,\n",
      "             42961510.216957852,\n",
      "             42523836.139242865,\n",
      "             42071985.095081493,\n",
      "             41603227.900300898,\n",
      "             41477355.951206401,\n",
      "             41516521.70911032,\n",
      "             41743577.948195554,\n",
      "             41195804.678298883,\n",
      "             45133438.502629429,\n",
      "             44779226.49829822,\n",
      "             44170895.359500326,\n",
      "             43765796.941793866,\n",
      "             44464328.690116279,\n",
      "             44680229.067777999,\n",
      "             43745100.189749174,\n",
      "             42918639.123758532,\n",
      "             42094202.674303032,\n",
      "             41918939.563537508,\n",
      "             41639142.235892795,\n",
      "             41646595.703517012,\n",
      "             41360214.210178606,\n",
      "             41322349.147285625,\n",
      "             41320410.576956175,\n",
      "             41613635.662238948,\n",
      "             41565711.731386639,\n",
      "             41510288.561148122,\n",
      "             41518914.793696687,\n",
      "             41457299.983633593,\n",
      "             41186407.519393742,\n",
      "             40946271.544070482,\n",
      "             40924478.354178794,\n",
      "             40337369.201156706,\n",
      "             40278505.77091819,\n",
      "             40020690.15125788,\n",
      "             39929298.49660898,\n",
      "             39900935.885398656,\n",
      "             39808826.267039351,\n",
      "             39714434.066435419,\n",
      "             39649084.998806119,\n",
      "             39559957.254416317,\n",
      "             39479154.270514369,\n",
      "             39462782.673187755,\n",
      "             39439824.731457822,\n",
      "             39364319.529820427,\n",
      "             38926955.908330202,\n",
      "             39710927.666461334,\n",
      "             39560139.967673726,\n",
      "             39546260.833800852,\n",
      "             39541488.60519322,\n",
      "             39563892.986008592,\n",
      "             39467071.327147536,\n",
      "             39439739.653712168,\n",
      "             39468562.073350169,\n",
      "             39271868.140304744,\n",
      "             39087412.455328189,\n",
      "             39068024.595143683,\n",
      "             39076681.085197411,\n",
      "             39076379.31001316,\n",
      "             38928602.230412371,\n",
      "             38896498.836135797,\n",
      "             38947253.473586567,\n",
      "             38790925.931994632,\n",
      "             38605282.747659259,\n",
      "             38482258.533608727,\n",
      "             38479978.331525005,\n",
      "             38399345.97263369,\n",
      "             38345906.717939861,\n",
      "             38024881.693535477,\n",
      "             37928732.227084011,\n",
      "             37891342.978645645,\n",
      "             37827793.805897519,\n",
      "             37823998.869726546,\n",
      "             37718608.79366491,\n",
      "             37442713.063023232,\n",
      "             37432639.551096626,\n",
      "             37434977.076918848,\n",
      "             37433898.38400045,\n",
      "             37456543.298336282,\n",
      "             37393517.14001222,\n",
      "             37405293.947626941,\n",
      "             37166412.675296701,\n",
      "             36957371.578298129,\n",
      "             36927060.143498182,\n",
      "             36917139.659628637,\n",
      "             36905500.366336696,\n",
      "             36931617.992975183,\n",
      "             36972023.657293968,\n",
      "             36957939.719600953,\n",
      "             36946032.885423101,\n",
      "             36951718.49468977,\n",
      "             37034228.866835363,\n",
      "             36889303.743259698,\n",
      "             36732976.540033013,\n",
      "             36660086.315733247,\n",
      "             36532950.007340416,\n",
      "             36663597.17384392],\n",
      " 'TrainErr': [1678224.0680107209,\n",
      "              3090251.3142093662,\n",
      "              29397543.885988314,\n",
      "              26253465.229151115,\n",
      "              26193153.990047064,\n",
      "              24928581.027420666,\n",
      "              22626703.918300658,\n",
      "              21110010.424059119,\n",
      "              21315957.076791611,\n",
      "              71430629.583549306,\n",
      "              68903137.387592122,\n",
      "              66640797.664191529,\n",
      "              63789333.630082622,\n",
      "              63169610.571919575,\n",
      "              60057735.818087108,\n",
      "              57788922.954994895,\n",
      "              57334262.893756092,\n",
      "              55769716.684730984,\n",
      "              54514756.386248089,\n",
      "              54673490.866464585,\n",
      "              54439143.733963966,\n",
      "              53100124.777459957,\n",
      "              51757386.438719161,\n",
      "              52412763.369232498,\n",
      "              51351805.307287298,\n",
      "              50624919.57223364,\n",
      "              49534788.260746732,\n",
      "              51718536.669736534,\n",
      "              50786317.381901599,\n",
      "              49750044.073255874,\n",
      "              49379383.314214893,\n",
      "              48148892.574061595,\n",
      "              48235871.419192344,\n",
      "              47119733.74078618,\n",
      "              46297469.675016753,\n",
      "              45783421.288170211,\n",
      "              45009871.243418604,\n",
      "              46135554.22809957,\n",
      "              45580439.027935266,\n",
      "              44929651.934132442,\n",
      "              44235083.314742781,\n",
      "              43509548.524538241,\n",
      "              43631467.624879353,\n",
      "              43138889.058028363,\n",
      "              42375386.185988359,\n",
      "              42013272.011327073,\n",
      "              41597546.109686464,\n",
      "              41237704.958591014,\n",
      "              40827691.880491637,\n",
      "              40614857.803587385,\n",
      "              40107883.301118851,\n",
      "              43779910.010037526,\n",
      "              43290961.595363878,\n",
      "              42819683.668792777,\n",
      "              42528080.927231483,\n",
      "              42481441.244947709,\n",
      "              41892778.494116798,\n",
      "              43047168.369093686,\n",
      "              42924250.620099753,\n",
      "              44153869.291192129,\n",
      "              44022292.634069093,\n",
      "              44363950.859024636,\n",
      "              43919931.096504845,\n",
      "              44031373.80019331,\n",
      "              43664216.798582293,\n",
      "              43414634.858600549,\n",
      "              43362374.948706888,\n",
      "              43175370.163196325,\n",
      "              42859645.796137206,\n",
      "              42665767.888405122,\n",
      "              42379429.048476085,\n",
      "              42536989.243791923,\n",
      "              42597328.074549943,\n",
      "              42231413.21830707,\n",
      "              43139075.453565769,\n",
      "              42740204.607144549,\n",
      "              42923791.980860643,\n",
      "              42749723.943675496,\n",
      "              42596943.705904149,\n",
      "              42376937.232916541,\n",
      "              42033317.15538121,\n",
      "              41823143.067741401,\n",
      "              41613701.774733402,\n",
      "              41306400.140405089,\n",
      "              41030438.832772791,\n",
      "              40868941.915970586,\n",
      "              40775825.652701609,\n",
      "              42081365.574285753,\n",
      "              42397272.236418791,\n",
      "              42216498.706559435,\n",
      "              41965445.802644178,\n",
      "              41790790.107216164,\n",
      "              41487591.767048612,\n",
      "              41214675.436716326,\n",
      "              41083229.488104433,\n",
      "              40869706.47197596,\n",
      "              40822738.366515592,\n",
      "              40908801.363554753,\n",
      "              40721162.500803344,\n",
      "              40449429.778448112,\n",
      "              40241461.811876625,\n",
      "              40133892.529632069,\n",
      "              39925676.6349084,\n",
      "              39789087.493726835,\n",
      "              40042739.503744029,\n",
      "              40303655.706454076,\n",
      "              40339843.172330923,\n",
      "              40223469.474088632,\n",
      "              40227253.713688478,\n",
      "              39954990.8840276,\n",
      "              40400324.579336494,\n",
      "              40239029.664757922,\n",
      "              40081397.692479476,\n",
      "              39952293.970690154,\n",
      "              39719547.262687325,\n",
      "              39777148.156877764,\n",
      "              40361539.332100451,\n",
      "              40296057.488640636,\n",
      "              40100009.582125157,\n",
      "              39947396.050667368,\n",
      "              39853486.553817272,\n",
      "              39814547.603274703,\n",
      "              39701846.257071182,\n",
      "              40351610.145608671,\n",
      "              40901733.637377001,\n",
      "              40629609.464194395,\n",
      "              40476311.76547274,\n",
      "              40318357.170806617,\n",
      "              40151619.857322291,\n",
      "              40030485.86243666,\n",
      "              39833613.961684905,\n",
      "              39699378.957401246,\n",
      "              39499016.766492181,\n",
      "              39275753.572555199,\n",
      "              39385227.227052554,\n",
      "              39667292.451557271,\n",
      "              39648478.336192369,\n",
      "              39772011.341539666,\n",
      "              39624879.379876919],\n",
      " 'numObs': [5,\n",
      "            10,\n",
      "            15,\n",
      "            20,\n",
      "            25,\n",
      "            30,\n",
      "            35,\n",
      "            40,\n",
      "            45,\n",
      "            50,\n",
      "            55,\n",
      "            60,\n",
      "            65,\n",
      "            70,\n",
      "            75,\n",
      "            80,\n",
      "            85,\n",
      "            90,\n",
      "            95,\n",
      "            100,\n",
      "            105,\n",
      "            110,\n",
      "            115,\n",
      "            120,\n",
      "            125,\n",
      "            130,\n",
      "            135,\n",
      "            140,\n",
      "            145,\n",
      "            150,\n",
      "            155,\n",
      "            160,\n",
      "            165,\n",
      "            170,\n",
      "            175,\n",
      "            180,\n",
      "            185,\n",
      "            190,\n",
      "            195,\n",
      "            200,\n",
      "            205,\n",
      "            210,\n",
      "            215,\n",
      "            220,\n",
      "            225,\n",
      "            230,\n",
      "            235,\n",
      "            240,\n",
      "            245,\n",
      "            250,\n",
      "            255,\n",
      "            260,\n",
      "            265,\n",
      "            270,\n",
      "            275,\n",
      "            280,\n",
      "            285,\n",
      "            290,\n",
      "            295,\n",
      "            300,\n",
      "            305,\n",
      "            310,\n",
      "            315,\n",
      "            320,\n",
      "            325,\n",
      "            330,\n",
      "            335,\n",
      "            340,\n",
      "            345,\n",
      "            350,\n",
      "            355,\n",
      "            360,\n",
      "            365,\n",
      "            370,\n",
      "            375,\n",
      "            380,\n",
      "            385,\n",
      "            390,\n",
      "            395,\n",
      "            400,\n",
      "            405,\n",
      "            410,\n",
      "            415,\n",
      "            420,\n",
      "            425,\n",
      "            430,\n",
      "            435,\n",
      "            440,\n",
      "            445,\n",
      "            450,\n",
      "            455,\n",
      "            460,\n",
      "            465,\n",
      "            470,\n",
      "            475,\n",
      "            480,\n",
      "            485,\n",
      "            490,\n",
      "            495,\n",
      "            500,\n",
      "            505,\n",
      "            510,\n",
      "            515,\n",
      "            520,\n",
      "            525,\n",
      "            530,\n",
      "            535,\n",
      "            540,\n",
      "            545,\n",
      "            550,\n",
      "            555,\n",
      "            560,\n",
      "            565,\n",
      "            570,\n",
      "            575,\n",
      "            580,\n",
      "            585,\n",
      "            590,\n",
      "            595,\n",
      "            600,\n",
      "            605,\n",
      "            610,\n",
      "            615,\n",
      "            620,\n",
      "            625,\n",
      "            630,\n",
      "            635,\n",
      "            640,\n",
      "            645,\n",
      "            650,\n",
      "            655,\n",
      "            660,\n",
      "            665,\n",
      "            670,\n",
      "            675,\n",
      "            680,\n",
      "            685,\n",
      "            690,\n",
      "            695]}\n"
     ]
    }
   ],
   "source": [
    "lcurve=OrderedDict()\n",
    "lcurve={'numObs':[], 'TrainErr':[],'TestErr':[]}\n",
    "for i in range(5,Xtrain.shape[0],5):\n",
    "    chal5mod = LinearRegression(fit_intercept=True, normalize=True)\n",
    "    chal5mod.fit(Xtrain.iloc[:i,:], ytrain.iloc[:i])\n",
    "    \n",
    "    lcurve['numObs'].append(i)\n",
    "    lcurve['TrainErr'].append(metrics.mean_squared_error(ytrain.iloc[:i], chal5mod.predict(Xtrain.iloc[:i,:])))\n",
    "    lcurve['TestErr'].append(metrics.mean_squared_error(ytest.iloc[:i], chal5mod.predict(Xtest.iloc[:i,:])))\n",
    "\n",
    "pprint(lcurve)\n",
    "    \n",
    "\n"
   ]
  },
  {
   "cell_type": "code",
   "execution_count": 190,
   "metadata": {
    "collapsed": false
   },
   "outputs": [
    {
     "data": {
      "text/plain": [
       "<matplotlib.legend.Legend at 0x128088110>"
      ]
     },
     "execution_count": 190,
     "metadata": {},
     "output_type": "execute_result"
    },
    {
     "data": {
      "image/png": "[encoded data removed]",
      "text/plain": [
       "<matplotlib.figure.Figure at 0x127ec62d0>"
      ]
     },
     "metadata": {},
     "output_type": "display_data"
    }
   ],
   "source": [
    "fig,ax1 = plt.subplots(1,1,figsize=(15,10))\n",
    "ax1.plot(lcurve['numObs'], lcurve['TrainErr'], label='Training Error', color='orange')\n",
    "ax1.plot(lcurve['numObs'], lcurve['TestErr'], label='Testing Error', color='red')\n",
    "\n",
    "\n",
    "#ax.set_ylim((-150, 150))\n",
    "#ax.set_xlim((0, 1))\n",
    "#ax.set_ylabel('y')\n",
    "ax1.set_ylabel('Error Scale')\n",
    "ax1.set_xlabel('# of Observations')\n",
    "ax1.set_title('Learning Curves for \\n y ~ b0 + b1*log(x)+ b2*x^2')\n",
    "ax1.legend()\n"
   ]
  },
  {
   "cell_type": "code",
   "execution_count": null,
   "metadata": {
    "collapsed": true
   },
   "outputs": [],
   "source": []
  }
 ],
 "metadata": {
  "kernelspec": {
   "display_name": "Python 2",
   "language": "python",
   "name": "python2"
  },
  "language_info": {
   "codemirror_mode": {
    "name": "ipython",
    "version": 2
   },
   "file_extension": ".py",
   "mimetype": "text/x-python",
   "name": "python",
   "nbconvert_exporter": "python",
   "pygments_lexer": "ipython2",
   "version": "2.7.11"
  }
 },
 "nbformat": 4,
 "nbformat_minor": 0
}
