{
 "cells": [
  {
   "cell_type": "code",
   "execution_count": 58,
   "metadata": {
    "collapsed": false
   },
   "outputs": [],
   "source": [
    "import numpy as np\n",
    "from collections import Counter\n",
    "import re\n",
    "\n",
    "def count_occ(word):\n",
    "    \"\"\"count # of occurences of each letter in the word and pass back counts\"\"\"\n",
    "    word = re.sub('[^\\w]','',word)\n",
    "    wordList = list(word.lower())\n",
    "    return Counter(wordList)\n",
    "    "
   ]
  },
  {
   "cell_type": "code",
   "execution_count": 59,
   "metadata": {
    "collapsed": true
   },
   "outputs": [],
   "source": [
    "a = 'ABbCcc'\n",
    "b = 'Good luck in the Facebook Hacker Cup this year!'\n",
    "c = 'Ignore punctuation, please :)'\n",
    "d = 'Sometimes test cases are hard to make up.'\n",
    "e = 'So I just go consult Professor Dalves'"
   ]
  },
  {
   "cell_type": "code",
   "execution_count": 61,
   "metadata": {
    "collapsed": false
   },
   "outputs": [
    {
     "data": {
      "text/plain": [
       "Counter({'a': 3,\n",
       "         'b': 1,\n",
       "         'c': 4,\n",
       "         'd': 1,\n",
       "         'e': 4,\n",
       "         'f': 1,\n",
       "         'g': 1,\n",
       "         'h': 3,\n",
       "         'i': 2,\n",
       "         'k': 3,\n",
       "         'l': 1,\n",
       "         'n': 1,\n",
       "         'o': 4,\n",
       "         'p': 1,\n",
       "         'r': 2,\n",
       "         's': 1,\n",
       "         't': 2,\n",
       "         'u': 2,\n",
       "         'y': 1})"
      ]
     },
     "execution_count": 61,
     "metadata": {},
     "output_type": "execute_result"
    }
   ],
   "source": [
    "count_occ(b)"
   ]
  },
  {
   "cell_type": "code",
   "execution_count": 18,
   "metadata": {
    "collapsed": false
   },
   "outputs": [],
   "source": [
    "alphabet = range(1,27)\n",
    "\n"
   ]
  },
  {
   "cell_type": "code",
   "execution_count": null,
   "metadata": {
    "collapsed": true
   },
   "outputs": [],
   "source": [
    "def max_beauty(string):\n",
    "    counts = count_occ(string)\n",
    "    \n",
    "    bf = pd.DataFrame()\n",
    "    "
   ]
  }
 ],
 "metadata": {
  "kernelspec": {
   "display_name": "Python 2",
   "language": "python",
   "name": "python2"
  },
  "language_info": {
   "codemirror_mode": {
    "name": "ipython",
    "version": 2
   },
   "file_extension": ".py",
   "mimetype": "text/x-python",
   "name": "python",
   "nbconvert_exporter": "python",
   "pygments_lexer": "ipython2",
   "version": "2.7.11"
  }
 },
 "nbformat": 4,
 "nbformat_minor": 0
}
