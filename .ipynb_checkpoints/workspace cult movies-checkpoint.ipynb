{
 "cells": [
  {
   "cell_type": "code",
   "execution_count": 1,
   "metadata": {
    "collapsed": true
   },
   "outputs": [],
   "source": [
    "import pandas as pd\n",
    "import numpy as np\n",
    "import matplotlib.pyplot as plt\n",
    "import seaborn as sns\n",
    "from pprint import pprint\n",
    "import pickle\n",
    "import re\n",
    "%matplotlib inline"
   ]
  },
  {
   "cell_type": "code",
   "execution_count": 2,
   "metadata": {
    "collapsed": true
   },
   "outputs": [],
   "source": [
    "with open(r\"Movie_DF_latest_apr24_10pm.p\", \"rb\") as input_file:\n",
    "    mov = pickle.load(input_file)"
   ]
  },
  {
   "cell_type": "code",
   "execution_count": 34,
   "metadata": {
    "collapsed": false
   },
   "outputs": [],
   "source": [
    "#bomojo_adj = pd.read_csv('./bomojo_ticket_price_adjuster.csv',header=0)\n",
    "#bomojo_adj.columns=bomojo_adj.columns.str.replace('\\.\\s','')\n",
    "#bomojo_adj.AvgPrice = bomojo_adj.AvgPrice.str.replace('$','').astype('float')\n",
    "#bomojo_adj.head()\n",
    "\n",
    "cpi = pd.read_csv(\"./cpi_by_year.csv\", header=0)\n",
    "cpi.columns=cpi.columns.str.replace('\\.\\s','')\n",
    "cpi['CPI']=cpi.CPI.astype('float')\n",
    "cpi['year']=cpi.year.astype('int')"
   ]
  },
  {
   "cell_type": "code",
   "execution_count": 5,
   "metadata": {
    "collapsed": true
   },
   "outputs": [],
   "source": [
    "mov['releaseYear'] = mov.releaseDate.apply(lambda val: val.year)"
   ]
  },
  {
   "cell_type": "code",
   "execution_count": 35,
   "metadata": {
    "collapsed": false
   },
   "outputs": [],
   "source": [
    "#mov=mov.merge(bomojo_adj, left_on='releaseYear', right_on='Year', how='left')\n",
    "#mov['AvgPrice']=mov.AvgPrice.astype('float')\n",
    "mov=mov.merge(cpi, left_on='releaseYear', right_on='year', how='left')\n"
   ]
  },
  {
   "cell_type": "code",
   "execution_count": 12,
   "metadata": {
    "collapsed": false
   },
   "outputs": [],
   "source": [
    "mov['rev_opening_ADJ'] = (mov.rev_opening/mov.AvgPrice)*8.58"
   ]
  },
  {
   "cell_type": "code",
   "execution_count": 16,
   "metadata": {
    "collapsed": false
   },
   "outputs": [],
   "source": [
    "mov['rev_totalGross_ADJ'] = (mov.rev_totalGross/mov.AvgPrice)*8.58 #2016 ticket prices"
   ]
  },
  {
   "cell_type": "code",
   "execution_count": 20,
   "metadata": {
    "collapsed": false
   },
   "outputs": [],
   "source": [
    "mov['rev_postOpening'] = mov.rev_totalGross_ADJ - mov.rev_opening_ADJ "
   ]
  },
  {
   "cell_type": "code",
   "execution_count": 37,
   "metadata": {
    "collapsed": false
   },
   "outputs": [],
   "source": [
    "mov['prod_budget_ADJ'] = (mov.prod_budget/mov.CPI) * 238 #2016 CPI"
   ]
  },
  {
   "cell_type": "code",
   "execution_count": 38,
   "metadata": {
    "collapsed": false
   },
   "outputs": [
    {
     "data": {
      "text/html": [
       "<div>\n",
       "<table border=\"1\" class=\"dataframe\">\n",
       "  <thead>\n",
       "    <tr style=\"text-align: right;\">\n",
       "      <th></th>\n",
       "      <th>director</th>\n",
       "      <th>distributor</th>\n",
       "      <th>genre_bomojo</th>\n",
       "      <th>rating</th>\n",
       "      <th>title</th>\n",
       "      <th>releaseDate</th>\n",
       "      <th>canontitle</th>\n",
       "      <th>rev_totalGross</th>\n",
       "      <th>rev_opening</th>\n",
       "      <th>num_theaters</th>\n",
       "      <th>...</th>\n",
       "      <th>leadActor</th>\n",
       "      <th>runtime_mins</th>\n",
       "      <th>releaseYear</th>\n",
       "      <th>Year</th>\n",
       "      <th>AvgPrice</th>\n",
       "      <th>rev_opening_ADJ</th>\n",
       "      <th>rev_totalGross_ADJ</th>\n",
       "      <th>year</th>\n",
       "      <th>CPI</th>\n",
       "      <th>prod_budget_ADJ</th>\n",
       "    </tr>\n",
       "  </thead>\n",
       "  <tbody>\n",
       "    <tr>\n",
       "      <th>0</th>\n",
       "      <td>George Seaton</td>\n",
       "      <td>Universal</td>\n",
       "      <td>Drama / Thriller</td>\n",
       "      <td>G</td>\n",
       "      <td>Airport</td>\n",
       "      <td>1970-03-05</td>\n",
       "      <td>airport</td>\n",
       "      <td>5.747979e+08</td>\n",
       "      <td>NaN</td>\n",
       "      <td>NaN</td>\n",
       "      <td>...</td>\n",
       "      <td>Burt Lancaster</td>\n",
       "      <td>137</td>\n",
       "      <td>1970</td>\n",
       "      <td>1970</td>\n",
       "      <td>1.5</td>\n",
       "      <td>NaN</td>\n",
       "      <td>5.747979e+08</td>\n",
       "      <td>1970</td>\n",
       "      <td>38.800</td>\n",
       "      <td>61340206.185567</td>\n",
       "    </tr>\n",
       "    <tr>\n",
       "      <th>1</th>\n",
       "      <td>Ted Post</td>\n",
       "      <td>Fox</td>\n",
       "      <td>Sci-Fi Adventure</td>\n",
       "      <td>G</td>\n",
       "      <td>Beneath the Planet of the Apes</td>\n",
       "      <td>1970-05-27</td>\n",
       "      <td>beneaththeplanetoftheapes</td>\n",
       "      <td>1.086784e+08</td>\n",
       "      <td>NaN</td>\n",
       "      <td>NaN</td>\n",
       "      <td>...</td>\n",
       "      <td>James Franciscus</td>\n",
       "      <td>95</td>\n",
       "      <td>1970</td>\n",
       "      <td>1970</td>\n",
       "      <td>1.5</td>\n",
       "      <td>NaN</td>\n",
       "      <td>1.086784e+08</td>\n",
       "      <td>1970</td>\n",
       "      <td>38.800</td>\n",
       "      <td>0.000000</td>\n",
       "    </tr>\n",
       "    <tr>\n",
       "      <th>2</th>\n",
       "      <td>Jack Woods</td>\n",
       "      <td>IRS Media</td>\n",
       "      <td>Unknown</td>\n",
       "      <td>R</td>\n",
       "      <td>Equinox</td>\n",
       "      <td>1993-06-11</td>\n",
       "      <td>equinox</td>\n",
       "      <td>5.851706e+05</td>\n",
       "      <td>6310</td>\n",
       "      <td>1740</td>\n",
       "      <td>...</td>\n",
       "      <td>Frank Bonner</td>\n",
       "      <td>110</td>\n",
       "      <td>1993</td>\n",
       "      <td>1993</td>\n",
       "      <td>4.1</td>\n",
       "      <td>13204.829268</td>\n",
       "      <td>5.851706e+05</td>\n",
       "      <td>1993</td>\n",
       "      <td>144.500</td>\n",
       "      <td>0.000000</td>\n",
       "    </tr>\n",
       "    <tr>\n",
       "      <th>3</th>\n",
       "      <td>Richard Rush</td>\n",
       "      <td>Columbia</td>\n",
       "      <td>Drama</td>\n",
       "      <td>R</td>\n",
       "      <td>Getting Straight</td>\n",
       "      <td>1970-05-13</td>\n",
       "      <td>gettingstraight</td>\n",
       "      <td>7.607600e+07</td>\n",
       "      <td>NaN</td>\n",
       "      <td>NaN</td>\n",
       "      <td>...</td>\n",
       "      <td>Elliott Gould</td>\n",
       "      <td>124</td>\n",
       "      <td>1970</td>\n",
       "      <td>1970</td>\n",
       "      <td>1.5</td>\n",
       "      <td>NaN</td>\n",
       "      <td>7.607600e+07</td>\n",
       "      <td>1970</td>\n",
       "      <td>38.800</td>\n",
       "      <td>0.000000</td>\n",
       "    </tr>\n",
       "    <tr>\n",
       "      <th>4</th>\n",
       "      <td>Albert and David Maysles</td>\n",
       "      <td>Roadside Attractions</td>\n",
       "      <td>Drama</td>\n",
       "      <td>PG-13</td>\n",
       "      <td>Gimme Shelter</td>\n",
       "      <td>2014-01-24</td>\n",
       "      <td>gimmeshelter</td>\n",
       "      <td>1.440497e+06</td>\n",
       "      <td>689070</td>\n",
       "      <td>385</td>\n",
       "      <td>...</td>\n",
       "      <td>The Rolling Stones</td>\n",
       "      <td>100</td>\n",
       "      <td>2014</td>\n",
       "      <td>2014</td>\n",
       "      <td>8.1</td>\n",
       "      <td>729903.777778</td>\n",
       "      <td>1.440497e+06</td>\n",
       "      <td>2014</td>\n",
       "      <td>236.736</td>\n",
       "      <td>0.000000</td>\n",
       "    </tr>\n",
       "  </tbody>\n",
       "</table>\n",
       "<p>5 rows × 23 columns</p>\n",
       "</div>"
      ],
      "text/plain": [
       "                   director           distributor      genre_bomojo rating  \\\n",
       "0             George Seaton             Universal  Drama / Thriller      G   \n",
       "1                  Ted Post                   Fox  Sci-Fi Adventure      G   \n",
       "2                Jack Woods             IRS Media           Unknown      R   \n",
       "3              Richard Rush              Columbia             Drama      R   \n",
       "4  Albert and David Maysles  Roadside Attractions             Drama  PG-13   \n",
       "\n",
       "                            title releaseDate                 canontitle  \\\n",
       "0                         Airport  1970-03-05                    airport   \n",
       "1  Beneath the Planet of the Apes  1970-05-27  beneaththeplanetoftheapes   \n",
       "2                         Equinox  1993-06-11                    equinox   \n",
       "3                Getting Straight  1970-05-13            gettingstraight   \n",
       "4                   Gimme Shelter  2014-01-24               gimmeshelter   \n",
       "\n",
       "   rev_totalGross  rev_opening  num_theaters       ...         \\\n",
       "0    5.747979e+08          NaN           NaN       ...          \n",
       "1    1.086784e+08          NaN           NaN       ...          \n",
       "2    5.851706e+05         6310          1740       ...          \n",
       "3    7.607600e+07          NaN           NaN       ...          \n",
       "4    1.440497e+06       689070           385       ...          \n",
       "\n",
       "            leadActor  runtime_mins  releaseYear  Year  AvgPrice  \\\n",
       "0      Burt Lancaster           137         1970  1970       1.5   \n",
       "1    James Franciscus            95         1970  1970       1.5   \n",
       "2        Frank Bonner           110         1993  1993       4.1   \n",
       "3       Elliott Gould           124         1970  1970       1.5   \n",
       "4  The Rolling Stones           100         2014  2014       8.1   \n",
       "\n",
       "   rev_opening_ADJ  rev_totalGross_ADJ  year      CPI  prod_budget_ADJ  \n",
       "0              NaN        5.747979e+08  1970   38.800  61340206.185567  \n",
       "1              NaN        1.086784e+08  1970   38.800         0.000000  \n",
       "2     13204.829268        5.851706e+05  1993  144.500         0.000000  \n",
       "3              NaN        7.607600e+07  1970   38.800         0.000000  \n",
       "4    729903.777778        1.440497e+06  2014  236.736         0.000000  \n",
       "\n",
       "[5 rows x 23 columns]"
      ]
     },
     "execution_count": 38,
     "metadata": {},
     "output_type": "execute_result"
    }
   ],
   "source": [
    "mov.head()"
   ]
  },
  {
   "cell_type": "code",
   "execution_count": null,
   "metadata": {
    "collapsed": true
   },
   "outputs": [],
   "source": [
    "# Finally, play around with CULT INDEX Formula!!\n",
    "# BUT....  we need CULT status\n",
    "def label_as_cult(mov):\n",
    "    \"\"\"assigns cult status to movies by comparing to cult list. New binary column created.\"\"\"\n",
    "    cultlist = pd.read_csv('./imdb_cult_movie_list.csv', header=0)\n",
    "    mov = mov.merge(cultlist, on_right='title', how='left')\n",
    "\n"
   ]
  },
  {
   "cell_type": "code",
   "execution_count": 68,
   "metadata": {
    "collapsed": false
   },
   "outputs": [],
   "source": [
    "mov['CULT_INDEX'] = mov.rev_totalGross_ADJ/((mov.rev_opening_ADJ**2)*(mov.num_theaters))\n",
    "mov=mov.sort_values(by='CULT_INDEX',ascending=False)"
   ]
  },
  {
   "cell_type": "code",
   "execution_count": 69,
   "metadata": {
    "collapsed": false
   },
   "outputs": [],
   "source": [
    "pickle.dump(mov, open('movie_DF_0426.p', 'wb'))"
   ]
  },
  {
   "cell_type": "code",
   "execution_count": 70,
   "metadata": {
    "collapsed": false
   },
   "outputs": [],
   "source": [
    "#MANUALLY ASSIGN SOME MORE CULT STATUSES\n",
    "mov.to_csv('./movie_df.csv',header=True,encoding='utf-8')"
   ]
  },
  {
   "cell_type": "code",
   "execution_count": 72,
   "metadata": {
    "collapsed": false
   },
   "outputs": [],
   "source": [
    "mov = pd.read_csv('./movie_df.csv',header=0,encoding='utf-8')"
   ]
  },
  {
   "cell_type": "code",
   "execution_count": 73,
   "metadata": {
    "collapsed": false
   },
   "outputs": [
    {
     "data": {
      "text/html": [
       "<div>\n",
       "<table border=\"1\" class=\"dataframe\">\n",
       "  <thead>\n",
       "    <tr style=\"text-align: right;\">\n",
       "      <th></th>\n",
       "      <th>Unnamed: 0</th>\n",
       "      <th>director</th>\n",
       "      <th>distributor</th>\n",
       "      <th>genre_bomojo</th>\n",
       "      <th>rating</th>\n",
       "      <th>title</th>\n",
       "      <th>isCult</th>\n",
       "      <th>releaseDate</th>\n",
       "      <th>canontitle</th>\n",
       "      <th>rev_totalGross</th>\n",
       "      <th>...</th>\n",
       "      <th>runtime_mins</th>\n",
       "      <th>releaseYear</th>\n",
       "      <th>Year</th>\n",
       "      <th>AvgPrice</th>\n",
       "      <th>rev_opening_ADJ</th>\n",
       "      <th>rev_totalGross_ADJ</th>\n",
       "      <th>year</th>\n",
       "      <th>CPI</th>\n",
       "      <th>prod_budget_ADJ</th>\n",
       "      <th>CULT_INDEX</th>\n",
       "    </tr>\n",
       "  </thead>\n",
       "  <tbody>\n",
       "    <tr>\n",
       "      <th>0</th>\n",
       "      <td>2954</td>\n",
       "      <td>William Gazecki</td>\n",
       "      <td>Somford Entertainment</td>\n",
       "      <td>Documentary</td>\n",
       "      <td>Unrated</td>\n",
       "      <td>Waco: The Rules of Engagement</td>\n",
       "      <td>NaN</td>\n",
       "      <td>1997-02-28</td>\n",
       "      <td>waco</td>\n",
       "      <td>271114.653333</td>\n",
       "      <td>...</td>\n",
       "      <td>165</td>\n",
       "      <td>1997</td>\n",
       "      <td>1997</td>\n",
       "      <td>4.5</td>\n",
       "      <td>9.533333</td>\n",
       "      <td>271114.653333</td>\n",
       "      <td>1997</td>\n",
       "      <td>160.5</td>\n",
       "      <td>0</td>\n",
       "      <td>1.714408</td>\n",
       "    </tr>\n",
       "    <tr>\n",
       "      <th>1</th>\n",
       "      <td>3445</td>\n",
       "      <td>Craig Mazin</td>\n",
       "      <td>Regent Releasing</td>\n",
       "      <td>Unknown</td>\n",
       "      <td>R</td>\n",
       "      <td>The Specials</td>\n",
       "      <td>NaN</td>\n",
       "      <td>2000-09-22</td>\n",
       "      <td>specials</td>\n",
       "      <td>21492.090566</td>\n",
       "      <td>...</td>\n",
       "      <td>100</td>\n",
       "      <td>2000</td>\n",
       "      <td>2000</td>\n",
       "      <td>5.3</td>\n",
       "      <td>3.237736</td>\n",
       "      <td>21492.090566</td>\n",
       "      <td>2000</td>\n",
       "      <td>172.2</td>\n",
       "      <td>0</td>\n",
       "      <td>1.178275</td>\n",
       "    </tr>\n",
       "    <tr>\n",
       "      <th>2</th>\n",
       "      <td>3416</td>\n",
       "      <td>Robert Lee King</td>\n",
       "      <td>Strand</td>\n",
       "      <td>Horror Comedy</td>\n",
       "      <td>Unrated</td>\n",
       "      <td>Psycho Beach Party</td>\n",
       "      <td>1</td>\n",
       "      <td>2000-08-04</td>\n",
       "      <td>psychobeachparty</td>\n",
       "      <td>434046.011321</td>\n",
       "      <td>...</td>\n",
       "      <td>95</td>\n",
       "      <td>2000</td>\n",
       "      <td>2000</td>\n",
       "      <td>5.3</td>\n",
       "      <td>17.807547</td>\n",
       "      <td>434046.011321</td>\n",
       "      <td>2000</td>\n",
       "      <td>172.2</td>\n",
       "      <td>0</td>\n",
       "      <td>0.786644</td>\n",
       "    </tr>\n",
       "    <tr>\n",
       "      <th>3</th>\n",
       "      <td>1206</td>\n",
       "      <td>Jonathan Demme</td>\n",
       "      <td>Cinecom</td>\n",
       "      <td>Drama</td>\n",
       "      <td>R</td>\n",
       "      <td>Swimming to Cambodia</td>\n",
       "      <td>NaN</td>\n",
       "      <td>1987-03-13</td>\n",
       "      <td>swimmingtocambodia</td>\n",
       "      <td>2404404.200000</td>\n",
       "      <td>...</td>\n",
       "      <td>85</td>\n",
       "      <td>1987</td>\n",
       "      <td>1987</td>\n",
       "      <td>3.9</td>\n",
       "      <td>46.200000</td>\n",
       "      <td>2404404.200000</td>\n",
       "      <td>1987</td>\n",
       "      <td>113.6</td>\n",
       "      <td>0</td>\n",
       "      <td>0.647402</td>\n",
       "    </tr>\n",
       "    <tr>\n",
       "      <th>4</th>\n",
       "      <td>846</td>\n",
       "      <td>Paul Schrader</td>\n",
       "      <td>Warner Bros.</td>\n",
       "      <td>Drama</td>\n",
       "      <td>R</td>\n",
       "      <td>Mishima: A Life in Four Chapters</td>\n",
       "      <td>1</td>\n",
       "      <td>1985-09-13</td>\n",
       "      <td>mishima</td>\n",
       "      <td>1072615.217140</td>\n",
       "      <td>...</td>\n",
       "      <td>121</td>\n",
       "      <td>1985</td>\n",
       "      <td>1985</td>\n",
       "      <td>3.5</td>\n",
       "      <td>34.320000</td>\n",
       "      <td>1072615.217140</td>\n",
       "      <td>1985</td>\n",
       "      <td>107.6</td>\n",
       "      <td>0</td>\n",
       "      <td>0.523360</td>\n",
       "    </tr>\n",
       "  </tbody>\n",
       "</table>\n",
       "<p>5 rows × 26 columns</p>\n",
       "</div>"
      ],
      "text/plain": [
       "   Unnamed: 0         director            distributor   genre_bomojo   rating  \\\n",
       "0        2954  William Gazecki  Somford Entertainment    Documentary  Unrated   \n",
       "1        3445      Craig Mazin       Regent Releasing        Unknown        R   \n",
       "2        3416  Robert Lee King                 Strand  Horror Comedy  Unrated   \n",
       "3        1206   Jonathan Demme                Cinecom          Drama        R   \n",
       "4         846    Paul Schrader           Warner Bros.          Drama        R   \n",
       "\n",
       "                              title  isCult releaseDate          canontitle  \\\n",
       "0     Waco: The Rules of Engagement     NaN  1997-02-28                waco   \n",
       "1                      The Specials     NaN  2000-09-22            specials   \n",
       "2                Psycho Beach Party       1  2000-08-04    psychobeachparty   \n",
       "3              Swimming to Cambodia     NaN  1987-03-13  swimmingtocambodia   \n",
       "4  Mishima: A Life in Four Chapters       1  1985-09-13             mishima   \n",
       "\n",
       "   rev_totalGross     ...      runtime_mins  releaseYear  Year  AvgPrice  \\\n",
       "0   271114.653333     ...               165         1997  1997       4.5   \n",
       "1    21492.090566     ...               100         2000  2000       5.3   \n",
       "2   434046.011321     ...                95         2000  2000       5.3   \n",
       "3  2404404.200000     ...                85         1987  1987       3.9   \n",
       "4  1072615.217140     ...               121         1985  1985       3.5   \n",
       "\n",
       "   rev_opening_ADJ rev_totalGross_ADJ  year    CPI  prod_budget_ADJ  \\\n",
       "0         9.533333      271114.653333  1997  160.5                0   \n",
       "1         3.237736       21492.090566  2000  172.2                0   \n",
       "2        17.807547      434046.011321  2000  172.2                0   \n",
       "3        46.200000     2404404.200000  1987  113.6                0   \n",
       "4        34.320000     1072615.217140  1985  107.6                0   \n",
       "\n",
       "   CULT_INDEX  \n",
       "0    1.714408  \n",
       "1    1.178275  \n",
       "2    0.786644  \n",
       "3    0.647402  \n",
       "4    0.523360  \n",
       "\n",
       "[5 rows x 26 columns]"
      ]
     },
     "execution_count": 73,
     "metadata": {},
     "output_type": "execute_result"
    }
   ],
   "source": [
    "mov.head()"
   ]
  },
  {
   "cell_type": "code",
   "execution_count": 74,
   "metadata": {
    "collapsed": true
   },
   "outputs": [],
   "source": [
    "mov['rev_opening_ADJ'] = (mov.rev_opening/mov.AvgPrice)*8.58\n",
    "mov['rev_totalGross_ADJ'] = (mov.rev_totalGross/mov.AvgPrice)*8.58 #2016 ticket prices\n",
    "mov['rev_postOpening'] = mov.rev_totalGross_ADJ - mov.rev_opening_ADJ \n",
    "mov['prod_budget_ADJ'] = (mov.prod_budget/mov.CPI) * 238 #2016 CPI\n",
    "\n",
    "mov['CULT_INDEX'] = mov.rev_totalGross_ADJ/((mov.rev_opening_ADJ**2)*(mov.num_theaters))\n",
    "mov=mov.sort_values(by='CULT_INDEX',ascending=False)"
   ]
  },
  {
   "cell_type": "code",
   "execution_count": 75,
   "metadata": {
    "collapsed": false
   },
   "outputs": [
    {
     "data": {
      "text/html": [
       "<div>\n",
       "<table border=\"1\" class=\"dataframe\">\n",
       "  <thead>\n",
       "    <tr style=\"text-align: right;\">\n",
       "      <th></th>\n",
       "      <th>Unnamed: 0</th>\n",
       "      <th>director</th>\n",
       "      <th>distributor</th>\n",
       "      <th>genre_bomojo</th>\n",
       "      <th>rating</th>\n",
       "      <th>title</th>\n",
       "      <th>isCult</th>\n",
       "      <th>releaseDate</th>\n",
       "      <th>canontitle</th>\n",
       "      <th>rev_totalGross</th>\n",
       "      <th>...</th>\n",
       "      <th>runtime_mins</th>\n",
       "      <th>releaseYear</th>\n",
       "      <th>Year</th>\n",
       "      <th>AvgPrice</th>\n",
       "      <th>rev_opening_ADJ</th>\n",
       "      <th>rev_totalGross_ADJ</th>\n",
       "      <th>year</th>\n",
       "      <th>CPI</th>\n",
       "      <th>prod_budget_ADJ</th>\n",
       "      <th>CULT_INDEX</th>\n",
       "    </tr>\n",
       "  </thead>\n",
       "  <tbody>\n",
       "    <tr>\n",
       "      <th>0</th>\n",
       "      <td>2954</td>\n",
       "      <td>William Gazecki</td>\n",
       "      <td>Somford Entertainment</td>\n",
       "      <td>Documentary</td>\n",
       "      <td>Unrated</td>\n",
       "      <td>Waco: The Rules of Engagement</td>\n",
       "      <td>NaN</td>\n",
       "      <td>1997-02-28</td>\n",
       "      <td>waco</td>\n",
       "      <td>271114.653333</td>\n",
       "      <td>...</td>\n",
       "      <td>165</td>\n",
       "      <td>1997</td>\n",
       "      <td>1997</td>\n",
       "      <td>4.5</td>\n",
       "      <td>9.533333</td>\n",
       "      <td>516925.272355</td>\n",
       "      <td>1997</td>\n",
       "      <td>160.500</td>\n",
       "      <td>0.000000</td>\n",
       "      <td>3.268805</td>\n",
       "    </tr>\n",
       "    <tr>\n",
       "      <th>3</th>\n",
       "      <td>1206</td>\n",
       "      <td>Jonathan Demme</td>\n",
       "      <td>Cinecom</td>\n",
       "      <td>Drama</td>\n",
       "      <td>R</td>\n",
       "      <td>Swimming to Cambodia</td>\n",
       "      <td>NaN</td>\n",
       "      <td>1987-03-13</td>\n",
       "      <td>swimmingtocambodia</td>\n",
       "      <td>2404404.200000</td>\n",
       "      <td>...</td>\n",
       "      <td>85</td>\n",
       "      <td>1987</td>\n",
       "      <td>1987</td>\n",
       "      <td>3.9</td>\n",
       "      <td>46.200000</td>\n",
       "      <td>5289689.240000</td>\n",
       "      <td>1987</td>\n",
       "      <td>113.600</td>\n",
       "      <td>0.000000</td>\n",
       "      <td>1.424285</td>\n",
       "    </tr>\n",
       "    <tr>\n",
       "      <th>7</th>\n",
       "      <td>1185</td>\n",
       "      <td>Mary Lambert</td>\n",
       "      <td>Lorimar</td>\n",
       "      <td>Thriller</td>\n",
       "      <td>R</td>\n",
       "      <td>Siesta</td>\n",
       "      <td>NaN</td>\n",
       "      <td>1987-11-11</td>\n",
       "      <td>siesta</td>\n",
       "      <td>1540000.000000</td>\n",
       "      <td>...</td>\n",
       "      <td>97</td>\n",
       "      <td>1987</td>\n",
       "      <td>1987</td>\n",
       "      <td>3.9</td>\n",
       "      <td>66.000000</td>\n",
       "      <td>3388000.000000</td>\n",
       "      <td>1987</td>\n",
       "      <td>113.600</td>\n",
       "      <td>6285211.267606</td>\n",
       "      <td>0.446999</td>\n",
       "    </tr>\n",
       "    <tr>\n",
       "      <th>5</th>\n",
       "      <td>5448</td>\n",
       "      <td>Jeff Orlowski</td>\n",
       "      <td>Submarine Deluxe</td>\n",
       "      <td>Documentary</td>\n",
       "      <td>PG-13</td>\n",
       "      <td>Chasing Ice</td>\n",
       "      <td>NaN</td>\n",
       "      <td>2012-11-09</td>\n",
       "      <td>chasingice</td>\n",
       "      <td>1442816.058230</td>\n",
       "      <td>...</td>\n",
       "      <td>76</td>\n",
       "      <td>2012</td>\n",
       "      <td>2012</td>\n",
       "      <td>7.9</td>\n",
       "      <td>57.562025</td>\n",
       "      <td>1567007.820204</td>\n",
       "      <td>2012</td>\n",
       "      <td>229.594</td>\n",
       "      <td>0.000000</td>\n",
       "      <td>0.271800</td>\n",
       "    </tr>\n",
       "    <tr>\n",
       "      <th>12</th>\n",
       "      <td>2683</td>\n",
       "      <td>Keith Gordon</td>\n",
       "      <td>Fine Line</td>\n",
       "      <td>Drama / Thriller</td>\n",
       "      <td>R</td>\n",
       "      <td>Mother Night</td>\n",
       "      <td>NaN</td>\n",
       "      <td>1996-11-01</td>\n",
       "      <td>mothernight</td>\n",
       "      <td>787216.950000</td>\n",
       "      <td>...</td>\n",
       "      <td>113</td>\n",
       "      <td>1996</td>\n",
       "      <td>1996</td>\n",
       "      <td>4.4</td>\n",
       "      <td>58.500000</td>\n",
       "      <td>1535073.052500</td>\n",
       "      <td>1996</td>\n",
       "      <td>156.900</td>\n",
       "      <td>0.000000</td>\n",
       "      <td>0.257791</td>\n",
       "    </tr>\n",
       "  </tbody>\n",
       "</table>\n",
       "<p>5 rows × 26 columns</p>\n",
       "</div>"
      ],
      "text/plain": [
       "    Unnamed: 0         director            distributor      genre_bomojo  \\\n",
       "0         2954  William Gazecki  Somford Entertainment       Documentary   \n",
       "3         1206   Jonathan Demme                Cinecom             Drama   \n",
       "7         1185     Mary Lambert                Lorimar          Thriller   \n",
       "5         5448    Jeff Orlowski       Submarine Deluxe       Documentary   \n",
       "12        2683     Keith Gordon              Fine Line  Drama / Thriller   \n",
       "\n",
       "     rating                          title  isCult releaseDate  \\\n",
       "0   Unrated  Waco: The Rules of Engagement     NaN  1997-02-28   \n",
       "3         R           Swimming to Cambodia     NaN  1987-03-13   \n",
       "7         R                         Siesta     NaN  1987-11-11   \n",
       "5     PG-13                    Chasing Ice     NaN  2012-11-09   \n",
       "12        R                   Mother Night     NaN  1996-11-01   \n",
       "\n",
       "            canontitle  rev_totalGross     ...      runtime_mins  releaseYear  \\\n",
       "0                 waco   271114.653333     ...               165         1997   \n",
       "3   swimmingtocambodia  2404404.200000     ...                85         1987   \n",
       "7               siesta  1540000.000000     ...                97         1987   \n",
       "5           chasingice  1442816.058230     ...                76         2012   \n",
       "12         mothernight   787216.950000     ...               113         1996   \n",
       "\n",
       "    Year  AvgPrice  rev_opening_ADJ rev_totalGross_ADJ  year      CPI  \\\n",
       "0   1997       4.5         9.533333      516925.272355  1997  160.500   \n",
       "3   1987       3.9        46.200000     5289689.240000  1987  113.600   \n",
       "7   1987       3.9        66.000000     3388000.000000  1987  113.600   \n",
       "5   2012       7.9        57.562025     1567007.820204  2012  229.594   \n",
       "12  1996       4.4        58.500000     1535073.052500  1996  156.900   \n",
       "\n",
       "    prod_budget_ADJ  CULT_INDEX  \n",
       "0          0.000000    3.268805  \n",
       "3          0.000000    1.424285  \n",
       "7    6285211.267606    0.446999  \n",
       "5          0.000000    0.271800  \n",
       "12         0.000000    0.257791  \n",
       "\n",
       "[5 rows x 26 columns]"
      ]
     },
     "execution_count": 75,
     "metadata": {},
     "output_type": "execute_result"
    }
   ],
   "source": [
    "# OUTLIERS and ERRORS"
   ]
  },
  {
   "cell_type": "code",
   "execution_count": 158,
   "metadata": {
    "collapsed": false
   },
   "outputs": [
    {
     "data": {
      "text/plain": [
       "<matplotlib.axes._subplots.AxesSubplot at 0x152244090>"
      ]
     },
     "execution_count": 158,
     "metadata": {},
     "output_type": "execute_result"
    },
    {
     "data": {
      "image/png": "[encoded data removed]",
      "text/plain": [
       "<matplotlib.figure.Figure at 0x1452dc1d0>"
      ]
     },
     "metadata": {},
     "output_type": "display_data"
    }
   ],
   "source": [
    "plt.figure(figsize=(20,10))\n",
    "sns.distplot(mov.rev_totalGross_ADJ, rug=True)\n",
    "#sns.boxplot(mov.rev_totalGross_ADJ)\n",
    "#mov.rev_totalGross_ADJ.dropna(inplace=True) #IMPUTE (delete in this case, all gross revs missing)"
   ]
  },
  {
   "cell_type": "code",
   "execution_count": 103,
   "metadata": {
    "collapsed": true
   },
   "outputs": [],
   "source": [
    "mov.rev_totalGross_ADJ.dropna(inplace=True) #IMPUTE (delete in this case, all gross revs missing)"
   ]
  },
  {
   "cell_type": "code",
   "execution_count": 153,
   "metadata": {
    "collapsed": false
   },
   "outputs": [],
   "source": [
    "#Next, we'll look at rev_opening_ADJ\n",
    "#first, impute by mean revenue of distributor and genre for that year,\n",
    "mov['rev_opening_ADJ'].fillna(mov.groupby(['year','distributor','genre_bomojo'])['rev_opening_ADJ'].transform('mean'), inplace=True)\n",
    "\n",
    "#only catches a few because of the year constraint, now impute based on distributor and genre\n",
    "mov['rev_opening_ADJ'].fillna(mov.groupby(['distributor','genre_bomojo'])['rev_opening_ADJ'].transform('mean'), inplace=True)\n",
    "#fills about a 2/3rds of Nas, drop the rest...\n",
    "\n",
    "mov['rev_opening_ADJ'].dropna(inplace=True)\n",
    "\n"
   ]
  },
  {
   "cell_type": "code",
   "execution_count": 163,
   "metadata": {
    "collapsed": false
   },
   "outputs": [
    {
     "data": {
      "text/plain": [
       "<matplotlib.axes._subplots.AxesSubplot at 0x178352550>"
      ]
     },
     "execution_count": 163,
     "metadata": {},
     "output_type": "execute_result"
    },
    {
     "data": {
      "image/png": "[encoded data removed]",
      "text/plain": [
       "<matplotlib.figure.Figure at 0x16ad9b310>"
      ]
     },
     "metadata": {},
     "output_type": "display_data"
    }
   ],
   "source": [
    "plt.figure(figsize=(20,10))\n",
    "\n",
    "#sns.distplot(mov.rev_opening_ADJ, rug=True)\n",
    "\n",
    "sns.violinplot(mov.rev_opening_ADJ)"
   ]
  },
  {
   "cell_type": "code",
   "execution_count": 179,
   "metadata": {
    "collapsed": false
   },
   "outputs": [
    {
     "data": {
      "text/plain": [
       "3621"
      ]
     },
     "execution_count": 179,
     "metadata": {},
     "output_type": "execute_result"
    }
   ],
   "source": [
    "#Next, prod_budget!! My na's are 0s here, convert to Nas\n",
    "mov.prod_budget_ADJ[mov.prod_budget_ADJ==0]=np.nan"
   ]
  },
  {
   "cell_type": "code",
   "execution_count": 185,
   "metadata": {
    "collapsed": false
   },
   "outputs": [],
   "source": [
    "mov.prod_budget_ADJ.fillna(mov.groupby(['year','distributor','genre_bomojo'])['prod_budget_ADJ'].transform('mean'), inplace=True)"
   ]
  },
  {
   "cell_type": "code",
   "execution_count": 186,
   "metadata": {
    "collapsed": false
   },
   "outputs": [
    {
     "data": {
      "text/plain": [
       "3297"
      ]
     },
     "execution_count": 186,
     "metadata": {},
     "output_type": "execute_result"
    }
   ],
   "source": [
    "#got it down by 300-ish, still a lot left. "
   ]
  },
  {
   "cell_type": "code",
   "execution_count": 188,
   "metadata": {
    "collapsed": false
   },
   "outputs": [],
   "source": [
    "mov.prod_budget_ADJ.fillna(mov.groupby(['distributor','genre_bomojo'])['prod_budget_ADJ'].transform('median'), inplace=True)"
   ]
  },
  {
   "cell_type": "code",
   "execution_count": 190,
   "metadata": {
    "collapsed": false
   },
   "outputs": [],
   "source": [
    "mov.prod_budget_ADJ.fillna(mov.groupby(['distributor'])['prod_budget_ADJ'].transform('median'), inplace=True)"
   ]
  },
  {
   "cell_type": "code",
   "execution_count": 197,
   "metadata": {
    "collapsed": false
   },
   "outputs": [
    {
     "data": {
      "text/plain": [
       "0"
      ]
     },
     "execution_count": 197,
     "metadata": {},
     "output_type": "execute_result"
    }
   ],
   "source": [
    "mov.prod_budget_ADJ.dropna(inplace=True)\n",
    "sum(mov.prod_budget_ADJ.isnull())"
   ]
  },
  {
   "cell_type": "code",
   "execution_count": 227,
   "metadata": {
    "collapsed": false
   },
   "outputs": [
    {
     "data": {
      "text/html": [
       "<div>\n",
       "<table border=\"1\" class=\"dataframe\">\n",
       "  <thead>\n",
       "    <tr style=\"text-align: right;\">\n",
       "      <th></th>\n",
       "      <th>Unnamed: 0</th>\n",
       "      <th>director</th>\n",
       "      <th>distributor</th>\n",
       "      <th>genre_bomojo</th>\n",
       "      <th>rating</th>\n",
       "      <th>title</th>\n",
       "      <th>isCult</th>\n",
       "      <th>releaseDate</th>\n",
       "      <th>canontitle</th>\n",
       "      <th>rev_totalGross</th>\n",
       "      <th>...</th>\n",
       "      <th>runtime_mins</th>\n",
       "      <th>releaseYear</th>\n",
       "      <th>Year</th>\n",
       "      <th>AvgPrice</th>\n",
       "      <th>rev_opening_ADJ</th>\n",
       "      <th>rev_totalGross_ADJ</th>\n",
       "      <th>year</th>\n",
       "      <th>CPI</th>\n",
       "      <th>prod_budget_ADJ</th>\n",
       "      <th>CULT_INDEX</th>\n",
       "    </tr>\n",
       "  </thead>\n",
       "  <tbody>\n",
       "    <tr>\n",
       "      <th>0</th>\n",
       "      <td>2954</td>\n",
       "      <td>William Gazecki</td>\n",
       "      <td>Somford Entertainment</td>\n",
       "      <td>Documentary</td>\n",
       "      <td>Unrated</td>\n",
       "      <td>Waco: The Rules of Engagement</td>\n",
       "      <td>NaN</td>\n",
       "      <td>1997-02-28</td>\n",
       "      <td>waco</td>\n",
       "      <td>271114.653333</td>\n",
       "      <td>...</td>\n",
       "      <td>165</td>\n",
       "      <td>1997</td>\n",
       "      <td>1997</td>\n",
       "      <td>4.5</td>\n",
       "      <td>9.533333</td>\n",
       "      <td>516925.272355</td>\n",
       "      <td>1997</td>\n",
       "      <td>160.500</td>\n",
       "      <td>NaN</td>\n",
       "      <td>3.268805</td>\n",
       "    </tr>\n",
       "    <tr>\n",
       "      <th>3</th>\n",
       "      <td>1206</td>\n",
       "      <td>Jonathan Demme</td>\n",
       "      <td>Cinecom</td>\n",
       "      <td>Drama</td>\n",
       "      <td>R</td>\n",
       "      <td>Swimming to Cambodia</td>\n",
       "      <td>NaN</td>\n",
       "      <td>1987-03-13</td>\n",
       "      <td>swimmingtocambodia</td>\n",
       "      <td>2404404.200000</td>\n",
       "      <td>...</td>\n",
       "      <td>85</td>\n",
       "      <td>1987</td>\n",
       "      <td>1987</td>\n",
       "      <td>3.9</td>\n",
       "      <td>46.200000</td>\n",
       "      <td>5289689.240000</td>\n",
       "      <td>1987</td>\n",
       "      <td>113.600</td>\n",
       "      <td>NaN</td>\n",
       "      <td>1.424285</td>\n",
       "    </tr>\n",
       "    <tr>\n",
       "      <th>7</th>\n",
       "      <td>1185</td>\n",
       "      <td>Mary Lambert</td>\n",
       "      <td>Lorimar</td>\n",
       "      <td>Thriller</td>\n",
       "      <td>R</td>\n",
       "      <td>Siesta</td>\n",
       "      <td>NaN</td>\n",
       "      <td>1987-11-11</td>\n",
       "      <td>siesta</td>\n",
       "      <td>1540000.000000</td>\n",
       "      <td>...</td>\n",
       "      <td>97</td>\n",
       "      <td>1987</td>\n",
       "      <td>1987</td>\n",
       "      <td>3.9</td>\n",
       "      <td>66.000000</td>\n",
       "      <td>3388000.000000</td>\n",
       "      <td>1987</td>\n",
       "      <td>113.600</td>\n",
       "      <td>6285211.267606</td>\n",
       "      <td>0.446999</td>\n",
       "    </tr>\n",
       "    <tr>\n",
       "      <th>5</th>\n",
       "      <td>5448</td>\n",
       "      <td>Jeff Orlowski</td>\n",
       "      <td>Submarine Deluxe</td>\n",
       "      <td>Documentary</td>\n",
       "      <td>PG-13</td>\n",
       "      <td>Chasing Ice</td>\n",
       "      <td>NaN</td>\n",
       "      <td>2012-11-09</td>\n",
       "      <td>chasingice</td>\n",
       "      <td>1442816.058230</td>\n",
       "      <td>...</td>\n",
       "      <td>76</td>\n",
       "      <td>2012</td>\n",
       "      <td>2012</td>\n",
       "      <td>7.9</td>\n",
       "      <td>57.562025</td>\n",
       "      <td>1567007.820204</td>\n",
       "      <td>2012</td>\n",
       "      <td>229.594</td>\n",
       "      <td>NaN</td>\n",
       "      <td>0.271800</td>\n",
       "    </tr>\n",
       "    <tr>\n",
       "      <th>12</th>\n",
       "      <td>2683</td>\n",
       "      <td>Keith Gordon</td>\n",
       "      <td>Fine Line</td>\n",
       "      <td>Drama / Thriller</td>\n",
       "      <td>R</td>\n",
       "      <td>Mother Night</td>\n",
       "      <td>NaN</td>\n",
       "      <td>1996-11-01</td>\n",
       "      <td>mothernight</td>\n",
       "      <td>787216.950000</td>\n",
       "      <td>...</td>\n",
       "      <td>113</td>\n",
       "      <td>1996</td>\n",
       "      <td>1996</td>\n",
       "      <td>4.4</td>\n",
       "      <td>58.500000</td>\n",
       "      <td>1535073.052500</td>\n",
       "      <td>1996</td>\n",
       "      <td>156.900</td>\n",
       "      <td>19271255.060729</td>\n",
       "      <td>0.257791</td>\n",
       "    </tr>\n",
       "  </tbody>\n",
       "</table>\n",
       "<p>5 rows × 26 columns</p>\n",
       "</div>"
      ],
      "text/plain": [
       "    Unnamed: 0         director            distributor      genre_bomojo  \\\n",
       "0         2954  William Gazecki  Somford Entertainment       Documentary   \n",
       "3         1206   Jonathan Demme                Cinecom             Drama   \n",
       "7         1185     Mary Lambert                Lorimar          Thriller   \n",
       "5         5448    Jeff Orlowski       Submarine Deluxe       Documentary   \n",
       "12        2683     Keith Gordon              Fine Line  Drama / Thriller   \n",
       "\n",
       "     rating                          title  isCult releaseDate  \\\n",
       "0   Unrated  Waco: The Rules of Engagement     NaN  1997-02-28   \n",
       "3         R           Swimming to Cambodia     NaN  1987-03-13   \n",
       "7         R                         Siesta     NaN  1987-11-11   \n",
       "5     PG-13                    Chasing Ice     NaN  2012-11-09   \n",
       "12        R                   Mother Night     NaN  1996-11-01   \n",
       "\n",
       "            canontitle  rev_totalGross     ...      runtime_mins  releaseYear  \\\n",
       "0                 waco   271114.653333     ...               165         1997   \n",
       "3   swimmingtocambodia  2404404.200000     ...                85         1987   \n",
       "7               siesta  1540000.000000     ...                97         1987   \n",
       "5           chasingice  1442816.058230     ...                76         2012   \n",
       "12         mothernight   787216.950000     ...               113         1996   \n",
       "\n",
       "    Year  AvgPrice  rev_opening_ADJ rev_totalGross_ADJ  year      CPI  \\\n",
       "0   1997       4.5         9.533333      516925.272355  1997  160.500   \n",
       "3   1987       3.9        46.200000     5289689.240000  1987  113.600   \n",
       "7   1987       3.9        66.000000     3388000.000000  1987  113.600   \n",
       "5   2012       7.9        57.562025     1567007.820204  2012  229.594   \n",
       "12  1996       4.4        58.500000     1535073.052500  1996  156.900   \n",
       "\n",
       "    prod_budget_ADJ  CULT_INDEX  \n",
       "0               NaN    3.268805  \n",
       "3               NaN    1.424285  \n",
       "7    6285211.267606    0.446999  \n",
       "5               NaN    0.271800  \n",
       "12  19271255.060729    0.257791  \n",
       "\n",
       "[5 rows x 26 columns]"
      ]
     },
     "execution_count": 227,
     "metadata": {},
     "output_type": "execute_result"
    }
   ],
   "source": [
    "mov.head()"
   ]
  },
  {
   "cell_type": "code",
   "execution_count": 232,
   "metadata": {
    "collapsed": false
   },
   "outputs": [
    {
     "data": {
      "text/plain": [
       "<matplotlib.axes._subplots.AxesSubplot at 0x177145a90>"
      ]
     },
     "execution_count": 232,
     "metadata": {},
     "output_type": "execute_result"
    },
    {
     "data": {
      "image/png": "[encoded data removed]",
      "text/plain": [
       "<matplotlib.figure.Figure at 0x16ad8e590>"
      ]
     },
     "metadata": {},
     "output_type": "display_data"
    }
   ],
   "source": [
    "# OUTLIER ANALYSIS for rev_totalGrossADJ\n",
    "plt.figure(figsize=(20,10))\n",
    "sns.distplot(mov.rev_totalGross_ADJ, rug=True)"
   ]
  },
  {
   "cell_type": "code",
   "execution_count": 235,
   "metadata": {
    "collapsed": false
   },
   "outputs": [
    {
     "data": {
      "text/plain": [
       "<matplotlib.axes._subplots.AxesSubplot at 0x1854db050>"
      ]
     },
     "execution_count": 235,
     "metadata": {},
     "output_type": "execute_result"
    },
    {
     "data": {
      "image/png": "[encoded data removed]",
      "text/plain": [
       "<matplotlib.figure.Figure at 0x1785d1050>"
      ]
     },
     "metadata": {},
     "output_type": "display_data"
    }
   ],
   "source": [
    "# OUTLIER ANALYSIS for rev_opening_ADJ\n",
    "plt.figure(figsize=(20,10))\n",
    "sns.distplot(mov.rev_opening_ADJ, rug=True)"
   ]
  },
  {
   "cell_type": "code",
   "execution_count": 234,
   "metadata": {
    "collapsed": false
   },
   "outputs": [
    {
     "data": {
      "text/plain": [
       "count    5.565000e+03\n",
       "mean     1.208525e+08\n",
       "std      2.634473e+08\n",
       "min      5.227200e+01\n",
       "25%      9.496503e+06\n",
       "50%      4.683964e+07\n",
       "75%      1.287949e+08\n",
       "max      4.916251e+09\n",
       "Name: rev_totalGross_ADJ, dtype: float64"
      ]
     },
     "execution_count": 234,
     "metadata": {},
     "output_type": "execute_result"
    }
   ],
   "source": [
    "#sparse values beyond 2*10^9, drop'em\n",
    "mov.rev_totalGross_ADJ.describe()"
   ]
  },
  {
   "cell_type": "code",
   "execution_count": 267,
   "metadata": {
    "collapsed": false
   },
   "outputs": [
    {
     "ename": "NotImplementedError",
     "evalue": "iLocation based boolean indexing on an integer type is not available",
     "output_type": "error",
     "traceback": [
      "\u001b[0;31m---------------------------------------------------------------------------\u001b[0m",
      "\u001b[0;31mNotImplementedError\u001b[0m                       Traceback (most recent call last)",
      "\u001b[0;32m<ipython-input-267-8312560bcb94>\u001b[0m in \u001b[0;36m<module>\u001b[0;34m()\u001b[0m\n\u001b[0;32m----> 1\u001b[0;31m \u001b[0mmov\u001b[0m\u001b[0;34m.\u001b[0m\u001b[0miloc\u001b[0m\u001b[0;34m[\u001b[0m\u001b[0mmov\u001b[0m\u001b[0;34m[\u001b[0m\u001b[0;34m'rev_opening_ADJ'\u001b[0m\u001b[0;34m]\u001b[0m\u001b[0;34m<=\u001b[0m\u001b[0;36m200000000\u001b[0m\u001b[0;34m]\u001b[0m\u001b[0;34m\u001b[0m\u001b[0m\n\u001b[0m",
      "\u001b[0;32m/Users/ash/anaconda/lib/python2.7/site-packages/pandas/core/indexing.pyc\u001b[0m in \u001b[0;36m__getitem__\u001b[0;34m(self, key)\u001b[0m\n\u001b[1;32m   1225\u001b[0m             \u001b[0;32mreturn\u001b[0m \u001b[0mself\u001b[0m\u001b[0;34m.\u001b[0m\u001b[0m_getitem_tuple\u001b[0m\u001b[0;34m(\u001b[0m\u001b[0mkey\u001b[0m\u001b[0;34m)\u001b[0m\u001b[0;34m\u001b[0m\u001b[0m\n\u001b[1;32m   1226\u001b[0m         \u001b[0;32melse\u001b[0m\u001b[0;34m:\u001b[0m\u001b[0;34m\u001b[0m\u001b[0m\n\u001b[0;32m-> 1227\u001b[0;31m             \u001b[0;32mreturn\u001b[0m \u001b[0mself\u001b[0m\u001b[0;34m.\u001b[0m\u001b[0m_getitem_axis\u001b[0m\u001b[0;34m(\u001b[0m\u001b[0mkey\u001b[0m\u001b[0;34m,\u001b[0m \u001b[0maxis\u001b[0m\u001b[0;34m=\u001b[0m\u001b[0;36m0\u001b[0m\u001b[0;34m)\u001b[0m\u001b[0;34m\u001b[0m\u001b[0m\n\u001b[0m\u001b[1;32m   1228\u001b[0m \u001b[0;34m\u001b[0m\u001b[0m\n\u001b[1;32m   1229\u001b[0m     \u001b[0;32mdef\u001b[0m \u001b[0m_getitem_axis\u001b[0m\u001b[0;34m(\u001b[0m\u001b[0mself\u001b[0m\u001b[0;34m,\u001b[0m \u001b[0mkey\u001b[0m\u001b[0;34m,\u001b[0m \u001b[0maxis\u001b[0m\u001b[0;34m=\u001b[0m\u001b[0;36m0\u001b[0m\u001b[0;34m)\u001b[0m\u001b[0;34m:\u001b[0m\u001b[0;34m\u001b[0m\u001b[0m\n",
      "\u001b[0;32m/Users/ash/anaconda/lib/python2.7/site-packages/pandas/core/indexing.pyc\u001b[0m in \u001b[0;36m_getitem_axis\u001b[0;34m(self, key, axis)\u001b[0m\n\u001b[1;32m   1493\u001b[0m \u001b[0;34m\u001b[0m\u001b[0m\n\u001b[1;32m   1494\u001b[0m         \u001b[0;32melif\u001b[0m \u001b[0mis_bool_indexer\u001b[0m\u001b[0;34m(\u001b[0m\u001b[0mkey\u001b[0m\u001b[0;34m)\u001b[0m\u001b[0;34m:\u001b[0m\u001b[0;34m\u001b[0m\u001b[0m\n\u001b[0;32m-> 1495\u001b[0;31m             \u001b[0mself\u001b[0m\u001b[0;34m.\u001b[0m\u001b[0m_has_valid_type\u001b[0m\u001b[0;34m(\u001b[0m\u001b[0mkey\u001b[0m\u001b[0;34m,\u001b[0m \u001b[0maxis\u001b[0m\u001b[0;34m)\u001b[0m\u001b[0;34m\u001b[0m\u001b[0m\n\u001b[0m\u001b[1;32m   1496\u001b[0m             \u001b[0;32mreturn\u001b[0m \u001b[0mself\u001b[0m\u001b[0;34m.\u001b[0m\u001b[0m_getbool_axis\u001b[0m\u001b[0;34m(\u001b[0m\u001b[0mkey\u001b[0m\u001b[0;34m,\u001b[0m \u001b[0maxis\u001b[0m\u001b[0;34m=\u001b[0m\u001b[0maxis\u001b[0m\u001b[0;34m)\u001b[0m\u001b[0;34m\u001b[0m\u001b[0m\n\u001b[1;32m   1497\u001b[0m \u001b[0;34m\u001b[0m\u001b[0m\n",
      "\u001b[0;32m/Users/ash/anaconda/lib/python2.7/site-packages/pandas/core/indexing.pyc\u001b[0m in \u001b[0;36m_has_valid_type\u001b[0;34m(self, key, axis)\u001b[0m\n\u001b[1;32m   1405\u001b[0m                 \u001b[0;32mif\u001b[0m \u001b[0mkey\u001b[0m\u001b[0;34m.\u001b[0m\u001b[0mindex\u001b[0m\u001b[0;34m.\u001b[0m\u001b[0minferred_type\u001b[0m \u001b[0;34m==\u001b[0m \u001b[0;34m'integer'\u001b[0m\u001b[0;34m:\u001b[0m\u001b[0;34m\u001b[0m\u001b[0m\n\u001b[1;32m   1406\u001b[0m                     raise NotImplementedError(\n\u001b[0;32m-> 1407\u001b[0;31m                         \u001b[0;34m\"iLocation based boolean indexing on an integer type \"\u001b[0m\u001b[0;34m\u001b[0m\u001b[0m\n\u001b[0m\u001b[1;32m   1408\u001b[0m                         \u001b[0;34m\"is not available\"\u001b[0m\u001b[0;34m\u001b[0m\u001b[0m\n\u001b[1;32m   1409\u001b[0m                     )\n",
      "\u001b[0;31mNotImplementedError\u001b[0m: iLocation based boolean indexing on an integer type is not available"
     ]
    }
   ],
   "source": [
    "mov[mov['rev_opening_ADJ']<=200000000]"
   ]
  },
  {
   "cell_type": "code",
   "execution_count": null,
   "metadata": {
    "collapsed": true
   },
   "outputs": [],
   "source": []
  }
 ],
 "metadata": {
  "kernelspec": {
   "display_name": "Python 2",
   "language": "python",
   "name": "python2"
  },
  "language_info": {
   "codemirror_mode": {
    "name": "ipython",
    "version": 2
   },
   "file_extension": ".py",
   "mimetype": "text/x-python",
   "name": "python",
   "nbconvert_exporter": "python",
   "pygments_lexer": "ipython2",
   "version": "2.7.11"
  }
 },
 "nbformat": 4,
 "nbformat_minor": 0
}
