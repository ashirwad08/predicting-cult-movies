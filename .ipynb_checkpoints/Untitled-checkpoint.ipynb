{
 "cells": [
  {
   "cell_type": "code",
   "execution_count": 53,
   "metadata": {
    "collapsed": false
   },
   "outputs": [],
   "source": [
    "import numpy as np\n",
    "from collections import Counter\n",
    "import re\n",
    "\n",
    "def count_occ(word):\n",
    "    \"\"\"count # of occurences of each letter in the word and pass back counts\"\"\"\n",
    "    word = re.sub('!|\\)|,|:|\\.|\\\\n|\\s','',word)\n",
    "    wordList = list(word.lower())\n",
    "    return Counter(wordList)\n",
    "    "
   ]
  },
  {
   "cell_type": "code",
   "execution_count": 54,
   "metadata": {
    "collapsed": true
   },
   "outputs": [],
   "source": [
    "a = 'ABbCcc'\n",
    "b = 'Good luck in the Facebook Hacker Cup this year!'\n",
    "c = 'Ignore punctuation, please :)'\n",
    "d = 'Sometimes test cases are hard to make up.'\n",
    "e = 'So I just go consult Professor Dalves'"
   ]
  },
  {
   "cell_type": "code",
   "execution_count": 55,
   "metadata": {
    "collapsed": false
   },
   "outputs": [
    {
     "data": {
      "text/plain": [
       "Counter({'a': 11,\n",
       "         'b': 3,\n",
       "         'c': 10,\n",
       "         'd': 3,\n",
       "         'e': 15,\n",
       "         'f': 2,\n",
       "         'g': 3,\n",
       "         'h': 4,\n",
       "         'i': 6,\n",
       "         'j': 1,\n",
       "         'k': 4,\n",
       "         'l': 4,\n",
       "         'm': 3,\n",
       "         'n': 5,\n",
       "         'o': 13,\n",
       "         'p': 5,\n",
       "         'r': 7,\n",
       "         's': 13,\n",
       "         't': 10,\n",
       "         'u': 7,\n",
       "         'v': 1,\n",
       "         'y': 1})"
      ]
     },
     "execution_count": 55,
     "metadata": {},
     "output_type": "execute_result"
    }
   ],
   "source": [
    "count_occ(a+b+c+d+e)"
   ]
  },
  {
   "cell_type": "code",
   "execution_count": 18,
   "metadata": {
    "collapsed": false
   },
   "outputs": [],
   "source": [
    "alphabet = range(1,27)"
   ]
  },
  {
   "cell_type": "code",
   "execution_count": null,
   "metadata": {
    "collapsed": true
   },
   "outputs": [],
   "source": [
    "def max_beauty(string):\n",
    "    counts=count_occ(string)\n",
    "    \n",
    "    "
   ]
  }
 ],
 "metadata": {
  "kernelspec": {
   "display_name": "Python 2",
   "language": "python",
   "name": "python2"
  },
  "language_info": {
   "codemirror_mode": {
    "name": "ipython",
    "version": 2
   },
   "file_extension": ".py",
   "mimetype": "text/x-python",
   "name": "python",
   "nbconvert_exporter": "python",
   "pygments_lexer": "ipython2",
   "version": "2.7.11"
  }
 },
 "nbformat": 4,
 "nbformat_minor": 0
}
