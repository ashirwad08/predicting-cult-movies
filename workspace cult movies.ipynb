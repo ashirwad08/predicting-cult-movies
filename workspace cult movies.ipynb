{
 "cells": [
  {
   "cell_type": "code",
   "execution_count": 89,
   "metadata": {
    "collapsed": true
   },
   "outputs": [],
   "source": [
    "import pandas as pd\n",
    "import numpy as np\n",
    "import matplotlib.pyplot as plt\n",
    "import seaborn as sns\n",
    "from pprint import pprint\n",
    "import pickle\n",
    "import re\n",
    "%matplotlib inline"
   ]
  },
  {
   "cell_type": "code",
   "execution_count": 90,
   "metadata": {
    "collapsed": true
   },
   "outputs": [],
   "source": [
    "with open(r\"movie_DF_0426.p\", \"rb\") as input_file:\n",
    "    mov = pickle.load(input_file)"
   ]
  },
  {
   "cell_type": "code",
   "execution_count": 91,
   "metadata": {
    "collapsed": false
   },
   "outputs": [
    {
     "data": {
      "text/html": [
       "<div>\n",
       "<table border=\"1\" class=\"dataframe\">\n",
       "  <thead>\n",
       "    <tr style=\"text-align: right;\">\n",
       "      <th></th>\n",
       "      <th>director</th>\n",
       "      <th>distributor</th>\n",
       "      <th>genre_bomojo</th>\n",
       "      <th>rating</th>\n",
       "      <th>title</th>\n",
       "      <th>releaseDate</th>\n",
       "      <th>canontitle</th>\n",
       "      <th>rev_totalGross</th>\n",
       "      <th>rev_opening</th>\n",
       "      <th>num_theaters</th>\n",
       "      <th>...</th>\n",
       "      <th>releaseYear</th>\n",
       "      <th>Year</th>\n",
       "      <th>AvgPrice</th>\n",
       "      <th>rev_opening_ADJ</th>\n",
       "      <th>rev_totalGross_ADJ</th>\n",
       "      <th>year</th>\n",
       "      <th>CPI</th>\n",
       "      <th>prod_budget_ADJ</th>\n",
       "      <th>isCult</th>\n",
       "      <th>CULT_INDEX</th>\n",
       "    </tr>\n",
       "  </thead>\n",
       "  <tbody>\n",
       "    <tr>\n",
       "      <th>2954</th>\n",
       "      <td>William Gazecki</td>\n",
       "      <td>Somford Entertainment</td>\n",
       "      <td>Documentary</td>\n",
       "      <td>Unrated</td>\n",
       "      <td>Waco: The Rules of Engagement</td>\n",
       "      <td>1997-02-28</td>\n",
       "      <td>waco</td>\n",
       "      <td>271114.653333</td>\n",
       "      <td>5</td>\n",
       "      <td>1740</td>\n",
       "      <td>...</td>\n",
       "      <td>1997</td>\n",
       "      <td>1997</td>\n",
       "      <td>4.5</td>\n",
       "      <td>9.533333</td>\n",
       "      <td>271114.653333</td>\n",
       "      <td>1997</td>\n",
       "      <td>160.5</td>\n",
       "      <td>0</td>\n",
       "      <td>NaN</td>\n",
       "      <td>1.714408</td>\n",
       "    </tr>\n",
       "    <tr>\n",
       "      <th>3445</th>\n",
       "      <td>Craig Mazin</td>\n",
       "      <td>Regent Releasing</td>\n",
       "      <td>Unknown</td>\n",
       "      <td>R</td>\n",
       "      <td>The Specials</td>\n",
       "      <td>2000-09-22</td>\n",
       "      <td>specials</td>\n",
       "      <td>21492.090566</td>\n",
       "      <td>2</td>\n",
       "      <td>1740</td>\n",
       "      <td>...</td>\n",
       "      <td>2000</td>\n",
       "      <td>2000</td>\n",
       "      <td>5.3</td>\n",
       "      <td>3.237736</td>\n",
       "      <td>21492.090566</td>\n",
       "      <td>2000</td>\n",
       "      <td>172.2</td>\n",
       "      <td>0</td>\n",
       "      <td>NaN</td>\n",
       "      <td>1.178275</td>\n",
       "    </tr>\n",
       "    <tr>\n",
       "      <th>3416</th>\n",
       "      <td>Robert Lee King</td>\n",
       "      <td>Strand</td>\n",
       "      <td>Horror Comedy</td>\n",
       "      <td>Unrated</td>\n",
       "      <td>Psycho Beach Party</td>\n",
       "      <td>2000-08-04</td>\n",
       "      <td>psychobeachparty</td>\n",
       "      <td>434046.011321</td>\n",
       "      <td>11</td>\n",
       "      <td>1740</td>\n",
       "      <td>...</td>\n",
       "      <td>2000</td>\n",
       "      <td>2000</td>\n",
       "      <td>5.3</td>\n",
       "      <td>17.807547</td>\n",
       "      <td>434046.011321</td>\n",
       "      <td>2000</td>\n",
       "      <td>172.2</td>\n",
       "      <td>0</td>\n",
       "      <td>NaN</td>\n",
       "      <td>0.786644</td>\n",
       "    </tr>\n",
       "    <tr>\n",
       "      <th>1206</th>\n",
       "      <td>Jonathan Demme</td>\n",
       "      <td>Cinecom</td>\n",
       "      <td>Unknown</td>\n",
       "      <td>R</td>\n",
       "      <td>Swimming to Cambodia</td>\n",
       "      <td>1987-03-13</td>\n",
       "      <td>swimmingtocambodia</td>\n",
       "      <td>2404404.200000</td>\n",
       "      <td>21</td>\n",
       "      <td>1740</td>\n",
       "      <td>...</td>\n",
       "      <td>1987</td>\n",
       "      <td>1987</td>\n",
       "      <td>3.9</td>\n",
       "      <td>46.200000</td>\n",
       "      <td>2404404.200000</td>\n",
       "      <td>1987</td>\n",
       "      <td>113.6</td>\n",
       "      <td>0</td>\n",
       "      <td>NaN</td>\n",
       "      <td>0.647402</td>\n",
       "    </tr>\n",
       "    <tr>\n",
       "      <th>846</th>\n",
       "      <td>Paul Schrader</td>\n",
       "      <td>Warner Bros.</td>\n",
       "      <td>Unknown</td>\n",
       "      <td>R</td>\n",
       "      <td>Mishima: A Life in Four Chapters</td>\n",
       "      <td>1985-09-13</td>\n",
       "      <td>mishima</td>\n",
       "      <td>1072615.217143</td>\n",
       "      <td>14</td>\n",
       "      <td>1740</td>\n",
       "      <td>...</td>\n",
       "      <td>1985</td>\n",
       "      <td>1985</td>\n",
       "      <td>3.5</td>\n",
       "      <td>34.320000</td>\n",
       "      <td>1072615.217143</td>\n",
       "      <td>1985</td>\n",
       "      <td>107.6</td>\n",
       "      <td>0</td>\n",
       "      <td>1</td>\n",
       "      <td>0.523360</td>\n",
       "    </tr>\n",
       "  </tbody>\n",
       "</table>\n",
       "<p>5 rows × 25 columns</p>\n",
       "</div>"
      ],
      "text/plain": [
       "             director            distributor   genre_bomojo   rating  \\\n",
       "2954  William Gazecki  Somford Entertainment    Documentary  Unrated   \n",
       "3445      Craig Mazin       Regent Releasing        Unknown        R   \n",
       "3416  Robert Lee King                 Strand  Horror Comedy  Unrated   \n",
       "1206   Jonathan Demme                Cinecom        Unknown        R   \n",
       "846     Paul Schrader           Warner Bros.        Unknown        R   \n",
       "\n",
       "                                 title releaseDate          canontitle  \\\n",
       "2954     Waco: The Rules of Engagement  1997-02-28                waco   \n",
       "3445                      The Specials  2000-09-22            specials   \n",
       "3416                Psycho Beach Party  2000-08-04    psychobeachparty   \n",
       "1206              Swimming to Cambodia  1987-03-13  swimmingtocambodia   \n",
       "846   Mishima: A Life in Four Chapters  1985-09-13             mishima   \n",
       "\n",
       "      rev_totalGross  rev_opening  num_theaters     ...     releaseYear  Year  \\\n",
       "2954   271114.653333            5          1740     ...            1997  1997   \n",
       "3445    21492.090566            2          1740     ...            2000  2000   \n",
       "3416   434046.011321           11          1740     ...            2000  2000   \n",
       "1206  2404404.200000           21          1740     ...            1987  1987   \n",
       "846   1072615.217143           14          1740     ...            1985  1985   \n",
       "\n",
       "      AvgPrice rev_opening_ADJ  rev_totalGross_ADJ  year    CPI  \\\n",
       "2954       4.5        9.533333       271114.653333  1997  160.5   \n",
       "3445       5.3        3.237736        21492.090566  2000  172.2   \n",
       "3416       5.3       17.807547       434046.011321  2000  172.2   \n",
       "1206       3.9       46.200000      2404404.200000  1987  113.6   \n",
       "846        3.5       34.320000      1072615.217143  1985  107.6   \n",
       "\n",
       "      prod_budget_ADJ  isCult  CULT_INDEX  \n",
       "2954                0     NaN    1.714408  \n",
       "3445                0     NaN    1.178275  \n",
       "3416                0     NaN    0.786644  \n",
       "1206                0     NaN    0.647402  \n",
       "846                 0       1    0.523360  \n",
       "\n",
       "[5 rows x 25 columns]"
      ]
     },
     "execution_count": 91,
     "metadata": {},
     "output_type": "execute_result"
    }
   ],
   "source": [
    "mov.head()"
   ]
  },
  {
   "cell_type": "code",
   "execution_count": 85,
   "metadata": {
    "collapsed": false
   },
   "outputs": [
    {
     "data": {
      "text/html": [
       "<div>\n",
       "<table border=\"1\" class=\"dataframe\">\n",
       "  <thead>\n",
       "    <tr style=\"text-align: right;\">\n",
       "      <th></th>\n",
       "      <th>Year</th>\n",
       "      <th>AvgPrice</th>\n",
       "    </tr>\n",
       "  </thead>\n",
       "  <tbody>\n",
       "    <tr>\n",
       "      <th>0</th>\n",
       "      <td>2016</td>\n",
       "      <td>8.58</td>\n",
       "    </tr>\n",
       "    <tr>\n",
       "      <th>1</th>\n",
       "      <td>2015</td>\n",
       "      <td>8.40</td>\n",
       "    </tr>\n",
       "    <tr>\n",
       "      <th>2</th>\n",
       "      <td>2014</td>\n",
       "      <td>8.10</td>\n",
       "    </tr>\n",
       "    <tr>\n",
       "      <th>3</th>\n",
       "      <td>2013</td>\n",
       "      <td>8.10</td>\n",
       "    </tr>\n",
       "    <tr>\n",
       "      <th>4</th>\n",
       "      <td>2012</td>\n",
       "      <td>7.90</td>\n",
       "    </tr>\n",
       "  </tbody>\n",
       "</table>\n",
       "</div>"
      ],
      "text/plain": [
       "   Year  AvgPrice\n",
       "0  2016      8.58\n",
       "1  2015      8.40\n",
       "2  2014      8.10\n",
       "3  2013      8.10\n",
       "4  2012      7.90"
      ]
     },
     "execution_count": 85,
     "metadata": {},
     "output_type": "execute_result"
    }
   ],
   "source": [
    "#bomojo_adj = pd.read_csv('./bomojo_ticket_price_adjuster.csv',header=0)\n",
    "#bomojo_adj.columns=bomojo_adj.columns.str.replace('\\.\\s','')\n",
    "#bomojo_adj.AvgPrice = bomojo_adj.AvgPrice.str.replace('$','').astype('float')\n",
    "#cpi = pd.read_csv(\"./cpi_by_year.csv\", header=0)\n",
    "#cpi.columns=cpi.columns.str.replace('\\.\\s','')\n",
    "#cpi['CPI']=cpi.CPI.astype('float')\n",
    "#cpi['year']=cpi.year.astype('int')\n",
    "\n",
    "#bomojo_adj.head()\n"
   ]
  },
  {
   "cell_type": "code",
   "execution_count": 86,
   "metadata": {
    "collapsed": true
   },
   "outputs": [],
   "source": [
    "#mov['releaseYear'] = mov.releaseDate.apply(lambda val: val.year)"
   ]
  },
  {
   "cell_type": "code",
   "execution_count": 87,
   "metadata": {
    "collapsed": false
   },
   "outputs": [],
   "source": [
    "#mov=mov.merge(bomojo_adj, left_on='releaseYear', right_on='Year', how='left')\n",
    "#mov=mov.merge(cpi, left_on='releaseYear', right_on='year', how='left')\n",
    "#mov['AvgPrice']=mov.AvgPrice.astype('float')\n",
    "\n"
   ]
  },
  {
   "cell_type": "code",
   "execution_count": 88,
   "metadata": {
    "collapsed": false
   },
   "outputs": [
    {
     "data": {
      "text/plain": [
       "Index([u'director', u'distributor', u'genre_bomojo', u'rating', u'title',\n",
       "       u'releaseDate', u'canontitle', u'rev_totalGross', u'rev_opening',\n",
       "       u'num_theaters', u'runtime', u'prod_budget', u'rev_postOpening',\n",
       "       u'leadActor', u'runtime_mins', u'releaseYear', u'Year_x', u'AvgPrice_x',\n",
       "       u'rev_opening_ADJ', u'rev_totalGross_ADJ', u'year_x', u'CPI_x',\n",
       "       u'prod_budget_ADJ', u'isCult', u'CULT_INDEX', u'Year_y', u'AvgPrice_y',\n",
       "       u'year_y', u'CPI_y'],\n",
       "      dtype='object')"
      ]
     },
     "execution_count": 88,
     "metadata": {},
     "output_type": "execute_result"
    }
   ],
   "source": [
    "mov.columns"
   ]
  },
  {
   "cell_type": "code",
   "execution_count": 80,
   "metadata": {
    "collapsed": false
   },
   "outputs": [],
   "source": [
    "#mov['rev_opening_ADJ'] = (mov.rev_opening/mov.AvgPrice)*8.58"
   ]
  },
  {
   "cell_type": "code",
   "execution_count": 81,
   "metadata": {
    "collapsed": false
   },
   "outputs": [],
   "source": [
    "#mov['rev_totalGross_ADJ'] = (mov.rev_totalGross/mov.AvgPrice)*8.58 #2016 ticket prices"
   ]
  },
  {
   "cell_type": "code",
   "execution_count": 82,
   "metadata": {
    "collapsed": false
   },
   "outputs": [],
   "source": [
    "#mov['rev_postOpening'] = mov.rev_totalGross_ADJ - mov.rev_opening_ADJ "
   ]
  },
  {
   "cell_type": "code",
   "execution_count": 83,
   "metadata": {
    "collapsed": false
   },
   "outputs": [
    {
     "ename": "AttributeError",
     "evalue": "'DataFrame' object has no attribute 'CPI'",
     "output_type": "error",
     "traceback": [
      "\u001b[0;31m---------------------------------------------------------------------------\u001b[0m",
      "\u001b[0;31mAttributeError\u001b[0m                            Traceback (most recent call last)",
      "\u001b[0;32m<ipython-input-83-3ca484d7cba5>\u001b[0m in \u001b[0;36m<module>\u001b[0;34m()\u001b[0m\n\u001b[0;32m----> 1\u001b[0;31m \u001b[0mmov\u001b[0m\u001b[0;34m[\u001b[0m\u001b[0;34m'prod_budget_ADJ'\u001b[0m\u001b[0;34m]\u001b[0m \u001b[0;34m=\u001b[0m \u001b[0;34m(\u001b[0m\u001b[0mmov\u001b[0m\u001b[0;34m.\u001b[0m\u001b[0mprod_budget\u001b[0m\u001b[0;34m/\u001b[0m\u001b[0mmov\u001b[0m\u001b[0;34m.\u001b[0m\u001b[0mCPI\u001b[0m\u001b[0;34m)\u001b[0m \u001b[0;34m*\u001b[0m \u001b[0;36m238\u001b[0m \u001b[0;31m#2016 CPI\u001b[0m\u001b[0;34m\u001b[0m\u001b[0m\n\u001b[0m",
      "\u001b[0;32m/Users/ash/anaconda/lib/python2.7/site-packages/pandas/core/generic.pyc\u001b[0m in \u001b[0;36m__getattr__\u001b[0;34m(self, name)\u001b[0m\n\u001b[1;32m   2358\u001b[0m                 \u001b[0;32mreturn\u001b[0m \u001b[0mself\u001b[0m\u001b[0;34m[\u001b[0m\u001b[0mname\u001b[0m\u001b[0;34m]\u001b[0m\u001b[0;34m\u001b[0m\u001b[0m\n\u001b[1;32m   2359\u001b[0m             raise AttributeError(\"'%s' object has no attribute '%s'\" %\n\u001b[0;32m-> 2360\u001b[0;31m                                  (type(self).__name__, name))\n\u001b[0m\u001b[1;32m   2361\u001b[0m \u001b[0;34m\u001b[0m\u001b[0m\n\u001b[1;32m   2362\u001b[0m     \u001b[0;32mdef\u001b[0m \u001b[0m__setattr__\u001b[0m\u001b[0;34m(\u001b[0m\u001b[0mself\u001b[0m\u001b[0;34m,\u001b[0m \u001b[0mname\u001b[0m\u001b[0;34m,\u001b[0m \u001b[0mvalue\u001b[0m\u001b[0;34m)\u001b[0m\u001b[0;34m:\u001b[0m\u001b[0;34m\u001b[0m\u001b[0m\n",
      "\u001b[0;31mAttributeError\u001b[0m: 'DataFrame' object has no attribute 'CPI'"
     ]
    }
   ],
   "source": [
    "#mov['prod_budget_ADJ'] = (mov.prod_budget/mov.CPI) * 238 #2016 CPI"
   ]
  },
  {
   "cell_type": "code",
   "execution_count": 92,
   "metadata": {
    "collapsed": false
   },
   "outputs": [
    {
     "data": {
      "text/html": [
       "<div>\n",
       "<table border=\"1\" class=\"dataframe\">\n",
       "  <thead>\n",
       "    <tr style=\"text-align: right;\">\n",
       "      <th></th>\n",
       "      <th>director</th>\n",
       "      <th>distributor</th>\n",
       "      <th>genre_bomojo</th>\n",
       "      <th>rating</th>\n",
       "      <th>title</th>\n",
       "      <th>releaseDate</th>\n",
       "      <th>canontitle</th>\n",
       "      <th>rev_totalGross</th>\n",
       "      <th>rev_opening</th>\n",
       "      <th>num_theaters</th>\n",
       "      <th>...</th>\n",
       "      <th>releaseYear</th>\n",
       "      <th>Year</th>\n",
       "      <th>AvgPrice</th>\n",
       "      <th>rev_opening_ADJ</th>\n",
       "      <th>rev_totalGross_ADJ</th>\n",
       "      <th>year</th>\n",
       "      <th>CPI</th>\n",
       "      <th>prod_budget_ADJ</th>\n",
       "      <th>isCult</th>\n",
       "      <th>CULT_INDEX</th>\n",
       "    </tr>\n",
       "  </thead>\n",
       "  <tbody>\n",
       "    <tr>\n",
       "      <th>2954</th>\n",
       "      <td>William Gazecki</td>\n",
       "      <td>Somford Entertainment</td>\n",
       "      <td>Documentary</td>\n",
       "      <td>Unrated</td>\n",
       "      <td>Waco: The Rules of Engagement</td>\n",
       "      <td>1997-02-28</td>\n",
       "      <td>waco</td>\n",
       "      <td>271114.653333</td>\n",
       "      <td>5</td>\n",
       "      <td>1740</td>\n",
       "      <td>...</td>\n",
       "      <td>1997</td>\n",
       "      <td>1997</td>\n",
       "      <td>4.5</td>\n",
       "      <td>9.533333</td>\n",
       "      <td>271114.653333</td>\n",
       "      <td>1997</td>\n",
       "      <td>160.5</td>\n",
       "      <td>0</td>\n",
       "      <td>NaN</td>\n",
       "      <td>1.714408</td>\n",
       "    </tr>\n",
       "    <tr>\n",
       "      <th>3445</th>\n",
       "      <td>Craig Mazin</td>\n",
       "      <td>Regent Releasing</td>\n",
       "      <td>Unknown</td>\n",
       "      <td>R</td>\n",
       "      <td>The Specials</td>\n",
       "      <td>2000-09-22</td>\n",
       "      <td>specials</td>\n",
       "      <td>21492.090566</td>\n",
       "      <td>2</td>\n",
       "      <td>1740</td>\n",
       "      <td>...</td>\n",
       "      <td>2000</td>\n",
       "      <td>2000</td>\n",
       "      <td>5.3</td>\n",
       "      <td>3.237736</td>\n",
       "      <td>21492.090566</td>\n",
       "      <td>2000</td>\n",
       "      <td>172.2</td>\n",
       "      <td>0</td>\n",
       "      <td>NaN</td>\n",
       "      <td>1.178275</td>\n",
       "    </tr>\n",
       "    <tr>\n",
       "      <th>3416</th>\n",
       "      <td>Robert Lee King</td>\n",
       "      <td>Strand</td>\n",
       "      <td>Horror Comedy</td>\n",
       "      <td>Unrated</td>\n",
       "      <td>Psycho Beach Party</td>\n",
       "      <td>2000-08-04</td>\n",
       "      <td>psychobeachparty</td>\n",
       "      <td>434046.011321</td>\n",
       "      <td>11</td>\n",
       "      <td>1740</td>\n",
       "      <td>...</td>\n",
       "      <td>2000</td>\n",
       "      <td>2000</td>\n",
       "      <td>5.3</td>\n",
       "      <td>17.807547</td>\n",
       "      <td>434046.011321</td>\n",
       "      <td>2000</td>\n",
       "      <td>172.2</td>\n",
       "      <td>0</td>\n",
       "      <td>NaN</td>\n",
       "      <td>0.786644</td>\n",
       "    </tr>\n",
       "    <tr>\n",
       "      <th>1206</th>\n",
       "      <td>Jonathan Demme</td>\n",
       "      <td>Cinecom</td>\n",
       "      <td>Unknown</td>\n",
       "      <td>R</td>\n",
       "      <td>Swimming to Cambodia</td>\n",
       "      <td>1987-03-13</td>\n",
       "      <td>swimmingtocambodia</td>\n",
       "      <td>2404404.200000</td>\n",
       "      <td>21</td>\n",
       "      <td>1740</td>\n",
       "      <td>...</td>\n",
       "      <td>1987</td>\n",
       "      <td>1987</td>\n",
       "      <td>3.9</td>\n",
       "      <td>46.200000</td>\n",
       "      <td>2404404.200000</td>\n",
       "      <td>1987</td>\n",
       "      <td>113.6</td>\n",
       "      <td>0</td>\n",
       "      <td>NaN</td>\n",
       "      <td>0.647402</td>\n",
       "    </tr>\n",
       "    <tr>\n",
       "      <th>846</th>\n",
       "      <td>Paul Schrader</td>\n",
       "      <td>Warner Bros.</td>\n",
       "      <td>Unknown</td>\n",
       "      <td>R</td>\n",
       "      <td>Mishima: A Life in Four Chapters</td>\n",
       "      <td>1985-09-13</td>\n",
       "      <td>mishima</td>\n",
       "      <td>1072615.217143</td>\n",
       "      <td>14</td>\n",
       "      <td>1740</td>\n",
       "      <td>...</td>\n",
       "      <td>1985</td>\n",
       "      <td>1985</td>\n",
       "      <td>3.5</td>\n",
       "      <td>34.320000</td>\n",
       "      <td>1072615.217143</td>\n",
       "      <td>1985</td>\n",
       "      <td>107.6</td>\n",
       "      <td>0</td>\n",
       "      <td>1</td>\n",
       "      <td>0.523360</td>\n",
       "    </tr>\n",
       "  </tbody>\n",
       "</table>\n",
       "<p>5 rows × 25 columns</p>\n",
       "</div>"
      ],
      "text/plain": [
       "             director            distributor   genre_bomojo   rating  \\\n",
       "2954  William Gazecki  Somford Entertainment    Documentary  Unrated   \n",
       "3445      Craig Mazin       Regent Releasing        Unknown        R   \n",
       "3416  Robert Lee King                 Strand  Horror Comedy  Unrated   \n",
       "1206   Jonathan Demme                Cinecom        Unknown        R   \n",
       "846     Paul Schrader           Warner Bros.        Unknown        R   \n",
       "\n",
       "                                 title releaseDate          canontitle  \\\n",
       "2954     Waco: The Rules of Engagement  1997-02-28                waco   \n",
       "3445                      The Specials  2000-09-22            specials   \n",
       "3416                Psycho Beach Party  2000-08-04    psychobeachparty   \n",
       "1206              Swimming to Cambodia  1987-03-13  swimmingtocambodia   \n",
       "846   Mishima: A Life in Four Chapters  1985-09-13             mishima   \n",
       "\n",
       "      rev_totalGross  rev_opening  num_theaters     ...     releaseYear  Year  \\\n",
       "2954   271114.653333            5          1740     ...            1997  1997   \n",
       "3445    21492.090566            2          1740     ...            2000  2000   \n",
       "3416   434046.011321           11          1740     ...            2000  2000   \n",
       "1206  2404404.200000           21          1740     ...            1987  1987   \n",
       "846   1072615.217143           14          1740     ...            1985  1985   \n",
       "\n",
       "      AvgPrice rev_opening_ADJ  rev_totalGross_ADJ  year    CPI  \\\n",
       "2954       4.5        9.533333       271114.653333  1997  160.5   \n",
       "3445       5.3        3.237736        21492.090566  2000  172.2   \n",
       "3416       5.3       17.807547       434046.011321  2000  172.2   \n",
       "1206       3.9       46.200000      2404404.200000  1987  113.6   \n",
       "846        3.5       34.320000      1072615.217143  1985  107.6   \n",
       "\n",
       "      prod_budget_ADJ  isCult  CULT_INDEX  \n",
       "2954                0     NaN    1.714408  \n",
       "3445                0     NaN    1.178275  \n",
       "3416                0     NaN    0.786644  \n",
       "1206                0     NaN    0.647402  \n",
       "846                 0       1    0.523360  \n",
       "\n",
       "[5 rows x 25 columns]"
      ]
     },
     "execution_count": 92,
     "metadata": {},
     "output_type": "execute_result"
    }
   ],
   "source": [
    "mov.head()"
   ]
  },
  {
   "cell_type": "code",
   "execution_count": 93,
   "metadata": {
    "collapsed": true
   },
   "outputs": [],
   "source": [
    "# Finally, play around with CULT INDEX Formula!!\n",
    "# BUT....  we need CULT status\n",
    "def label_as_cult(mov):\n",
    "    \"\"\"assigns cult status to movies by comparing to cult list. New binary column created.\"\"\"\n",
    "    cultlist = pd.read_csv('./imdb_cult_movie_list.csv', header=0)\n",
    "    mov = mov.merge(cultlist, on_right='title', how='left')\n",
    "\n"
   ]
  },
  {
   "cell_type": "code",
   "execution_count": 94,
   "metadata": {
    "collapsed": false
   },
   "outputs": [],
   "source": [
    "mov['CULT_INDEX'] = mov.rev_totalGross_ADJ/((mov.rev_opening_ADJ**2)*(mov.num_theaters))\n",
    "mov=mov.sort_values(by='CULT_INDEX',ascending=False)"
   ]
  },
  {
   "cell_type": "code",
   "execution_count": 95,
   "metadata": {
    "collapsed": false
   },
   "outputs": [],
   "source": [
    "pickle.dump(mov, open('movie_DF_0427.p', 'wb'))"
   ]
  },
  {
   "cell_type": "code",
   "execution_count": 96,
   "metadata": {
    "collapsed": false
   },
   "outputs": [],
   "source": [
    "#MANUALLY ASSIGN SOME MORE CULT STATUSES\n",
    "mov.to_csv('./movie_df.csv',header=True,encoding='utf-8')"
   ]
  },
  {
   "cell_type": "code",
   "execution_count": 72,
   "metadata": {
    "collapsed": false
   },
   "outputs": [],
   "source": [
    "mov = pd.read_csv('./movie_df.csv',header=0,encoding='utf-8')"
   ]
  },
  {
   "cell_type": "code",
   "execution_count": 202,
   "metadata": {
    "collapsed": false
   },
   "outputs": [],
   "source": [
    "\n",
    "\n",
    "\n",
    "with open(r\"movie_DF_0427.p\", \"rb\") as input_file:\n",
    "    mov = pickle.load(input_file)"
   ]
  },
  {
   "cell_type": "code",
   "execution_count": 203,
   "metadata": {
    "collapsed": true
   },
   "outputs": [],
   "source": [
    "mov['rev_totalGross_ADJ'] = (mov.rev_totalGross/mov.AvgPrice)*8.58 #2016 ticket prices\n",
    "mov['prod_budget_ADJ'] = (mov.prod_budget/mov.CPI) * 238 #2016 CPI\n",
    "mov['rev_opening_ADJ'] = (mov.rev_opening/mov.AvgPrice)*8.58\n",
    "\n",
    "mov['rev_postOpening'] = mov.rev_totalGross_ADJ - mov.rev_opening_ADJ \n",
    "\n",
    "\n",
    "mov['CULT_INDEX'] = mov.rev_totalGross_ADJ/((mov.rev_opening_ADJ**2)*(mov.num_theaters))\n",
    "mov=mov.sort_values(by='CULT_INDEX',ascending=False)"
   ]
  },
  {
   "cell_type": "code",
   "execution_count": 204,
   "metadata": {
    "collapsed": false
   },
   "outputs": [
    {
     "ename": "ValueError",
     "evalue": "cannot convert float NaN to integer",
     "output_type": "error",
     "traceback": [
      "\u001b[0;31m---------------------------------------------------------------------------\u001b[0m",
      "\u001b[0;31mValueError\u001b[0m                                Traceback (most recent call last)",
      "\u001b[0;32m<ipython-input-204-3f4ed6306ce1>\u001b[0m in \u001b[0;36m<module>\u001b[0;34m()\u001b[0m\n\u001b[1;32m      1\u001b[0m \u001b[0mplt\u001b[0m\u001b[0;34m.\u001b[0m\u001b[0mfigure\u001b[0m\u001b[0;34m(\u001b[0m\u001b[0mfigsize\u001b[0m\u001b[0;34m=\u001b[0m\u001b[0;34m(\u001b[0m\u001b[0;36m20\u001b[0m\u001b[0;34m,\u001b[0m\u001b[0;36m10\u001b[0m\u001b[0;34m)\u001b[0m\u001b[0;34m)\u001b[0m\u001b[0;34m\u001b[0m\u001b[0m\n\u001b[0;32m----> 2\u001b[0;31m \u001b[0msns\u001b[0m\u001b[0;34m.\u001b[0m\u001b[0mdistplot\u001b[0m\u001b[0;34m(\u001b[0m\u001b[0mmov\u001b[0m\u001b[0;34m.\u001b[0m\u001b[0mrev_totalGross_ADJ\u001b[0m\u001b[0;34m,\u001b[0m \u001b[0mrug\u001b[0m\u001b[0;34m=\u001b[0m\u001b[0mTrue\u001b[0m\u001b[0;34m)\u001b[0m\u001b[0;34m\u001b[0m\u001b[0m\n\u001b[0m\u001b[1;32m      3\u001b[0m \u001b[0;31m#sns.boxplot(mov.rev_totalGross_ADJ)\u001b[0m\u001b[0;34m\u001b[0m\u001b[0;34m\u001b[0m\u001b[0m\n\u001b[1;32m      4\u001b[0m \u001b[0;31m#mov.rev_totalGross_ADJ.dropna(inplace=True) #IMPUTE (delete in this case, all gross revs missing)\u001b[0m\u001b[0;34m\u001b[0m\u001b[0;34m\u001b[0m\u001b[0m\n",
      "\u001b[0;32m/Users/ash/anaconda/lib/python2.7/site-packages/seaborn/distributions.pyc\u001b[0m in \u001b[0;36mdistplot\u001b[0;34m(a, bins, hist, kde, rug, fit, hist_kws, kde_kws, rug_kws, fit_kws, color, vertical, norm_hist, axlabel, label, ax)\u001b[0m\n\u001b[1;32m    204\u001b[0m     \u001b[0;32mif\u001b[0m \u001b[0mhist\u001b[0m\u001b[0;34m:\u001b[0m\u001b[0;34m\u001b[0m\u001b[0m\n\u001b[1;32m    205\u001b[0m         \u001b[0;32mif\u001b[0m \u001b[0mbins\u001b[0m \u001b[0;32mis\u001b[0m \u001b[0mNone\u001b[0m\u001b[0;34m:\u001b[0m\u001b[0;34m\u001b[0m\u001b[0m\n\u001b[0;32m--> 206\u001b[0;31m             \u001b[0mbins\u001b[0m \u001b[0;34m=\u001b[0m \u001b[0mmin\u001b[0m\u001b[0;34m(\u001b[0m\u001b[0m_freedman_diaconis_bins\u001b[0m\u001b[0;34m(\u001b[0m\u001b[0ma\u001b[0m\u001b[0;34m)\u001b[0m\u001b[0;34m,\u001b[0m \u001b[0;36m50\u001b[0m\u001b[0;34m)\u001b[0m\u001b[0;34m\u001b[0m\u001b[0m\n\u001b[0m\u001b[1;32m    207\u001b[0m         \u001b[0mhist_kws\u001b[0m\u001b[0;34m.\u001b[0m\u001b[0msetdefault\u001b[0m\u001b[0;34m(\u001b[0m\u001b[0;34m\"alpha\"\u001b[0m\u001b[0;34m,\u001b[0m \u001b[0;36m0.4\u001b[0m\u001b[0;34m)\u001b[0m\u001b[0;34m\u001b[0m\u001b[0m\n\u001b[1;32m    208\u001b[0m         \u001b[0mhist_kws\u001b[0m\u001b[0;34m.\u001b[0m\u001b[0msetdefault\u001b[0m\u001b[0;34m(\u001b[0m\u001b[0;34m\"normed\"\u001b[0m\u001b[0;34m,\u001b[0m \u001b[0mnorm_hist\u001b[0m\u001b[0;34m)\u001b[0m\u001b[0;34m\u001b[0m\u001b[0m\n",
      "\u001b[0;32m/Users/ash/anaconda/lib/python2.7/site-packages/seaborn/distributions.pyc\u001b[0m in \u001b[0;36m_freedman_diaconis_bins\u001b[0;34m(a)\u001b[0m\n\u001b[1;32m     30\u001b[0m         \u001b[0;32mreturn\u001b[0m \u001b[0mint\u001b[0m\u001b[0;34m(\u001b[0m\u001b[0mnp\u001b[0m\u001b[0;34m.\u001b[0m\u001b[0msqrt\u001b[0m\u001b[0;34m(\u001b[0m\u001b[0ma\u001b[0m\u001b[0;34m.\u001b[0m\u001b[0msize\u001b[0m\u001b[0;34m)\u001b[0m\u001b[0;34m)\u001b[0m\u001b[0;34m\u001b[0m\u001b[0m\n\u001b[1;32m     31\u001b[0m     \u001b[0;32melse\u001b[0m\u001b[0;34m:\u001b[0m\u001b[0;34m\u001b[0m\u001b[0m\n\u001b[0;32m---> 32\u001b[0;31m         \u001b[0;32mreturn\u001b[0m \u001b[0mint\u001b[0m\u001b[0;34m(\u001b[0m\u001b[0mnp\u001b[0m\u001b[0;34m.\u001b[0m\u001b[0mceil\u001b[0m\u001b[0;34m(\u001b[0m\u001b[0;34m(\u001b[0m\u001b[0ma\u001b[0m\u001b[0;34m.\u001b[0m\u001b[0mmax\u001b[0m\u001b[0;34m(\u001b[0m\u001b[0;34m)\u001b[0m \u001b[0;34m-\u001b[0m \u001b[0ma\u001b[0m\u001b[0;34m.\u001b[0m\u001b[0mmin\u001b[0m\u001b[0;34m(\u001b[0m\u001b[0;34m)\u001b[0m\u001b[0;34m)\u001b[0m \u001b[0;34m/\u001b[0m \u001b[0mh\u001b[0m\u001b[0;34m)\u001b[0m\u001b[0;34m)\u001b[0m\u001b[0;34m\u001b[0m\u001b[0m\n\u001b[0m\u001b[1;32m     33\u001b[0m \u001b[0;34m\u001b[0m\u001b[0m\n\u001b[1;32m     34\u001b[0m \u001b[0;34m\u001b[0m\u001b[0m\n",
      "\u001b[0;31mValueError\u001b[0m: cannot convert float NaN to integer"
     ]
    },
    {
     "data": {
      "image/png": "[encoded data removed]",
      "text/plain": [
       "<matplotlib.figure.Figure at 0x189bd7d50>"
      ]
     },
     "metadata": {},
     "output_type": "display_data"
    }
   ],
   "source": [
    "plt.figure(figsize=(20,10))\n",
    "sns.distplot(mov.rev_totalGross_ADJ, rug=True)\n",
    "#sns.boxplot(mov.rev_totalGross_ADJ)\n",
    "#mov.rev_totalGross_ADJ.dropna(inplace=True) #IMPUTE (delete in this case, all gross revs missing)"
   ]
  },
  {
   "cell_type": "code",
   "execution_count": 302,
   "metadata": {
    "collapsed": false
   },
   "outputs": [],
   "source": [
    "mov['rev_totalGross_ADJ'].fillna(mov.groupby(['year','distributor','genre_bomojo'])['rev_totalGross_ADJ'].transform('median'),inplace=True)"
   ]
  },
  {
   "cell_type": "code",
   "execution_count": 303,
   "metadata": {
    "collapsed": false
   },
   "outputs": [],
   "source": [
    "# dont think it caught any, try without year\n",
    "mov['rev_totalGross_ADJ'].fillna(mov.groupby(['distributor','genre_bomojo'])['rev_totalGross_ADJ'].transform('median'),inplace=True)"
   ]
  },
  {
   "cell_type": "code",
   "execution_count": 316,
   "metadata": {
    "collapsed": false
   },
   "outputs": [
    {
     "data": {
      "text/plain": [
       "2997"
      ]
     },
     "execution_count": 316,
     "metadata": {},
     "output_type": "execute_result"
    }
   ],
   "source": [
    "#sum(mov.rev_totalGross_ADJ.isnull()) #caught all!\n",
    "#sum(mov.rev_opening_ADJ.isnull())\n",
    "sum(mov.prod_budget_ADJ.isnull())"
   ]
  },
  {
   "cell_type": "code",
   "execution_count": 306,
   "metadata": {
    "collapsed": false
   },
   "outputs": [],
   "source": [
    "#Next, we'll look at rev_opening_ADJ\n",
    "#first, impute by mean revenue of distributor and genre for that year,\n",
    "mov['rev_opening_ADJ'].fillna(mov.groupby(['year','distributor','genre_bomojo'])['rev_opening_ADJ'].transform('mean'), inplace=True)\n",
    "\n",
    "#only catches a few because of the year constraint, now impute based on distributor and genre\n",
    "mov['rev_opening_ADJ'].fillna(mov.groupby(['distributor','genre_bomojo'])['rev_opening_ADJ'].transform('median'), inplace=True)\n",
    "#fills about a 2/3rds of Nas, drop the rest...\n",
    "\n",
    "mov['rev_opening_ADJ'].dropna(inplace=True)\n",
    "\n"
   ]
  },
  {
   "cell_type": "code",
   "execution_count": 307,
   "metadata": {
    "collapsed": false
   },
   "outputs": [],
   "source": [
    "#mov.sort_values(by='rev_opening_ADJ', ascending=False).tail(50)\n",
    "#get rid of anything < 1000\n",
    "mov.sort_index(inplace=True)\n",
    "mov=mov[mov.rev_opening_ADJ >= 15000]"
   ]
  },
  {
   "cell_type": "code",
   "execution_count": 308,
   "metadata": {
    "collapsed": false
   },
   "outputs": [
    {
     "name": "stderr",
     "output_type": "stream",
     "text": [
      "/Users/ash/anaconda/lib/python2.7/site-packages/ipykernel/__main__.py:2: SettingWithCopyWarning: \n",
      "A value is trying to be set on a copy of a slice from a DataFrame\n",
      "\n",
      "See the caveats in the documentation: http://pandas.pydata.org/pandas-docs/stable/indexing.html#indexing-view-versus-copy\n",
      "  from ipykernel import kernelapp as app\n"
     ]
    }
   ],
   "source": [
    "#Next, prod_budget!! My na's are 0s here, convert to Nas\n",
    "mov.prod_budget_ADJ[mov.prod_budget_ADJ==0]=np.nan"
   ]
  },
  {
   "cell_type": "code",
   "execution_count": 309,
   "metadata": {
    "collapsed": false
   },
   "outputs": [
    {
     "data": {
      "text/plain": [
       "3312"
      ]
     },
     "execution_count": 309,
     "metadata": {},
     "output_type": "execute_result"
    }
   ],
   "source": [
    "sum(mov.prod_budget_ADJ.isnull())"
   ]
  },
  {
   "cell_type": "code",
   "execution_count": 310,
   "metadata": {
    "collapsed": false
   },
   "outputs": [],
   "source": [
    "#PRODUCTION BUDGET SI A SENSITIVE PREDICTOR, don't want to go crazy with imputing. Will impute based on median for that year.\n",
    "\n",
    "mov.prod_budget_ADJ.fillna(mov.groupby(['year','distributor','genre_bomojo'])['prod_budget_ADJ'].transform('median'), inplace=True)"
   ]
  },
  {
   "cell_type": "code",
   "execution_count": 311,
   "metadata": {
    "collapsed": false
   },
   "outputs": [],
   "source": [
    "#got it down by 300-ish, still a lot left. CHECK FOR SYSTEMATICITY, create indicator variable for prod_budget_ADJ == NaN\n",
    "mov['is_missing_prodbudgetADJ']=mov['prod_budget'].apply(lambda val: 0 if val>0 else 1)\n"
   ]
  },
  {
   "cell_type": "code",
   "execution_count": 314,
   "metadata": {
    "collapsed": false
   },
   "outputs": [
    {
     "data": {
      "text/plain": [
       "array([[<matplotlib.axes._subplots.AxesSubplot object at 0x1f629fe10>,\n",
       "        <matplotlib.axes._subplots.AxesSubplot object at 0x1f9fbf910>,\n",
       "        <matplotlib.axes._subplots.AxesSubplot object at 0x1f71d4150>,\n",
       "        <matplotlib.axes._subplots.AxesSubplot object at 0x1fb3e7410>,\n",
       "        <matplotlib.axes._subplots.AxesSubplot object at 0x1fb537b90>,\n",
       "        <matplotlib.axes._subplots.AxesSubplot object at 0x1fb5650d0>,\n",
       "        <matplotlib.axes._subplots.AxesSubplot object at 0x1fba0ff50>],\n",
       "       [<matplotlib.axes._subplots.AxesSubplot object at 0x1fbaa60d0>,\n",
       "        <matplotlib.axes._subplots.AxesSubplot object at 0x1fbaf7f90>,\n",
       "        <matplotlib.axes._subplots.AxesSubplot object at 0x1fbb83050>,\n",
       "        <matplotlib.axes._subplots.AxesSubplot object at 0x1fbbc9dd0>,\n",
       "        <matplotlib.axes._subplots.AxesSubplot object at 0x1fbc52fd0>,\n",
       "        <matplotlib.axes._subplots.AxesSubplot object at 0x1fbccef50>,\n",
       "        <matplotlib.axes._subplots.AxesSubplot object at 0x1fbd45110>],\n",
       "       [<matplotlib.axes._subplots.AxesSubplot object at 0x1fbdc1090>,\n",
       "        <matplotlib.axes._subplots.AxesSubplot object at 0x1fbe210d0>,\n",
       "        <matplotlib.axes._subplots.AxesSubplot object at 0x1fbea0050>,\n",
       "        <matplotlib.axes._subplots.AxesSubplot object at 0x1fbefae10>,\n",
       "        <matplotlib.axes._subplots.AxesSubplot object at 0x1fbf91050>,\n",
       "        <matplotlib.axes._subplots.AxesSubplot object at 0x1fc836f90>,\n",
       "        <matplotlib.axes._subplots.AxesSubplot object at 0x1fc8a5b10>],\n",
       "       [<matplotlib.axes._subplots.AxesSubplot object at 0x1fc928a90>,\n",
       "        <matplotlib.axes._subplots.AxesSubplot object at 0x1fc98cbd0>,\n",
       "        <matplotlib.axes._subplots.AxesSubplot object at 0x1fca0cc50>,\n",
       "        <matplotlib.axes._subplots.AxesSubplot object at 0x1fca1bfd0>,\n",
       "        <matplotlib.axes._subplots.AxesSubplot object at 0x1fcafccd0>,\n",
       "        <matplotlib.axes._subplots.AxesSubplot object at 0x1fcb7fc50>,\n",
       "        <matplotlib.axes._subplots.AxesSubplot object at 0x1fcbe2e90>],\n",
       "       [<matplotlib.axes._subplots.AxesSubplot object at 0x1fcc65e10>,\n",
       "        <matplotlib.axes._subplots.AxesSubplot object at 0x1fccccc10>,\n",
       "        <matplotlib.axes._subplots.AxesSubplot object at 0x1fce54e10>,\n",
       "        <matplotlib.axes._subplots.AxesSubplot object at 0x1fced6d90>,\n",
       "        <matplotlib.axes._subplots.AxesSubplot object at 0x1fcf45910>,\n",
       "        <matplotlib.axes._subplots.AxesSubplot object at 0x1fcfc9890>,\n",
       "        <matplotlib.axes._subplots.AxesSubplot object at 0x1fd82c9d0>],\n",
       "       [<matplotlib.axes._subplots.AxesSubplot object at 0x1fd8ada50>,\n",
       "        <matplotlib.axes._subplots.AxesSubplot object at 0x1fd8bbe10>,\n",
       "        <matplotlib.axes._subplots.AxesSubplot object at 0x1fd99cad0>,\n",
       "        <matplotlib.axes._subplots.AxesSubplot object at 0x1fda1ea50>,\n",
       "        <matplotlib.axes._subplots.AxesSubplot object at 0x1fda81c90>,\n",
       "        <matplotlib.axes._subplots.AxesSubplot object at 0x1fdb04c10>,\n",
       "        <matplotlib.axes._subplots.AxesSubplot object at 0x1fdb6da10>],\n",
       "       [<matplotlib.axes._subplots.AxesSubplot object at 0x1fdbf4c10>,\n",
       "        <matplotlib.axes._subplots.AxesSubplot object at 0x1fdd77b90>,\n",
       "        <matplotlib.axes._subplots.AxesSubplot object at 0x1fdde6710>,\n",
       "        <matplotlib.axes._subplots.AxesSubplot object at 0x1fde67690>,\n",
       "        <matplotlib.axes._subplots.AxesSubplot object at 0x1fdecd7d0>,\n",
       "        <matplotlib.axes._subplots.AxesSubplot object at 0x1fdf4c850>,\n",
       "        <matplotlib.axes._subplots.AxesSubplot object at 0x1fdf85910>]], dtype=object)"
      ]
     },
     "execution_count": 314,
     "metadata": {},
     "output_type": "execute_result"
    },
    {
     "data": {
      "image/png": "[encoded data removed]",
      "text/plain": [
       "<matplotlib.figure.Figure at 0x1f1c5d890>"
      ]
     },
     "metadata": {},
     "output_type": "display_data"
    }
   ],
   "source": [
    "#mov.prod_budget_ADJ.fillna(mov.groupby(['distributor','genre_bomojo'])['prod_budget_ADJ'].transform('median'), inplace=True)\n",
    "mov.hist('is_missing_prodbudgetADJ',by='Year', figsize=(20,20))"
   ]
  },
  {
   "cell_type": "code",
   "execution_count": 315,
   "metadata": {
    "collapsed": false
   },
   "outputs": [
    {
     "data": {
      "text/plain": [
       "(5229, 27)"
      ]
     },
     "execution_count": 315,
     "metadata": {},
     "output_type": "execute_result"
    }
   ],
   "source": [
    "#mov.prod_budget_ADJ.fillna(mov.groupby(['distributor'])['prod_budget_ADJ'].transform('median'), inplace=True)\n",
    "#mov=mov[mov.releaseYear<=2014]\n",
    "mov.shape"
   ]
  },
  {
   "cell_type": "code",
   "execution_count": 317,
   "metadata": {
    "collapsed": true
   },
   "outputs": [],
   "source": [
    "#Use Joel's suggestion of using a linear combination of other predictors to impute, also create an indicator to indicate missing values (call out the bias in data)\n",
    "#Usually production budget for low budget films that didn't do well is pretty low. \n",
    "#one way is to run a linear reg on B1*rev_totalGross_ADJ + B2*rev_opening_ADJ = prod_budget_ADJ, use the parameters to impute missing vals\n",
    "\n",
    "revs = pd.DataFrame({'gross':mov.loc[mov.prod_budget_ADJ.notnull(), 'rev_totalGross_ADJ'],\n",
    "                     'opening':mov.loc[mov.prod_budget_ADJ.notnull(), 'rev_opening_ADJ'],\n",
    "                    'prodbudget':mov.loc[mov.prod_budget_ADJ.notnull(),'prod_budget_ADJ']})\n",
    "revs=revs.reset_index()"
   ]
  },
  {
   "cell_type": "code",
   "execution_count": 318,
   "metadata": {
    "collapsed": false
   },
   "outputs": [
    {
     "data": {
      "text/html": [
       "<table class=\"simpletable\">\n",
       "<caption>OLS Regression Results</caption>\n",
       "<tr>\n",
       "  <th>Dep. Variable:</th>       <td>prodbudget</td>    <th>  R-squared:         </th> <td>   0.171</td> \n",
       "</tr>\n",
       "<tr>\n",
       "  <th>Model:</th>                   <td>OLS</td>       <th>  Adj. R-squared:    </th> <td>   0.170</td> \n",
       "</tr>\n",
       "<tr>\n",
       "  <th>Method:</th>             <td>Least Squares</td>  <th>  F-statistic:       </th> <td>   230.4</td> \n",
       "</tr>\n",
       "<tr>\n",
       "  <th>Date:</th>             <td>Wed, 27 Apr 2016</td> <th>  Prob (F-statistic):</th> <td>1.13e-91</td> \n",
       "</tr>\n",
       "<tr>\n",
       "  <th>Time:</th>                 <td>15:32:03</td>     <th>  Log-Likelihood:    </th> <td> -44027.</td> \n",
       "</tr>\n",
       "<tr>\n",
       "  <th>No. Observations:</th>      <td>  2232</td>      <th>  AIC:               </th> <td>8.806e+04</td>\n",
       "</tr>\n",
       "<tr>\n",
       "  <th>Df Residuals:</th>          <td>  2230</td>      <th>  BIC:               </th> <td>8.807e+04</td>\n",
       "</tr>\n",
       "<tr>\n",
       "  <th>Df Model:</th>              <td>     2</td>      <th>                     </th>     <td> </td>    \n",
       "</tr>\n",
       "<tr>\n",
       "  <th>Covariance Type:</th>      <td>nonrobust</td>    <th>                     </th>     <td> </td>    \n",
       "</tr>\n",
       "</table>\n",
       "<table class=\"simpletable\">\n",
       "<tr>\n",
       "     <td></td>        <th>coef</th>     <th>std err</th>      <th>t</th>      <th>P>|t|</th> <th>[95.0% Conf. Int.]</th> \n",
       "</tr>\n",
       "<tr>\n",
       "  <th>gross</th>   <td>    0.1255</td> <td>    0.006</td> <td>   20.703</td> <td> 0.000</td> <td>    0.114     0.137</td>\n",
       "</tr>\n",
       "<tr>\n",
       "  <th>opening</th> <td>-2.248e-06</td> <td> 2.57e-05</td> <td>   -0.088</td> <td> 0.930</td> <td>-5.26e-05  4.81e-05</td>\n",
       "</tr>\n",
       "</table>\n",
       "<table class=\"simpletable\">\n",
       "<tr>\n",
       "  <th>Omnibus:</th>       <td>2930.119</td> <th>  Durbin-Watson:     </th>  <td>   1.276</td>  \n",
       "</tr>\n",
       "<tr>\n",
       "  <th>Prob(Omnibus):</th>  <td> 0.000</td>  <th>  Jarque-Bera (JB):  </th> <td>1510591.980</td>\n",
       "</tr>\n",
       "<tr>\n",
       "  <th>Skew:</th>           <td> 6.781</td>  <th>  Prob(JB):          </th>  <td>    0.00</td>  \n",
       "</tr>\n",
       "<tr>\n",
       "  <th>Kurtosis:</th>       <td>129.724</td> <th>  Cond. No.          </th>  <td>    245.</td>  \n",
       "</tr>\n",
       "</table>"
      ],
      "text/plain": [
       "<class 'statsmodels.iolib.summary.Summary'>\n",
       "\"\"\"\n",
       "                            OLS Regression Results                            \n",
       "==============================================================================\n",
       "Dep. Variable:             prodbudget   R-squared:                       0.171\n",
       "Model:                            OLS   Adj. R-squared:                  0.170\n",
       "Method:                 Least Squares   F-statistic:                     230.4\n",
       "Date:                Wed, 27 Apr 2016   Prob (F-statistic):           1.13e-91\n",
       "Time:                        15:32:03   Log-Likelihood:                -44027.\n",
       "No. Observations:                2232   AIC:                         8.806e+04\n",
       "Df Residuals:                    2230   BIC:                         8.807e+04\n",
       "Df Model:                           2                                         \n",
       "Covariance Type:            nonrobust                                         \n",
       "==============================================================================\n",
       "                 coef    std err          t      P>|t|      [95.0% Conf. Int.]\n",
       "------------------------------------------------------------------------------\n",
       "gross          0.1255      0.006     20.703      0.000         0.114     0.137\n",
       "opening    -2.248e-06   2.57e-05     -0.088      0.930     -5.26e-05  4.81e-05\n",
       "==============================================================================\n",
       "Omnibus:                     2930.119   Durbin-Watson:                   1.276\n",
       "Prob(Omnibus):                  0.000   Jarque-Bera (JB):          1510591.980\n",
       "Skew:                           6.781   Prob(JB):                         0.00\n",
       "Kurtosis:                     129.724   Cond. No.                         245.\n",
       "==============================================================================\n",
       "\n",
       "Warnings:\n",
       "[1] Standard Errors assume that the covariance matrix of the errors is correctly specified.\n",
       "\"\"\""
      ]
     },
     "execution_count": 318,
     "metadata": {},
     "output_type": "execute_result"
    }
   ],
   "source": [
    "#not much of a relationship, but it's the best we have, so we'll use to impute\n",
    "revs_fit = (sm.OLS(revs.prodbudget, revs[['gross','opening']],missing='drop')).fit()\n",
    "revs_fit.summary()"
   ]
  },
  {
   "cell_type": "code",
   "execution_count": 319,
   "metadata": {
    "collapsed": false
   },
   "outputs": [
    {
     "data": {
      "text/plain": [
       "<matplotlib.axes._subplots.AxesSubplot at 0x200a8aed0>"
      ]
     },
     "execution_count": 319,
     "metadata": {},
     "output_type": "execute_result"
    },
    {
     "data": {
      "image/png": "[encoded data removed]",
      "text/plain": [
       "<matplotlib.figure.Figure at 0x1ffcc3790>"
      ]
     },
     "metadata": {},
     "output_type": "display_data"
    }
   ],
   "source": [
    "#resid errors are homoskedastic\n",
    "revs_fit.resid.plot(style='o', figsize=(12,8))"
   ]
  },
  {
   "cell_type": "code",
   "execution_count": 320,
   "metadata": {
    "collapsed": false
   },
   "outputs": [],
   "source": [
    "#okay, we have a rough model. Let's impute (predict) prod_budget_ADJ\n",
    "mov.loc[mov.prod_budget_ADJ.isnull(),'prod_budget_ADJ']=revs_fit.predict(mov.loc[mov.prod_budget_ADJ.isnull(), ['rev_totalGross_ADJ','rev_opening_ADJ']])"
   ]
  },
  {
   "cell_type": "code",
   "execution_count": null,
   "metadata": {
    "collapsed": true
   },
   "outputs": [],
   "source": []
  },
  {
   "cell_type": "code",
   "execution_count": null,
   "metadata": {
    "collapsed": true
   },
   "outputs": [],
   "source": []
  },
  {
   "cell_type": "code",
   "execution_count": 321,
   "metadata": {
    "collapsed": false
   },
   "outputs": [
    {
     "data": {
      "text/plain": [
       "0"
      ]
     },
     "execution_count": 321,
     "metadata": {},
     "output_type": "execute_result"
    }
   ],
   "source": [
    "#mov.prod_budget_ADJ.dropna(inplace=True)\n",
    "sum(mov.prod_budget_ADJ.isnull())"
   ]
  },
  {
   "cell_type": "code",
   "execution_count": 322,
   "metadata": {
    "collapsed": false
   },
   "outputs": [
    {
     "data": {
      "text/html": [
       "<div>\n",
       "<table border=\"1\" class=\"dataframe\">\n",
       "  <thead>\n",
       "    <tr style=\"text-align: right;\">\n",
       "      <th></th>\n",
       "      <th>Unnamed: 0</th>\n",
       "      <th>director</th>\n",
       "      <th>distributor</th>\n",
       "      <th>genre_bomojo</th>\n",
       "      <th>rating</th>\n",
       "      <th>title</th>\n",
       "      <th>releaseDate</th>\n",
       "      <th>isCult</th>\n",
       "      <th>canontitle</th>\n",
       "      <th>rev_totalGross</th>\n",
       "      <th>...</th>\n",
       "      <th>releaseYear</th>\n",
       "      <th>Year</th>\n",
       "      <th>AvgPrice</th>\n",
       "      <th>rev_opening_ADJ</th>\n",
       "      <th>rev_totalGross_ADJ</th>\n",
       "      <th>year</th>\n",
       "      <th>CPI</th>\n",
       "      <th>prod_budget_ADJ</th>\n",
       "      <th>CULT_INDEX</th>\n",
       "      <th>is_missing_prodbudgetADJ</th>\n",
       "    </tr>\n",
       "  </thead>\n",
       "  <tbody>\n",
       "    <tr>\n",
       "      <th>1</th>\n",
       "      <td>890</td>\n",
       "      <td>Peter Masterson</td>\n",
       "      <td>Island Pictures</td>\n",
       "      <td>Drama</td>\n",
       "      <td>PG</td>\n",
       "      <td>The Trip to Bountiful</td>\n",
       "      <td>1985-12-20</td>\n",
       "      <td>NaN</td>\n",
       "      <td>triptobountiful</td>\n",
       "      <td>18365865.06860</td>\n",
       "      <td>...</td>\n",
       "      <td>1985</td>\n",
       "      <td>1985</td>\n",
       "      <td>3.5</td>\n",
       "      <td>20560.131429</td>\n",
       "      <td>4.502261e+07</td>\n",
       "      <td>1985</td>\n",
       "      <td>107.6</td>\n",
       "      <td>5650869.561865</td>\n",
       "      <td>0.106507</td>\n",
       "      <td>1</td>\n",
       "    </tr>\n",
       "    <tr>\n",
       "      <th>3</th>\n",
       "      <td>240</td>\n",
       "      <td>Peter Yates</td>\n",
       "      <td>Fox</td>\n",
       "      <td>Comedy / Drama</td>\n",
       "      <td>PG</td>\n",
       "      <td>Breaking Away</td>\n",
       "      <td>1979-07-13</td>\n",
       "      <td>NaN</td>\n",
       "      <td>breakingaway</td>\n",
       "      <td>56370318.57600</td>\n",
       "      <td>...</td>\n",
       "      <td>1979</td>\n",
       "      <td>1979</td>\n",
       "      <td>2.5</td>\n",
       "      <td>60753.264000</td>\n",
       "      <td>1.934629e+08</td>\n",
       "      <td>1979</td>\n",
       "      <td>72.6</td>\n",
       "      <td>24281886.199245</td>\n",
       "      <td>0.052415</td>\n",
       "      <td>1</td>\n",
       "    </tr>\n",
       "    <tr>\n",
       "      <th>6</th>\n",
       "      <td>3773</td>\n",
       "      <td>Jeffrey Blitz</td>\n",
       "      <td>ThinkFilm</td>\n",
       "      <td>Documentary</td>\n",
       "      <td>G</td>\n",
       "      <td>Spellbound</td>\n",
       "      <td>2003-04-30</td>\n",
       "      <td>NaN</td>\n",
       "      <td>spellbound</td>\n",
       "      <td>8191870.83000</td>\n",
       "      <td>...</td>\n",
       "      <td>2003</td>\n",
       "      <td>2003</td>\n",
       "      <td>6.0</td>\n",
       "      <td>25036.440000</td>\n",
       "      <td>1.171438e+07</td>\n",
       "      <td>2003</td>\n",
       "      <td>184.0</td>\n",
       "      <td>1470292.595044</td>\n",
       "      <td>0.018688</td>\n",
       "      <td>1</td>\n",
       "    </tr>\n",
       "    <tr>\n",
       "      <th>7</th>\n",
       "      <td>4000</td>\n",
       "      <td>Zana Briski, Ross Kauffman</td>\n",
       "      <td>ThinkFilm</td>\n",
       "      <td>Documentary</td>\n",
       "      <td>R</td>\n",
       "      <td>Born into Brothels</td>\n",
       "      <td>2004-12-08</td>\n",
       "      <td>NaN</td>\n",
       "      <td>bornintobrothels</td>\n",
       "      <td>4864390.86774</td>\n",
       "      <td>...</td>\n",
       "      <td>2004</td>\n",
       "      <td>2004</td>\n",
       "      <td>6.2</td>\n",
       "      <td>20211.435484</td>\n",
       "      <td>6.731689e+06</td>\n",
       "      <td>2004</td>\n",
       "      <td>188.9</td>\n",
       "      <td>844906.581073</td>\n",
       "      <td>0.016479</td>\n",
       "      <td>1</td>\n",
       "    </tr>\n",
       "    <tr>\n",
       "      <th>13</th>\n",
       "      <td>428</td>\n",
       "      <td>Albert Brooks</td>\n",
       "      <td>Columbia</td>\n",
       "      <td>Romantic Comedy</td>\n",
       "      <td>R</td>\n",
       "      <td>Modern Romance</td>\n",
       "      <td>1981-03-13</td>\n",
       "      <td>NaN</td>\n",
       "      <td>modernromance</td>\n",
       "      <td>9100017.91111</td>\n",
       "      <td>...</td>\n",
       "      <td>1981</td>\n",
       "      <td>1981</td>\n",
       "      <td>2.7</td>\n",
       "      <td>57915.000000</td>\n",
       "      <td>2.891783e+07</td>\n",
       "      <td>1981</td>\n",
       "      <td>90.9</td>\n",
       "      <td>3629530.152339</td>\n",
       "      <td>0.008622</td>\n",
       "      <td>1</td>\n",
       "    </tr>\n",
       "  </tbody>\n",
       "</table>\n",
       "<p>5 rows × 27 columns</p>\n",
       "</div>"
      ],
      "text/plain": [
       "    Unnamed: 0                    director      distributor     genre_bomojo  \\\n",
       "1          890             Peter Masterson  Island Pictures            Drama   \n",
       "3          240                 Peter Yates              Fox   Comedy / Drama   \n",
       "6         3773               Jeffrey Blitz        ThinkFilm      Documentary   \n",
       "7         4000  Zana Briski, Ross Kauffman        ThinkFilm      Documentary   \n",
       "13         428               Albert Brooks         Columbia  Romantic Comedy   \n",
       "\n",
       "   rating                  title releaseDate  isCult        canontitle  \\\n",
       "1      PG  The Trip to Bountiful  1985-12-20     NaN   triptobountiful   \n",
       "3      PG          Breaking Away  1979-07-13     NaN      breakingaway   \n",
       "6       G             Spellbound  2003-04-30     NaN        spellbound   \n",
       "7       R     Born into Brothels  2004-12-08     NaN  bornintobrothels   \n",
       "13      R         Modern Romance  1981-03-13     NaN     modernromance   \n",
       "\n",
       "    rev_totalGross            ...             releaseYear  Year AvgPrice  \\\n",
       "1   18365865.06860            ...                    1985  1985      3.5   \n",
       "3   56370318.57600            ...                    1979  1979      2.5   \n",
       "6    8191870.83000            ...                    2003  2003      6.0   \n",
       "7    4864390.86774            ...                    2004  2004      6.2   \n",
       "13   9100017.91111            ...                    1981  1981      2.7   \n",
       "\n",
       "    rev_opening_ADJ  rev_totalGross_ADJ  year    CPI  prod_budget_ADJ  \\\n",
       "1      20560.131429        4.502261e+07  1985  107.6   5650869.561865   \n",
       "3      60753.264000        1.934629e+08  1979   72.6  24281886.199245   \n",
       "6      25036.440000        1.171438e+07  2003  184.0   1470292.595044   \n",
       "7      20211.435484        6.731689e+06  2004  188.9    844906.581073   \n",
       "13     57915.000000        2.891783e+07  1981   90.9   3629530.152339   \n",
       "\n",
       "    CULT_INDEX  is_missing_prodbudgetADJ  \n",
       "1     0.106507                         1  \n",
       "3     0.052415                         1  \n",
       "6     0.018688                         1  \n",
       "7     0.016479                         1  \n",
       "13    0.008622                         1  \n",
       "\n",
       "[5 rows x 27 columns]"
      ]
     },
     "execution_count": 322,
     "metadata": {},
     "output_type": "execute_result"
    }
   ],
   "source": [
    "mov.head()"
   ]
  },
  {
   "cell_type": "code",
   "execution_count": 323,
   "metadata": {
    "collapsed": false
   },
   "outputs": [
    {
     "data": {
      "text/plain": [
       "<matplotlib.axes._subplots.AxesSubplot at 0x1fe59bb90>"
      ]
     },
     "execution_count": 323,
     "metadata": {},
     "output_type": "execute_result"
    },
    {
     "data": {
      "image/png": "[encoded data removed]",
      "text/plain": [
       "<matplotlib.figure.Figure at 0x1fe3f84d0>"
      ]
     },
     "metadata": {},
     "output_type": "display_data"
    }
   ],
   "source": [
    "plt.figure(figsize=(20,5))\n",
    "sns.distplot(mov.rev_opening_ADJ, rug=True)"
   ]
  },
  {
   "cell_type": "code",
   "execution_count": 324,
   "metadata": {
    "collapsed": false
   },
   "outputs": [
    {
     "data": {
      "text/plain": [
       "(5229, 27)"
      ]
     },
     "execution_count": 324,
     "metadata": {},
     "output_type": "execute_result"
    }
   ],
   "source": [
    "#mov.sort_index(inplace=True)\n",
    "mov.shape"
   ]
  },
  {
   "cell_type": "code",
   "execution_count": 325,
   "metadata": {
    "collapsed": false
   },
   "outputs": [],
   "source": [
    "mov.sort_values(by='rev_totalGross_ADJ', ascending=False).tail(25)\n",
    "\n",
    "# movies at the higher end are just blockbusters, not corrupt data. Look at rev_totalGross_ADJ that's low\n",
    "# remove anything that's rev_totalGross_ADJ < 5000\n",
    "\n",
    "mov=mov[mov.rev_totalGross_ADJ>10000]"
   ]
  },
  {
   "cell_type": "code",
   "execution_count": 326,
   "metadata": {
    "collapsed": false
   },
   "outputs": [
    {
     "data": {
      "text/html": [
       "<div>\n",
       "<table border=\"1\" class=\"dataframe\">\n",
       "  <thead>\n",
       "    <tr style=\"text-align: right;\">\n",
       "      <th></th>\n",
       "      <th>Unnamed: 0</th>\n",
       "      <th>director</th>\n",
       "      <th>distributor</th>\n",
       "      <th>genre_bomojo</th>\n",
       "      <th>rating</th>\n",
       "      <th>title</th>\n",
       "      <th>releaseDate</th>\n",
       "      <th>isCult</th>\n",
       "      <th>canontitle</th>\n",
       "      <th>rev_totalGross</th>\n",
       "      <th>...</th>\n",
       "      <th>releaseYear</th>\n",
       "      <th>Year</th>\n",
       "      <th>AvgPrice</th>\n",
       "      <th>rev_opening_ADJ</th>\n",
       "      <th>rev_totalGross_ADJ</th>\n",
       "      <th>year</th>\n",
       "      <th>CPI</th>\n",
       "      <th>prod_budget_ADJ</th>\n",
       "      <th>CULT_INDEX</th>\n",
       "      <th>is_missing_prodbudgetADJ</th>\n",
       "    </tr>\n",
       "  </thead>\n",
       "  <tbody>\n",
       "    <tr>\n",
       "      <th>420</th>\n",
       "      <td>5079</td>\n",
       "      <td>Dror Soref</td>\n",
       "      <td>Anchor Bay Films</td>\n",
       "      <td>Thriller</td>\n",
       "      <td>R</td>\n",
       "      <td>Not Forgotten</td>\n",
       "      <td>2009-05-15</td>\n",
       "      <td>NaN</td>\n",
       "      <td>notforgotten</td>\n",
       "      <td>61483.136000</td>\n",
       "      <td>...</td>\n",
       "      <td>2009</td>\n",
       "      <td>2009</td>\n",
       "      <td>7.5</td>\n",
       "      <td>2.112739e+04</td>\n",
       "      <td>70336.707584</td>\n",
       "      <td>2009</td>\n",
       "      <td>214.537</td>\n",
       "      <td>8828.041226</td>\n",
       "      <td>3.939402e-05</td>\n",
       "      <td>1</td>\n",
       "    </tr>\n",
       "    <tr>\n",
       "      <th>269</th>\n",
       "      <td>4100</td>\n",
       "      <td>Shane Carruth</td>\n",
       "      <td>ThinkFilm</td>\n",
       "      <td>Unknown</td>\n",
       "      <td>PG-13</td>\n",
       "      <td>Primer</td>\n",
       "      <td>2004-10-08</td>\n",
       "      <td>1</td>\n",
       "      <td>primer</td>\n",
       "      <td>587813.032258</td>\n",
       "      <td>...</td>\n",
       "      <td>2004</td>\n",
       "      <td>2004</td>\n",
       "      <td>6.2</td>\n",
       "      <td>3.897257e+04</td>\n",
       "      <td>813457.389802</td>\n",
       "      <td>2004</td>\n",
       "      <td>188.900</td>\n",
       "      <td>8819.481207</td>\n",
       "      <td>1.338926e-04</td>\n",
       "      <td>0</td>\n",
       "    </tr>\n",
       "    <tr>\n",
       "      <th>792</th>\n",
       "      <td>4716</td>\n",
       "      <td>Andrew Black</td>\n",
       "      <td>First Independent Pictures</td>\n",
       "      <td>Comedy</td>\n",
       "      <td>PG-13</td>\n",
       "      <td>Moving McAllister</td>\n",
       "      <td>2007-09-14</td>\n",
       "      <td>NaN</td>\n",
       "      <td>movingmcallister</td>\n",
       "      <td>53672.947059</td>\n",
       "      <td>...</td>\n",
       "      <td>2007</td>\n",
       "      <td>2007</td>\n",
       "      <td>6.8</td>\n",
       "      <td>3.616849e+04</td>\n",
       "      <td>67722.630259</td>\n",
       "      <td>2007</td>\n",
       "      <td>207.300</td>\n",
       "      <td>8499.909794</td>\n",
       "      <td>6.019698e-07</td>\n",
       "      <td>1</td>\n",
       "    </tr>\n",
       "    <tr>\n",
       "      <th>374</th>\n",
       "      <td>4571</td>\n",
       "      <td>Chris Chan Lee</td>\n",
       "      <td>Indican</td>\n",
       "      <td>Drama</td>\n",
       "      <td>R</td>\n",
       "      <td>Undoing</td>\n",
       "      <td>2008-01-04</td>\n",
       "      <td>NaN</td>\n",
       "      <td>undoing</td>\n",
       "      <td>54379.073239</td>\n",
       "      <td>...</td>\n",
       "      <td>2008</td>\n",
       "      <td>2008</td>\n",
       "      <td>7.1</td>\n",
       "      <td>1.941376e+04</td>\n",
       "      <td>65714.429351</td>\n",
       "      <td>2008</td>\n",
       "      <td>215.303</td>\n",
       "      <td>8247.894489</td>\n",
       "      <td>5.811927e-05</td>\n",
       "      <td>1</td>\n",
       "    </tr>\n",
       "    <tr>\n",
       "      <th>684</th>\n",
       "      <td>4196</td>\n",
       "      <td>John Mallory Asher</td>\n",
       "      <td>First Look</td>\n",
       "      <td>Comedy</td>\n",
       "      <td>R</td>\n",
       "      <td>Dirty Love</td>\n",
       "      <td>2005-09-23</td>\n",
       "      <td>NaN</td>\n",
       "      <td>dirtylove</td>\n",
       "      <td>48395.221875</td>\n",
       "      <td>...</td>\n",
       "      <td>2005</td>\n",
       "      <td>2005</td>\n",
       "      <td>6.4</td>\n",
       "      <td>3.121109e+04</td>\n",
       "      <td>64879.844326</td>\n",
       "      <td>2005</td>\n",
       "      <td>195.300</td>\n",
       "      <td>8143.117680</td>\n",
       "      <td>1.513698e-06</td>\n",
       "      <td>1</td>\n",
       "    </tr>\n",
       "    <tr>\n",
       "      <th>1016</th>\n",
       "      <td>2381</td>\n",
       "      <td>Wallace Wolodarsky</td>\n",
       "      <td>IRS Media</td>\n",
       "      <td>Unknown</td>\n",
       "      <td>R</td>\n",
       "      <td>Coldblooded</td>\n",
       "      <td>1995-09-15</td>\n",
       "      <td>NaN</td>\n",
       "      <td>coldblooded</td>\n",
       "      <td>32320.660465</td>\n",
       "      <td>...</td>\n",
       "      <td>1995</td>\n",
       "      <td>1995</td>\n",
       "      <td>4.3</td>\n",
       "      <td>1.680682e+04</td>\n",
       "      <td>64490.992277</td>\n",
       "      <td>1995</td>\n",
       "      <td>152.400</td>\n",
       "      <td>8094.344526</td>\n",
       "      <td>1.312135e-07</td>\n",
       "      <td>1</td>\n",
       "    </tr>\n",
       "    <tr>\n",
       "      <th>601</th>\n",
       "      <td>4155</td>\n",
       "      <td>Adam Del Deo, James D. Stern</td>\n",
       "      <td>Fine Line</td>\n",
       "      <td>Documentary</td>\n",
       "      <td>PG</td>\n",
       "      <td>The Year of the Yao</td>\n",
       "      <td>2005-04-15</td>\n",
       "      <td>NaN</td>\n",
       "      <td>yearoftheyao</td>\n",
       "      <td>47714.184375</td>\n",
       "      <td>...</td>\n",
       "      <td>2005</td>\n",
       "      <td>2005</td>\n",
       "      <td>6.4</td>\n",
       "      <td>3.730021e+04</td>\n",
       "      <td>63966.828428</td>\n",
       "      <td>2005</td>\n",
       "      <td>195.300</td>\n",
       "      <td>8028.509699</td>\n",
       "      <td>3.831343e-06</td>\n",
       "      <td>1</td>\n",
       "    </tr>\n",
       "    <tr>\n",
       "      <th>661</th>\n",
       "      <td>5056</td>\n",
       "      <td>Robert Iscove</td>\n",
       "      <td>Screen Media</td>\n",
       "      <td>Drama</td>\n",
       "      <td>PG-13</td>\n",
       "      <td>Love N' Dancing</td>\n",
       "      <td>2009-05-08</td>\n",
       "      <td>NaN</td>\n",
       "      <td>lovendancing</td>\n",
       "      <td>54696.928000</td>\n",
       "      <td>...</td>\n",
       "      <td>2009</td>\n",
       "      <td>2009</td>\n",
       "      <td>7.5</td>\n",
       "      <td>3.046701e+04</td>\n",
       "      <td>62573.285632</td>\n",
       "      <td>2009</td>\n",
       "      <td>214.537</td>\n",
       "      <td>7853.618955</td>\n",
       "      <td>1.926022e-06</td>\n",
       "      <td>1</td>\n",
       "    </tr>\n",
       "    <tr>\n",
       "      <th>1144</th>\n",
       "      <td>3390</td>\n",
       "      <td>Rob Morrow</td>\n",
       "      <td>Andora Pictures</td>\n",
       "      <td>Unknown</td>\n",
       "      <td>R</td>\n",
       "      <td>Maze</td>\n",
       "      <td>2001-11-09</td>\n",
       "      <td>NaN</td>\n",
       "      <td>maze</td>\n",
       "      <td>39898.532143</td>\n",
       "      <td>...</td>\n",
       "      <td>2001</td>\n",
       "      <td>2001</td>\n",
       "      <td>5.6</td>\n",
       "      <td>2.600659e+04</td>\n",
       "      <td>61130.251033</td>\n",
       "      <td>2001</td>\n",
       "      <td>177.100</td>\n",
       "      <td>7672.511071</td>\n",
       "      <td>5.194455e-08</td>\n",
       "      <td>1</td>\n",
       "    </tr>\n",
       "    <tr>\n",
       "      <th>1429</th>\n",
       "      <td>118</td>\n",
       "      <td>Michael Ritchie</td>\n",
       "      <td>Freestyle Releasing</td>\n",
       "      <td>Drama</td>\n",
       "      <td>PG-13</td>\n",
       "      <td>Smile</td>\n",
       "      <td>2005-04-08</td>\n",
       "      <td>NaN</td>\n",
       "      <td>smile</td>\n",
       "      <td>44016.740625</td>\n",
       "      <td>...</td>\n",
       "      <td>2005</td>\n",
       "      <td>2005</td>\n",
       "      <td>6.4</td>\n",
       "      <td>7.103764e+04</td>\n",
       "      <td>59009.942900</td>\n",
       "      <td>2005</td>\n",
       "      <td>195.300</td>\n",
       "      <td>7406.286103</td>\n",
       "      <td>NaN</td>\n",
       "      <td>1</td>\n",
       "    </tr>\n",
       "    <tr>\n",
       "      <th>1428</th>\n",
       "      <td>4302</td>\n",
       "      <td>Jeffrey Kramer</td>\n",
       "      <td>Freestyle Releasing</td>\n",
       "      <td>Drama</td>\n",
       "      <td>PG-13</td>\n",
       "      <td>Smile</td>\n",
       "      <td>2005-04-08</td>\n",
       "      <td>NaN</td>\n",
       "      <td>smile</td>\n",
       "      <td>44016.740625</td>\n",
       "      <td>...</td>\n",
       "      <td>2005</td>\n",
       "      <td>2005</td>\n",
       "      <td>6.4</td>\n",
       "      <td>7.103764e+04</td>\n",
       "      <td>59009.942900</td>\n",
       "      <td>2005</td>\n",
       "      <td>195.300</td>\n",
       "      <td>7406.286103</td>\n",
       "      <td>NaN</td>\n",
       "      <td>1</td>\n",
       "    </tr>\n",
       "    <tr>\n",
       "      <th>654</th>\n",
       "      <td>4791</td>\n",
       "      <td>Gregory Jacobs</td>\n",
       "      <td>Sony (Revolution)</td>\n",
       "      <td>Horror</td>\n",
       "      <td>R</td>\n",
       "      <td>Wind Chill</td>\n",
       "      <td>2007-04-27</td>\n",
       "      <td>NaN</td>\n",
       "      <td>windchill</td>\n",
       "      <td>46437.988235</td>\n",
       "      <td>...</td>\n",
       "      <td>2007</td>\n",
       "      <td>2007</td>\n",
       "      <td>6.8</td>\n",
       "      <td>2.541951e+04</td>\n",
       "      <td>58593.814567</td>\n",
       "      <td>2007</td>\n",
       "      <td>207.300</td>\n",
       "      <td>7354.159614</td>\n",
       "      <td>2.159077e-06</td>\n",
       "      <td>1</td>\n",
       "    </tr>\n",
       "    <tr>\n",
       "      <th>5363</th>\n",
       "      <td>1345</td>\n",
       "      <td>Eugene Marner</td>\n",
       "      <td>Cannon Films</td>\n",
       "      <td>Unknown</td>\n",
       "      <td>G</td>\n",
       "      <td>Puss in Boots</td>\n",
       "      <td>1988-06-10</td>\n",
       "      <td>NaN</td>\n",
       "      <td>pussinboots</td>\n",
       "      <td>27102.336585</td>\n",
       "      <td>...</td>\n",
       "      <td>1988</td>\n",
       "      <td>1988</td>\n",
       "      <td>4.1</td>\n",
       "      <td>1.485452e+06</td>\n",
       "      <td>56716.597049</td>\n",
       "      <td>1988</td>\n",
       "      <td>118.300</td>\n",
       "      <td>7115.264788</td>\n",
       "      <td>NaN</td>\n",
       "      <td>1</td>\n",
       "    </tr>\n",
       "    <tr>\n",
       "      <th>5436</th>\n",
       "      <td>5377</td>\n",
       "      <td>Chris Miller</td>\n",
       "      <td>Cannon Films</td>\n",
       "      <td>Unknown</td>\n",
       "      <td>G</td>\n",
       "      <td>Puss in Boots</td>\n",
       "      <td>1988-06-10</td>\n",
       "      <td>NaN</td>\n",
       "      <td>pussinboots</td>\n",
       "      <td>27102.336585</td>\n",
       "      <td>...</td>\n",
       "      <td>1988</td>\n",
       "      <td>1988</td>\n",
       "      <td>4.1</td>\n",
       "      <td>1.485452e+06</td>\n",
       "      <td>56716.597049</td>\n",
       "      <td>1988</td>\n",
       "      <td>118.300</td>\n",
       "      <td>7115.264788</td>\n",
       "      <td>NaN</td>\n",
       "      <td>1</td>\n",
       "    </tr>\n",
       "    <tr>\n",
       "      <th>577</th>\n",
       "      <td>5097</td>\n",
       "      <td>Kevin Heffernan</td>\n",
       "      <td>Anchor Bay Films</td>\n",
       "      <td>Comedy</td>\n",
       "      <td>R</td>\n",
       "      <td>The Slammin' Salmon</td>\n",
       "      <td>2009-12-11</td>\n",
       "      <td>NaN</td>\n",
       "      <td>slamminsalmon</td>\n",
       "      <td>47575.528000</td>\n",
       "      <td>...</td>\n",
       "      <td>2009</td>\n",
       "      <td>2009</td>\n",
       "      <td>7.5</td>\n",
       "      <td>2.993505e+04</td>\n",
       "      <td>54426.404032</td>\n",
       "      <td>2009</td>\n",
       "      <td>214.537</td>\n",
       "      <td>6831.090152</td>\n",
       "      <td>5.521500e-06</td>\n",
       "      <td>1</td>\n",
       "    </tr>\n",
       "    <tr>\n",
       "      <th>1072</th>\n",
       "      <td>2820</td>\n",
       "      <td>Sarah Kelly</td>\n",
       "      <td>Miramax</td>\n",
       "      <td>Documentary</td>\n",
       "      <td>R</td>\n",
       "      <td>Full Tilt Boogie</td>\n",
       "      <td>1998-07-31</td>\n",
       "      <td>NaN</td>\n",
       "      <td>fulltiltboogie</td>\n",
       "      <td>28562.073913</td>\n",
       "      <td>...</td>\n",
       "      <td>1998</td>\n",
       "      <td>1998</td>\n",
       "      <td>4.6</td>\n",
       "      <td>1.845633e+04</td>\n",
       "      <td>53274.476994</td>\n",
       "      <td>1998</td>\n",
       "      <td>163.000</td>\n",
       "      <td>6686.535486</td>\n",
       "      <td>8.988339e-08</td>\n",
       "      <td>1</td>\n",
       "    </tr>\n",
       "    <tr>\n",
       "      <th>1058</th>\n",
       "      <td>938</td>\n",
       "      <td>Andrei Konchalovsky</td>\n",
       "      <td>Cannon Films</td>\n",
       "      <td>Unknown</td>\n",
       "      <td>R</td>\n",
       "      <td>Duet for One</td>\n",
       "      <td>1986-12-25</td>\n",
       "      <td>NaN</td>\n",
       "      <td>duetforone</td>\n",
       "      <td>20258.075676</td>\n",
       "      <td>...</td>\n",
       "      <td>1986</td>\n",
       "      <td>1986</td>\n",
       "      <td>3.7</td>\n",
       "      <td>1.657795e+04</td>\n",
       "      <td>46976.834945</td>\n",
       "      <td>1986</td>\n",
       "      <td>109.600</td>\n",
       "      <td>5896.111145</td>\n",
       "      <td>9.823648e-08</td>\n",
       "      <td>1</td>\n",
       "    </tr>\n",
       "    <tr>\n",
       "      <th>578</th>\n",
       "      <td>3700</td>\n",
       "      <td>Jim Simpson</td>\n",
       "      <td>Focus Features</td>\n",
       "      <td>Unknown</td>\n",
       "      <td>PG</td>\n",
       "      <td>The Guys</td>\n",
       "      <td>2003-04-04</td>\n",
       "      <td>NaN</td>\n",
       "      <td>guys</td>\n",
       "      <td>30553.380000</td>\n",
       "      <td>...</td>\n",
       "      <td>2003</td>\n",
       "      <td>2003</td>\n",
       "      <td>6.0</td>\n",
       "      <td>2.297724e+04</td>\n",
       "      <td>43691.333400</td>\n",
       "      <td>2003</td>\n",
       "      <td>184.000</td>\n",
       "      <td>5483.727457</td>\n",
       "      <td>5.517068e-06</td>\n",
       "      <td>1</td>\n",
       "    </tr>\n",
       "    <tr>\n",
       "      <th>464</th>\n",
       "      <td>4989</td>\n",
       "      <td>Peter Hyams</td>\n",
       "      <td>Anchor Bay Films</td>\n",
       "      <td>Thriller</td>\n",
       "      <td>PG-13</td>\n",
       "      <td>Beyond a Reasonable Doubt</td>\n",
       "      <td>2009-09-11</td>\n",
       "      <td>NaN</td>\n",
       "      <td>beyondareasonabledoubt</td>\n",
       "      <td>37657.048000</td>\n",
       "      <td>...</td>\n",
       "      <td>2009</td>\n",
       "      <td>2009</td>\n",
       "      <td>7.5</td>\n",
       "      <td>1.965049e+04</td>\n",
       "      <td>43079.662912</td>\n",
       "      <td>2009</td>\n",
       "      <td>214.537</td>\n",
       "      <td>5406.963054</td>\n",
       "      <td>2.231288e-05</td>\n",
       "      <td>1</td>\n",
       "    </tr>\n",
       "    <tr>\n",
       "      <th>886</th>\n",
       "      <td>4862</td>\n",
       "      <td>Tom Putnam</td>\n",
       "      <td>Regent Releasing</td>\n",
       "      <td>Romantic Comedy</td>\n",
       "      <td>PG-13</td>\n",
       "      <td>The Hottie and the Nottie</td>\n",
       "      <td>2008-02-08</td>\n",
       "      <td>NaN</td>\n",
       "      <td>hottieandthenottie</td>\n",
       "      <td>33469.250704</td>\n",
       "      <td>...</td>\n",
       "      <td>2008</td>\n",
       "      <td>2008</td>\n",
       "      <td>7.1</td>\n",
       "      <td>3.346925e+04</td>\n",
       "      <td>40445.939583</td>\n",
       "      <td>2008</td>\n",
       "      <td>215.303</td>\n",
       "      <td>5076.368564</td>\n",
       "      <td>3.252820e-07</td>\n",
       "      <td>1</td>\n",
       "    </tr>\n",
       "    <tr>\n",
       "      <th>541</th>\n",
       "      <td>5395</td>\n",
       "      <td>Dito Montiel</td>\n",
       "      <td>Anchor Bay Films</td>\n",
       "      <td>Crime Thriller</td>\n",
       "      <td>R</td>\n",
       "      <td>The Son of No One</td>\n",
       "      <td>2011-11-04</td>\n",
       "      <td>NaN</td>\n",
       "      <td>sonofnoone</td>\n",
       "      <td>33320.810127</td>\n",
       "      <td>...</td>\n",
       "      <td>2011</td>\n",
       "      <td>2011</td>\n",
       "      <td>7.9</td>\n",
       "      <td>1.956566e+04</td>\n",
       "      <td>36188.930492</td>\n",
       "      <td>2011</td>\n",
       "      <td>224.939</td>\n",
       "      <td>4542.094825</td>\n",
       "      <td>9.453374e-06</td>\n",
       "      <td>1</td>\n",
       "    </tr>\n",
       "    <tr>\n",
       "      <th>336</th>\n",
       "      <td>4661</td>\n",
       "      <td>Jake Paltrow</td>\n",
       "      <td>Yari Film Group</td>\n",
       "      <td>Fantasy Drama</td>\n",
       "      <td>R</td>\n",
       "      <td>The Good Night</td>\n",
       "      <td>2007-10-05</td>\n",
       "      <td>NaN</td>\n",
       "      <td>goodnight</td>\n",
       "      <td>28315.261765</td>\n",
       "      <td>...</td>\n",
       "      <td>2007</td>\n",
       "      <td>2007</td>\n",
       "      <td>6.8</td>\n",
       "      <td>1.561686e+04</td>\n",
       "      <td>35727.197933</td>\n",
       "      <td>2007</td>\n",
       "      <td>207.300</td>\n",
       "      <td>4484.150804</td>\n",
       "      <td>7.324558e-05</td>\n",
       "      <td>1</td>\n",
       "    </tr>\n",
       "    <tr>\n",
       "      <th>5352</th>\n",
       "      <td>1205</td>\n",
       "      <td>Michael Cacoyannis</td>\n",
       "      <td>Palisades Ent.</td>\n",
       "      <td>Drama</td>\n",
       "      <td>R</td>\n",
       "      <td>Sweet Country</td>\n",
       "      <td>1987-01-23</td>\n",
       "      <td>NaN</td>\n",
       "      <td>sweetcountry</td>\n",
       "      <td>14550.800000</td>\n",
       "      <td>...</td>\n",
       "      <td>1987</td>\n",
       "      <td>1987</td>\n",
       "      <td>3.9</td>\n",
       "      <td>6.423714e+05</td>\n",
       "      <td>32011.760000</td>\n",
       "      <td>1987</td>\n",
       "      <td>113.600</td>\n",
       "      <td>4016.410596</td>\n",
       "      <td>4.458491e-11</td>\n",
       "      <td>1</td>\n",
       "    </tr>\n",
       "    <tr>\n",
       "      <th>5422</th>\n",
       "      <td>3248</td>\n",
       "      <td>Mike Figgis</td>\n",
       "      <td>United Artists</td>\n",
       "      <td>Drama</td>\n",
       "      <td>R</td>\n",
       "      <td>Miss Julie</td>\n",
       "      <td>1999-12-10</td>\n",
       "      <td>NaN</td>\n",
       "      <td>missjulie</td>\n",
       "      <td>75402.756000</td>\n",
       "      <td>...</td>\n",
       "      <td>1999</td>\n",
       "      <td>1999</td>\n",
       "      <td>5.0</td>\n",
       "      <td>1.536664e+10</td>\n",
       "      <td>129391.129296</td>\n",
       "      <td>1999</td>\n",
       "      <td>166.600</td>\n",
       "      <td>-18300.622378</td>\n",
       "      <td>NaN</td>\n",
       "      <td>1</td>\n",
       "    </tr>\n",
       "    <tr>\n",
       "      <th>5101</th>\n",
       "      <td>4411</td>\n",
       "      <td>George Hickenlooper</td>\n",
       "      <td>MGM (Weinstein)</td>\n",
       "      <td>Drama</td>\n",
       "      <td>R</td>\n",
       "      <td>Factory Girl</td>\n",
       "      <td>2006-12-29</td>\n",
       "      <td>NaN</td>\n",
       "      <td>factorygirl</td>\n",
       "      <td>2211318.120000</td>\n",
       "      <td>...</td>\n",
       "      <td>2006</td>\n",
       "      <td>2006</td>\n",
       "      <td>6.5</td>\n",
       "      <td>2.270482e+11</td>\n",
       "      <td>2918939.918400</td>\n",
       "      <td>2006</td>\n",
       "      <td>201.600</td>\n",
       "      <td>-143991.767045</td>\n",
       "      <td>NaN</td>\n",
       "      <td>1</td>\n",
       "    </tr>\n",
       "  </tbody>\n",
       "</table>\n",
       "<p>25 rows × 27 columns</p>\n",
       "</div>"
      ],
      "text/plain": [
       "      Unnamed: 0                      director                 distributor  \\\n",
       "420         5079                    Dror Soref            Anchor Bay Films   \n",
       "269         4100                 Shane Carruth                   ThinkFilm   \n",
       "792         4716                  Andrew Black  First Independent Pictures   \n",
       "374         4571                Chris Chan Lee                     Indican   \n",
       "684         4196            John Mallory Asher                  First Look   \n",
       "1016        2381            Wallace Wolodarsky                   IRS Media   \n",
       "601         4155  Adam Del Deo, James D. Stern                   Fine Line   \n",
       "661         5056                 Robert Iscove                Screen Media   \n",
       "1144        3390                    Rob Morrow             Andora Pictures   \n",
       "1429         118               Michael Ritchie         Freestyle Releasing   \n",
       "1428        4302                Jeffrey Kramer         Freestyle Releasing   \n",
       "654         4791                Gregory Jacobs           Sony (Revolution)   \n",
       "5363        1345                 Eugene Marner                Cannon Films   \n",
       "5436        5377                  Chris Miller                Cannon Films   \n",
       "577         5097               Kevin Heffernan            Anchor Bay Films   \n",
       "1072        2820                   Sarah Kelly                     Miramax   \n",
       "1058         938           Andrei Konchalovsky                Cannon Films   \n",
       "578         3700                   Jim Simpson              Focus Features   \n",
       "464         4989                   Peter Hyams            Anchor Bay Films   \n",
       "886         4862                    Tom Putnam            Regent Releasing   \n",
       "541         5395                  Dito Montiel            Anchor Bay Films   \n",
       "336         4661                  Jake Paltrow             Yari Film Group   \n",
       "5352        1205            Michael Cacoyannis              Palisades Ent.   \n",
       "5422        3248                   Mike Figgis              United Artists   \n",
       "5101        4411           George Hickenlooper             MGM (Weinstein)   \n",
       "\n",
       "         genre_bomojo rating                      title releaseDate  isCult  \\\n",
       "420          Thriller      R              Not Forgotten  2009-05-15     NaN   \n",
       "269           Unknown  PG-13                     Primer  2004-10-08       1   \n",
       "792            Comedy  PG-13          Moving McAllister  2007-09-14     NaN   \n",
       "374             Drama      R                    Undoing  2008-01-04     NaN   \n",
       "684            Comedy      R                 Dirty Love  2005-09-23     NaN   \n",
       "1016          Unknown      R                Coldblooded  1995-09-15     NaN   \n",
       "601       Documentary     PG        The Year of the Yao  2005-04-15     NaN   \n",
       "661             Drama  PG-13            Love N' Dancing  2009-05-08     NaN   \n",
       "1144          Unknown      R                       Maze  2001-11-09     NaN   \n",
       "1429            Drama  PG-13                      Smile  2005-04-08     NaN   \n",
       "1428            Drama  PG-13                      Smile  2005-04-08     NaN   \n",
       "654            Horror      R                 Wind Chill  2007-04-27     NaN   \n",
       "5363          Unknown      G              Puss in Boots  1988-06-10     NaN   \n",
       "5436          Unknown      G              Puss in Boots  1988-06-10     NaN   \n",
       "577            Comedy      R        The Slammin' Salmon  2009-12-11     NaN   \n",
       "1072      Documentary      R           Full Tilt Boogie  1998-07-31     NaN   \n",
       "1058          Unknown      R               Duet for One  1986-12-25     NaN   \n",
       "578           Unknown     PG                   The Guys  2003-04-04     NaN   \n",
       "464          Thriller  PG-13  Beyond a Reasonable Doubt  2009-09-11     NaN   \n",
       "886   Romantic Comedy  PG-13  The Hottie and the Nottie  2008-02-08     NaN   \n",
       "541    Crime Thriller      R          The Son of No One  2011-11-04     NaN   \n",
       "336     Fantasy Drama      R             The Good Night  2007-10-05     NaN   \n",
       "5352            Drama      R              Sweet Country  1987-01-23     NaN   \n",
       "5422            Drama      R                 Miss Julie  1999-12-10     NaN   \n",
       "5101            Drama      R               Factory Girl  2006-12-29     NaN   \n",
       "\n",
       "                  canontitle  rev_totalGross            ...             \\\n",
       "420             notforgotten    61483.136000            ...              \n",
       "269                   primer   587813.032258            ...              \n",
       "792         movingmcallister    53672.947059            ...              \n",
       "374                  undoing    54379.073239            ...              \n",
       "684                dirtylove    48395.221875            ...              \n",
       "1016             coldblooded    32320.660465            ...              \n",
       "601             yearoftheyao    47714.184375            ...              \n",
       "661             lovendancing    54696.928000            ...              \n",
       "1144                    maze    39898.532143            ...              \n",
       "1429                   smile    44016.740625            ...              \n",
       "1428                   smile    44016.740625            ...              \n",
       "654                windchill    46437.988235            ...              \n",
       "5363             pussinboots    27102.336585            ...              \n",
       "5436             pussinboots    27102.336585            ...              \n",
       "577            slamminsalmon    47575.528000            ...              \n",
       "1072          fulltiltboogie    28562.073913            ...              \n",
       "1058              duetforone    20258.075676            ...              \n",
       "578                     guys    30553.380000            ...              \n",
       "464   beyondareasonabledoubt    37657.048000            ...              \n",
       "886       hottieandthenottie    33469.250704            ...              \n",
       "541               sonofnoone    33320.810127            ...              \n",
       "336                goodnight    28315.261765            ...              \n",
       "5352            sweetcountry    14550.800000            ...              \n",
       "5422               missjulie    75402.756000            ...              \n",
       "5101             factorygirl  2211318.120000            ...              \n",
       "\n",
       "      releaseYear  Year AvgPrice  rev_opening_ADJ  rev_totalGross_ADJ  year  \\\n",
       "420          2009  2009      7.5     2.112739e+04        70336.707584  2009   \n",
       "269          2004  2004      6.2     3.897257e+04       813457.389802  2004   \n",
       "792          2007  2007      6.8     3.616849e+04        67722.630259  2007   \n",
       "374          2008  2008      7.1     1.941376e+04        65714.429351  2008   \n",
       "684          2005  2005      6.4     3.121109e+04        64879.844326  2005   \n",
       "1016         1995  1995      4.3     1.680682e+04        64490.992277  1995   \n",
       "601          2005  2005      6.4     3.730021e+04        63966.828428  2005   \n",
       "661          2009  2009      7.5     3.046701e+04        62573.285632  2009   \n",
       "1144         2001  2001      5.6     2.600659e+04        61130.251033  2001   \n",
       "1429         2005  2005      6.4     7.103764e+04        59009.942900  2005   \n",
       "1428         2005  2005      6.4     7.103764e+04        59009.942900  2005   \n",
       "654          2007  2007      6.8     2.541951e+04        58593.814567  2007   \n",
       "5363         1988  1988      4.1     1.485452e+06        56716.597049  1988   \n",
       "5436         1988  1988      4.1     1.485452e+06        56716.597049  1988   \n",
       "577          2009  2009      7.5     2.993505e+04        54426.404032  2009   \n",
       "1072         1998  1998      4.6     1.845633e+04        53274.476994  1998   \n",
       "1058         1986  1986      3.7     1.657795e+04        46976.834945  1986   \n",
       "578          2003  2003      6.0     2.297724e+04        43691.333400  2003   \n",
       "464          2009  2009      7.5     1.965049e+04        43079.662912  2009   \n",
       "886          2008  2008      7.1     3.346925e+04        40445.939583  2008   \n",
       "541          2011  2011      7.9     1.956566e+04        36188.930492  2011   \n",
       "336          2007  2007      6.8     1.561686e+04        35727.197933  2007   \n",
       "5352         1987  1987      3.9     6.423714e+05        32011.760000  1987   \n",
       "5422         1999  1999      5.0     1.536664e+10       129391.129296  1999   \n",
       "5101         2006  2006      6.5     2.270482e+11      2918939.918400  2006   \n",
       "\n",
       "          CPI  prod_budget_ADJ    CULT_INDEX  is_missing_prodbudgetADJ  \n",
       "420   214.537      8828.041226  3.939402e-05                         1  \n",
       "269   188.900      8819.481207  1.338926e-04                         0  \n",
       "792   207.300      8499.909794  6.019698e-07                         1  \n",
       "374   215.303      8247.894489  5.811927e-05                         1  \n",
       "684   195.300      8143.117680  1.513698e-06                         1  \n",
       "1016  152.400      8094.344526  1.312135e-07                         1  \n",
       "601   195.300      8028.509699  3.831343e-06                         1  \n",
       "661   214.537      7853.618955  1.926022e-06                         1  \n",
       "1144  177.100      7672.511071  5.194455e-08                         1  \n",
       "1429  195.300      7406.286103           NaN                         1  \n",
       "1428  195.300      7406.286103           NaN                         1  \n",
       "654   207.300      7354.159614  2.159077e-06                         1  \n",
       "5363  118.300      7115.264788           NaN                         1  \n",
       "5436  118.300      7115.264788           NaN                         1  \n",
       "577   214.537      6831.090152  5.521500e-06                         1  \n",
       "1072  163.000      6686.535486  8.988339e-08                         1  \n",
       "1058  109.600      5896.111145  9.823648e-08                         1  \n",
       "578   184.000      5483.727457  5.517068e-06                         1  \n",
       "464   214.537      5406.963054  2.231288e-05                         1  \n",
       "886   215.303      5076.368564  3.252820e-07                         1  \n",
       "541   224.939      4542.094825  9.453374e-06                         1  \n",
       "336   207.300      4484.150804  7.324558e-05                         1  \n",
       "5352  113.600      4016.410596  4.458491e-11                         1  \n",
       "5422  166.600    -18300.622378           NaN                         1  \n",
       "5101  201.600   -143991.767045           NaN                         1  \n",
       "\n",
       "[25 rows x 27 columns]"
      ]
     },
     "execution_count": 326,
     "metadata": {},
     "output_type": "execute_result"
    }
   ],
   "source": [
    "mov.sort_values(by='prod_budget_ADJ', ascending=False).tail(25)"
   ]
  },
  {
   "cell_type": "code",
   "execution_count": 327,
   "metadata": {
    "collapsed": false
   },
   "outputs": [],
   "source": [
    "mov['CULT_INDEX'] = mov.rev_totalGross_ADJ/((mov.rev_opening_ADJ**2)*(mov.num_theaters))\n",
    "mov=mov.sort_values(by='CULT_INDEX',ascending=False)"
   ]
  },
  {
   "cell_type": "code",
   "execution_count": 266,
   "metadata": {
    "collapsed": true
   },
   "outputs": [],
   "source": [
    "#MANUALLY ASSIGN SOME MORE CULT STATUSES\n",
    "mov.to_csv('./movie_df.csv',header=True,encoding='utf-8')"
   ]
  },
  {
   "cell_type": "code",
   "execution_count": 267,
   "metadata": {
    "collapsed": false
   },
   "outputs": [],
   "source": [
    "#numericals are imputed.\n",
    "pickle.dump(mov, open('movie_DF_0427.p', 'wb'))"
   ]
  },
  {
   "cell_type": "code",
   "execution_count": 268,
   "metadata": {
    "collapsed": true
   },
   "outputs": [],
   "source": [
    "mov = pd.read_csv('./movie_df.csv',header=0,encoding='utf-8')"
   ]
  },
  {
   "cell_type": "code",
   "execution_count": 269,
   "metadata": {
    "collapsed": false
   },
   "outputs": [
    {
     "data": {
      "text/html": [
       "<div>\n",
       "<table border=\"1\" class=\"dataframe\">\n",
       "  <thead>\n",
       "    <tr style=\"text-align: right;\">\n",
       "      <th></th>\n",
       "      <th>Unnamed: 0</th>\n",
       "      <th>director</th>\n",
       "      <th>distributor</th>\n",
       "      <th>genre_bomojo</th>\n",
       "      <th>rating</th>\n",
       "      <th>title</th>\n",
       "      <th>releaseDate</th>\n",
       "      <th>isCult</th>\n",
       "      <th>canontitle</th>\n",
       "      <th>rev_totalGross</th>\n",
       "      <th>...</th>\n",
       "      <th>releaseYear</th>\n",
       "      <th>Year</th>\n",
       "      <th>AvgPrice</th>\n",
       "      <th>rev_opening_ADJ</th>\n",
       "      <th>rev_totalGross_ADJ</th>\n",
       "      <th>year</th>\n",
       "      <th>CPI</th>\n",
       "      <th>prod_budget_ADJ</th>\n",
       "      <th>CULT_INDEX</th>\n",
       "      <th>is_missing_prodbudgetADJ</th>\n",
       "    </tr>\n",
       "  </thead>\n",
       "  <tbody>\n",
       "    <tr>\n",
       "      <th>0</th>\n",
       "      <td>149</td>\n",
       "      <td>Steven Spielberg</td>\n",
       "      <td>Columbia</td>\n",
       "      <td>Sci-Fi</td>\n",
       "      <td>PG</td>\n",
       "      <td>Close Encounters of the Third Kind</td>\n",
       "      <td>1977-11-16</td>\n",
       "      <td>NaN</td>\n",
       "      <td>closeencountersofthethirdkind</td>\n",
       "      <td>4.539423e+08</td>\n",
       "      <td>...</td>\n",
       "      <td>1977</td>\n",
       "      <td>1977</td>\n",
       "      <td>2.2</td>\n",
       "      <td>2535.000000</td>\n",
       "      <td>1.770375e+09</td>\n",
       "      <td>1977</td>\n",
       "      <td>60.6</td>\n",
       "      <td>78547854.785500</td>\n",
       "      <td>0.158329</td>\n",
       "      <td>0</td>\n",
       "    </tr>\n",
       "    <tr>\n",
       "      <th>1</th>\n",
       "      <td>890</td>\n",
       "      <td>Peter Masterson</td>\n",
       "      <td>Island Pictures</td>\n",
       "      <td>Drama</td>\n",
       "      <td>PG</td>\n",
       "      <td>The Trip to Bountiful</td>\n",
       "      <td>1985-12-20</td>\n",
       "      <td>NaN</td>\n",
       "      <td>triptobountiful</td>\n",
       "      <td>1.836587e+07</td>\n",
       "      <td>...</td>\n",
       "      <td>1985</td>\n",
       "      <td>1985</td>\n",
       "      <td>3.5</td>\n",
       "      <td>20560.131429</td>\n",
       "      <td>4.502261e+07</td>\n",
       "      <td>1985</td>\n",
       "      <td>107.6</td>\n",
       "      <td>5598779.612020</td>\n",
       "      <td>0.106507</td>\n",
       "      <td>1</td>\n",
       "    </tr>\n",
       "    <tr>\n",
       "      <th>2</th>\n",
       "      <td>5541</td>\n",
       "      <td>Rodrigo Cortés</td>\n",
       "      <td>Wellspring</td>\n",
       "      <td>Foreign</td>\n",
       "      <td>Unrated</td>\n",
       "      <td>Red Lights</td>\n",
       "      <td>2004-08-20</td>\n",
       "      <td>NaN</td>\n",
       "      <td>redlights</td>\n",
       "      <td>9.324910e+05</td>\n",
       "      <td>...</td>\n",
       "      <td>2004</td>\n",
       "      <td>2004</td>\n",
       "      <td>6.2</td>\n",
       "      <td>4431.154839</td>\n",
       "      <td>1.290447e+06</td>\n",
       "      <td>2004</td>\n",
       "      <td>188.9</td>\n",
       "      <td>160473.372630</td>\n",
       "      <td>0.065721</td>\n",
       "      <td>1</td>\n",
       "    </tr>\n",
       "    <tr>\n",
       "      <th>3</th>\n",
       "      <td>240</td>\n",
       "      <td>Peter Yates</td>\n",
       "      <td>Fox</td>\n",
       "      <td>Comedy / Drama</td>\n",
       "      <td>PG</td>\n",
       "      <td>Breaking Away</td>\n",
       "      <td>1979-07-13</td>\n",
       "      <td>NaN</td>\n",
       "      <td>breakingaway</td>\n",
       "      <td>5.637032e+07</td>\n",
       "      <td>...</td>\n",
       "      <td>1979</td>\n",
       "      <td>1979</td>\n",
       "      <td>2.5</td>\n",
       "      <td>60753.264000</td>\n",
       "      <td>1.934629e+08</td>\n",
       "      <td>1979</td>\n",
       "      <td>72.6</td>\n",
       "      <td>24058054.730200</td>\n",
       "      <td>0.052415</td>\n",
       "      <td>1</td>\n",
       "    </tr>\n",
       "    <tr>\n",
       "      <th>4</th>\n",
       "      <td>4508</td>\n",
       "      <td>Kelly Reichardt</td>\n",
       "      <td>Kino</td>\n",
       "      <td>Drama</td>\n",
       "      <td>Unrated</td>\n",
       "      <td>Old Joy</td>\n",
       "      <td>2006-08-25</td>\n",
       "      <td>NaN</td>\n",
       "      <td>oldjoy</td>\n",
       "      <td>3.378184e+05</td>\n",
       "      <td>...</td>\n",
       "      <td>2006</td>\n",
       "      <td>2006</td>\n",
       "      <td>6.5</td>\n",
       "      <td>4369.200000</td>\n",
       "      <td>4.459202e+05</td>\n",
       "      <td>2006</td>\n",
       "      <td>201.6</td>\n",
       "      <td>55452.341557</td>\n",
       "      <td>0.023359</td>\n",
       "      <td>1</td>\n",
       "    </tr>\n",
       "  </tbody>\n",
       "</table>\n",
       "<p>5 rows × 27 columns</p>\n",
       "</div>"
      ],
      "text/plain": [
       "   Unnamed: 0          director      distributor    genre_bomojo   rating  \\\n",
       "0         149  Steven Spielberg         Columbia          Sci-Fi       PG   \n",
       "1         890   Peter Masterson  Island Pictures           Drama       PG   \n",
       "2        5541    Rodrigo Cortés       Wellspring         Foreign  Unrated   \n",
       "3         240       Peter Yates              Fox  Comedy / Drama       PG   \n",
       "4        4508   Kelly Reichardt             Kino           Drama  Unrated   \n",
       "\n",
       "                                title releaseDate  isCult  \\\n",
       "0  Close Encounters of the Third Kind  1977-11-16     NaN   \n",
       "1               The Trip to Bountiful  1985-12-20     NaN   \n",
       "2                          Red Lights  2004-08-20     NaN   \n",
       "3                       Breaking Away  1979-07-13     NaN   \n",
       "4                             Old Joy  2006-08-25     NaN   \n",
       "\n",
       "                      canontitle  rev_totalGross            ...             \\\n",
       "0  closeencountersofthethirdkind    4.539423e+08            ...              \n",
       "1                triptobountiful    1.836587e+07            ...              \n",
       "2                      redlights    9.324910e+05            ...              \n",
       "3                   breakingaway    5.637032e+07            ...              \n",
       "4                         oldjoy    3.378184e+05            ...              \n",
       "\n",
       "   releaseYear  Year AvgPrice  rev_opening_ADJ  rev_totalGross_ADJ  year  \\\n",
       "0         1977  1977      2.2      2535.000000        1.770375e+09  1977   \n",
       "1         1985  1985      3.5     20560.131429        4.502261e+07  1985   \n",
       "2         2004  2004      6.2      4431.154839        1.290447e+06  2004   \n",
       "3         1979  1979      2.5     60753.264000        1.934629e+08  1979   \n",
       "4         2006  2006      6.5      4369.200000        4.459202e+05  2006   \n",
       "\n",
       "     CPI  prod_budget_ADJ  CULT_INDEX  is_missing_prodbudgetADJ  \n",
       "0   60.6  78547854.785500    0.158329                         0  \n",
       "1  107.6   5598779.612020    0.106507                         1  \n",
       "2  188.9    160473.372630    0.065721                         1  \n",
       "3   72.6  24058054.730200    0.052415                         1  \n",
       "4  201.6     55452.341557    0.023359                         1  \n",
       "\n",
       "[5 rows x 27 columns]"
      ]
     },
     "execution_count": 269,
     "metadata": {},
     "output_type": "execute_result"
    }
   ],
   "source": [
    "mov.head()"
   ]
  },
  {
   "cell_type": "code",
   "execution_count": 328,
   "metadata": {
    "collapsed": false
   },
   "outputs": [
    {
     "data": {
      "text/plain": [
       "(5229, 27)"
      ]
     },
     "execution_count": 328,
     "metadata": {},
     "output_type": "execute_result"
    }
   ],
   "source": [
    "mov.shape"
   ]
  },
  {
   "cell_type": "code",
   "execution_count": 329,
   "metadata": {
    "collapsed": true
   },
   "outputs": [],
   "source": [
    "# CULTINDEX is catching a lot of false positives with rev_opening_ADJ < 20000; remove maybe less than 15000\n",
    "mov = mov[mov.rev_opening_ADJ>15000]"
   ]
  },
  {
   "cell_type": "code",
   "execution_count": 330,
   "metadata": {
    "collapsed": false
   },
   "outputs": [
    {
     "data": {
      "text/plain": [
       "(5229, 27)"
      ]
     },
     "execution_count": 330,
     "metadata": {},
     "output_type": "execute_result"
    }
   ],
   "source": [
    "mov.shape"
   ]
  },
  {
   "cell_type": "code",
   "execution_count": 331,
   "metadata": {
    "collapsed": false
   },
   "outputs": [],
   "source": [
    "mov=mov.sort_index()"
   ]
  },
  {
   "cell_type": "code",
   "execution_count": 332,
   "metadata": {
    "collapsed": false
   },
   "outputs": [],
   "source": [
    "\n",
    "\n",
    "\n",
    "mov['CULT_INDEX'] = mov.rev_totalGross_ADJ/((mov.rev_opening_ADJ**2)*(mov.num_theaters))\n",
    "mov=mov.sort_values(by='CULT_INDEX',ascending=False)"
   ]
  },
  {
   "cell_type": "code",
   "execution_count": 283,
   "metadata": {
    "collapsed": false
   },
   "outputs": [
    {
     "data": {
      "text/plain": [
       "Index([              u'Unnamed: 0',                 u'director',\n",
       "                    u'distributor',             u'genre_bomojo',\n",
       "                         u'rating',                    u'title',\n",
       "                    u'releaseDate',                   u'isCult',\n",
       "                     u'canontitle',           u'rev_totalGross',\n",
       "                    u'rev_opening',             u'num_theaters',\n",
       "                        u'runtime',              u'prod_budget',\n",
       "                u'rev_postOpening',                u'leadActor',\n",
       "                   u'runtime_mins',              u'releaseYear',\n",
       "                           u'Year',                 u'AvgPrice',\n",
       "                u'rev_opening_ADJ',       u'rev_totalGross_ADJ',\n",
       "                           u'year',                      u'CPI',\n",
       "                u'prod_budget_ADJ',               u'CULT_INDEX',\n",
       "       u'is_missing_prodbudgetADJ'],\n",
       "      dtype='object')"
      ]
     },
     "execution_count": 283,
     "metadata": {},
     "output_type": "execute_result"
    }
   ],
   "source": [
    "mov.columns"
   ]
  },
  {
   "cell_type": "code",
   "execution_count": 288,
   "metadata": {
    "collapsed": false
   },
   "outputs": [],
   "source": [
    "#HAVENT EXPLORED numTheaters!\n",
    "#IMPUTE by year, studio, strategy (take mean)\n",
    "\n",
    "mov.num_theaters.fillna(mov.groupby(['Year','distributor'])['num_theaters'].transform('mean'), inplace=True)"
   ]
  },
  {
   "cell_type": "code",
   "execution_count": 291,
   "metadata": {
    "collapsed": false
   },
   "outputs": [],
   "source": [
    "mov.num_theaters.fillna(mov.groupby(['distributor'])['num_theaters'].transform('mean'), inplace=True)"
   ]
  },
  {
   "cell_type": "code",
   "execution_count": 333,
   "metadata": {
    "collapsed": false
   },
   "outputs": [
    {
     "data": {
      "text/plain": [
       "0"
      ]
     },
     "execution_count": 333,
     "metadata": {},
     "output_type": "execute_result"
    }
   ],
   "source": [
    "sum(mov.num_theaters.isnull())"
   ]
  },
  {
   "cell_type": "code",
   "execution_count": 294,
   "metadata": {
    "collapsed": false
   },
   "outputs": [],
   "source": [
    "mov=mov[mov.num_theaters.notnull()]"
   ]
  },
  {
   "cell_type": "code",
   "execution_count": 295,
   "metadata": {
    "collapsed": false
   },
   "outputs": [
    {
     "data": {
      "text/plain": [
       "0"
      ]
     },
     "execution_count": 295,
     "metadata": {},
     "output_type": "execute_result"
    }
   ],
   "source": [
    "sum(mov.num_theaters.isnull())"
   ]
  },
  {
   "cell_type": "code",
   "execution_count": 296,
   "metadata": {
    "collapsed": false
   },
   "outputs": [
    {
     "data": {
      "text/plain": [
       "(5229, 27)"
      ]
     },
     "execution_count": 296,
     "metadata": {},
     "output_type": "execute_result"
    }
   ],
   "source": [
    "mov.shape"
   ]
  },
  {
   "cell_type": "code",
   "execution_count": 334,
   "metadata": {
    "collapsed": false
   },
   "outputs": [
    {
     "data": {
      "text/plain": [
       "<matplotlib.axes._subplots.AxesSubplot at 0x1fe81e510>"
      ]
     },
     "execution_count": 334,
     "metadata": {},
     "output_type": "execute_result"
    },
    {
     "data": {
      "image/png": "[encoded data removed]",
      "text/plain": [
       "<matplotlib.figure.Figure at 0x2008fcad0>"
      ]
     },
     "metadata": {},
     "output_type": "display_data"
    }
   ],
   "source": [
    "sns.distplot(mov.CULT_INDEX,rug=True)"
   ]
  },
  {
   "cell_type": "code",
   "execution_count": 517,
   "metadata": {
    "collapsed": false
   },
   "outputs": [],
   "source": [
    "pickle.dump(mov, open('movie_DF_0427.p', 'wb'))"
   ]
  },
  {
   "cell_type": "code",
   "execution_count": 490,
   "metadata": {
    "collapsed": false
   },
   "outputs": [],
   "source": [
    "#look at cult index for cult labels and non cult\n",
    "\n",
    "nocult = mov[mov.isCult.isnull()]\n",
    "cult = mov[mov.isCult.notnull()]"
   ]
  },
  {
   "cell_type": "code",
   "execution_count": 411,
   "metadata": {
    "collapsed": false
   },
   "outputs": [
    {
     "data": {
      "text/html": [
       "<div>\n",
       "<table border=\"1\" class=\"dataframe\">\n",
       "  <thead>\n",
       "    <tr style=\"text-align: right;\">\n",
       "      <th></th>\n",
       "      <th>Unnamed: 0</th>\n",
       "      <th>director</th>\n",
       "      <th>distributor</th>\n",
       "      <th>genre_bomojo</th>\n",
       "      <th>rating</th>\n",
       "      <th>title</th>\n",
       "      <th>releaseDate</th>\n",
       "      <th>isCult</th>\n",
       "      <th>canontitle</th>\n",
       "      <th>rev_totalGross</th>\n",
       "      <th>...</th>\n",
       "      <th>releaseYear</th>\n",
       "      <th>Year</th>\n",
       "      <th>AvgPrice</th>\n",
       "      <th>rev_opening_ADJ</th>\n",
       "      <th>rev_totalGross_ADJ</th>\n",
       "      <th>year</th>\n",
       "      <th>CPI</th>\n",
       "      <th>prod_budget_ADJ</th>\n",
       "      <th>CULT_INDEX</th>\n",
       "      <th>is_missing_prodbudgetADJ</th>\n",
       "    </tr>\n",
       "  </thead>\n",
       "  <tbody>\n",
       "    <tr>\n",
       "      <th>1</th>\n",
       "      <td>890</td>\n",
       "      <td>Peter Masterson</td>\n",
       "      <td>Island Pictures</td>\n",
       "      <td>Drama</td>\n",
       "      <td>PG</td>\n",
       "      <td>The Trip to Bountiful</td>\n",
       "      <td>1985-12-20</td>\n",
       "      <td>0</td>\n",
       "      <td>triptobountiful</td>\n",
       "      <td>18365865.06860</td>\n",
       "      <td>...</td>\n",
       "      <td>1985</td>\n",
       "      <td>1985</td>\n",
       "      <td>3.5</td>\n",
       "      <td>20560.131429</td>\n",
       "      <td>4.502261e+07</td>\n",
       "      <td>1985</td>\n",
       "      <td>107.6</td>\n",
       "      <td>5650869.561865</td>\n",
       "      <td>0.106507</td>\n",
       "      <td>1</td>\n",
       "    </tr>\n",
       "    <tr>\n",
       "      <th>3</th>\n",
       "      <td>240</td>\n",
       "      <td>Peter Yates</td>\n",
       "      <td>Fox</td>\n",
       "      <td>Comedy / Drama</td>\n",
       "      <td>PG</td>\n",
       "      <td>Breaking Away</td>\n",
       "      <td>1979-07-13</td>\n",
       "      <td>0</td>\n",
       "      <td>breakingaway</td>\n",
       "      <td>56370318.57600</td>\n",
       "      <td>...</td>\n",
       "      <td>1979</td>\n",
       "      <td>1979</td>\n",
       "      <td>2.5</td>\n",
       "      <td>60753.264000</td>\n",
       "      <td>1.934629e+08</td>\n",
       "      <td>1979</td>\n",
       "      <td>72.6</td>\n",
       "      <td>24281886.199245</td>\n",
       "      <td>0.052415</td>\n",
       "      <td>1</td>\n",
       "    </tr>\n",
       "    <tr>\n",
       "      <th>6</th>\n",
       "      <td>3773</td>\n",
       "      <td>Jeffrey Blitz</td>\n",
       "      <td>ThinkFilm</td>\n",
       "      <td>Documentary</td>\n",
       "      <td>G</td>\n",
       "      <td>Spellbound</td>\n",
       "      <td>2003-04-30</td>\n",
       "      <td>0</td>\n",
       "      <td>spellbound</td>\n",
       "      <td>8191870.83000</td>\n",
       "      <td>...</td>\n",
       "      <td>2003</td>\n",
       "      <td>2003</td>\n",
       "      <td>6.0</td>\n",
       "      <td>25036.440000</td>\n",
       "      <td>1.171438e+07</td>\n",
       "      <td>2003</td>\n",
       "      <td>184.0</td>\n",
       "      <td>1470292.595044</td>\n",
       "      <td>0.018688</td>\n",
       "      <td>1</td>\n",
       "    </tr>\n",
       "    <tr>\n",
       "      <th>7</th>\n",
       "      <td>4000</td>\n",
       "      <td>Zana Briski, Ross Kauffman</td>\n",
       "      <td>ThinkFilm</td>\n",
       "      <td>Documentary</td>\n",
       "      <td>R</td>\n",
       "      <td>Born into Brothels</td>\n",
       "      <td>2004-12-08</td>\n",
       "      <td>0</td>\n",
       "      <td>bornintobrothels</td>\n",
       "      <td>4864390.86774</td>\n",
       "      <td>...</td>\n",
       "      <td>2004</td>\n",
       "      <td>2004</td>\n",
       "      <td>6.2</td>\n",
       "      <td>20211.435484</td>\n",
       "      <td>6.731689e+06</td>\n",
       "      <td>2004</td>\n",
       "      <td>188.9</td>\n",
       "      <td>844906.581073</td>\n",
       "      <td>0.016479</td>\n",
       "      <td>1</td>\n",
       "    </tr>\n",
       "    <tr>\n",
       "      <th>13</th>\n",
       "      <td>428</td>\n",
       "      <td>Albert Brooks</td>\n",
       "      <td>Columbia</td>\n",
       "      <td>Romantic Comedy</td>\n",
       "      <td>R</td>\n",
       "      <td>Modern Romance</td>\n",
       "      <td>1981-03-13</td>\n",
       "      <td>0</td>\n",
       "      <td>modernromance</td>\n",
       "      <td>9100017.91111</td>\n",
       "      <td>...</td>\n",
       "      <td>1981</td>\n",
       "      <td>1981</td>\n",
       "      <td>2.7</td>\n",
       "      <td>57915.000000</td>\n",
       "      <td>2.891783e+07</td>\n",
       "      <td>1981</td>\n",
       "      <td>90.9</td>\n",
       "      <td>3629530.152339</td>\n",
       "      <td>0.008622</td>\n",
       "      <td>1</td>\n",
       "    </tr>\n",
       "  </tbody>\n",
       "</table>\n",
       "<p>5 rows × 27 columns</p>\n",
       "</div>"
      ],
      "text/plain": [
       "    Unnamed: 0                    director      distributor     genre_bomojo  \\\n",
       "1          890             Peter Masterson  Island Pictures            Drama   \n",
       "3          240                 Peter Yates              Fox   Comedy / Drama   \n",
       "6         3773               Jeffrey Blitz        ThinkFilm      Documentary   \n",
       "7         4000  Zana Briski, Ross Kauffman        ThinkFilm      Documentary   \n",
       "13         428               Albert Brooks         Columbia  Romantic Comedy   \n",
       "\n",
       "   rating                  title releaseDate  isCult        canontitle  \\\n",
       "1      PG  The Trip to Bountiful  1985-12-20       0   triptobountiful   \n",
       "3      PG          Breaking Away  1979-07-13       0      breakingaway   \n",
       "6       G             Spellbound  2003-04-30       0        spellbound   \n",
       "7       R     Born into Brothels  2004-12-08       0  bornintobrothels   \n",
       "13      R         Modern Romance  1981-03-13       0     modernromance   \n",
       "\n",
       "    rev_totalGross            ...             releaseYear  Year AvgPrice  \\\n",
       "1   18365865.06860            ...                    1985  1985      3.5   \n",
       "3   56370318.57600            ...                    1979  1979      2.5   \n",
       "6    8191870.83000            ...                    2003  2003      6.0   \n",
       "7    4864390.86774            ...                    2004  2004      6.2   \n",
       "13   9100017.91111            ...                    1981  1981      2.7   \n",
       "\n",
       "    rev_opening_ADJ  rev_totalGross_ADJ  year    CPI  prod_budget_ADJ  \\\n",
       "1      20560.131429        4.502261e+07  1985  107.6   5650869.561865   \n",
       "3      60753.264000        1.934629e+08  1979   72.6  24281886.199245   \n",
       "6      25036.440000        1.171438e+07  2003  184.0   1470292.595044   \n",
       "7      20211.435484        6.731689e+06  2004  188.9    844906.581073   \n",
       "13     57915.000000        2.891783e+07  1981   90.9   3629530.152339   \n",
       "\n",
       "    CULT_INDEX  is_missing_prodbudgetADJ  \n",
       "1     0.106507                         1  \n",
       "3     0.052415                         1  \n",
       "6     0.018688                         1  \n",
       "7     0.016479                         1  \n",
       "13    0.008622                         1  \n",
       "\n",
       "[5 rows x 27 columns]"
      ]
     },
     "execution_count": 411,
     "metadata": {},
     "output_type": "execute_result"
    }
   ],
   "source": [
    "mov.loc[mov.isCult.isnull(),'isCult']=0\n",
    "mov.head()"
   ]
  },
  {
   "cell_type": "code",
   "execution_count": 519,
   "metadata": {
    "collapsed": false
   },
   "outputs": [
    {
     "data": {
      "text/plain": [
       "<matplotlib.text.Text at 0x310bc7710>"
      ]
     },
     "execution_count": 519,
     "metadata": {},
     "output_type": "execute_result"
    },
    {
     "data": {
      "image/png": "[encoded data removed]",
      "text/plain": [
       "<matplotlib.figure.Figure at 0x30fad1e10>"
      ]
     },
     "metadata": {},
     "output_type": "display_data"
    }
   ],
   "source": [
    "\n",
    "#f, axes = plt.subplots(1, 2, figsize=(20, 10))\n",
    "#sns.despine(left=True)\n",
    "plt.figure(figsize=(15, 7))\n",
    "sns.set_style('whitegrid')\n",
    "\n",
    "#movtemp = mov[mov.CULT_INDEX<2]\n",
    "\n",
    "sns.boxplot(x='isCult',y='CULT_INDEX',data=mov)\n",
    "plt.ylim(1,1.003)\n",
    "plt.title('Cult Index Variation in Movies Dataset\\n(0=not cult, 1=is cult)')\n",
    "\n",
    "#index in general is very small. Jack it up. Also, try to weight factors in favor of cults more."
   ]
  },
  {
   "cell_type": "code",
   "execution_count": 491,
   "metadata": {
    "collapsed": false
   },
   "outputs": [
    {
     "data": {
      "text/plain": [
       "<matplotlib.axes._subplots.AxesSubplot at 0x30c8e70d0>"
      ]
     },
     "execution_count": 491,
     "metadata": {},
     "output_type": "execute_result"
    },
    {
     "data": {
      "image/png": "[encoded data removed]",
      "text/plain": [
       "<matplotlib.figure.Figure at 0x30b5bec10>"
      ]
     },
     "metadata": {},
     "output_type": "display_data"
    }
   ],
   "source": [
    "plt.figure(figsize=(15, 7))\n",
    "sns.set_style('whitegrid')\n",
    "\n",
    "sns.distplot(cult.CULT_INDEX,\n",
    "            rug=False, axlabel='Cult Index...', \n",
    "            color='r')"
   ]
  },
  {
   "cell_type": "code",
   "execution_count": 513,
   "metadata": {
    "collapsed": false
   },
   "outputs": [],
   "source": [
    "mov['CULT_INDEX'] = np.exp(np.log(mov.rev_totalGross_ADJ)/(np.log(mov.rev_opening_ADJ**2)*(mov.num_theaters+1)))\n",
    "mov=mov.sort_values(by='CULT_INDEX',ascending=False)"
   ]
  },
  {
   "cell_type": "code",
   "execution_count": 514,
   "metadata": {
    "collapsed": false
   },
   "outputs": [
    {
     "data": {
      "text/html": [
       "<div>\n",
       "<table border=\"1\" class=\"dataframe\">\n",
       "  <thead>\n",
       "    <tr style=\"text-align: right;\">\n",
       "      <th></th>\n",
       "      <th>Unnamed: 0</th>\n",
       "      <th>director</th>\n",
       "      <th>distributor</th>\n",
       "      <th>genre_bomojo</th>\n",
       "      <th>rating</th>\n",
       "      <th>title</th>\n",
       "      <th>releaseDate</th>\n",
       "      <th>isCult</th>\n",
       "      <th>canontitle</th>\n",
       "      <th>rev_totalGross</th>\n",
       "      <th>rev_opening</th>\n",
       "      <th>num_theaters</th>\n",
       "      <th>runtime</th>\n",
       "      <th>prod_budget</th>\n",
       "      <th>rev_postOpening</th>\n",
       "      <th>leadActor</th>\n",
       "      <th>runtime_mins</th>\n",
       "      <th>releaseYear</th>\n",
       "      <th>Year</th>\n",
       "      <th>AvgPrice</th>\n",
       "      <th>rev_opening_ADJ</th>\n",
       "      <th>rev_totalGross_ADJ</th>\n",
       "      <th>year</th>\n",
       "      <th>CPI</th>\n",
       "      <th>prod_budget_ADJ</th>\n",
       "      <th>CULT_INDEX</th>\n",
       "      <th>is_missing_prodbudgetADJ</th>\n",
       "    </tr>\n",
       "  </thead>\n",
       "  <tbody>\n",
       "    <tr>\n",
       "      <th>1</th>\n",
       "      <td>890</td>\n",
       "      <td>Peter Masterson</td>\n",
       "      <td>Island Pictures</td>\n",
       "      <td>Drama</td>\n",
       "      <td>PG</td>\n",
       "      <td>The Trip to Bountiful</td>\n",
       "      <td>1985-12-20</td>\n",
       "      <td>0</td>\n",
       "      <td>triptobountiful</td>\n",
       "      <td>18365865.06860</td>\n",
       "      <td>8387</td>\n",
       "      <td>1</td>\n",
       "      <td>1 hrs. 48 min.</td>\n",
       "      <td>0</td>\n",
       "      <td>4.500205e+07</td>\n",
       "      <td>Geraldine Page</td>\n",
       "      <td>108</td>\n",
       "      <td>1985</td>\n",
       "      <td>1985</td>\n",
       "      <td>3.5</td>\n",
       "      <td>20560.131429</td>\n",
       "      <td>4.502261e+07</td>\n",
       "      <td>1985</td>\n",
       "      <td>107.6</td>\n",
       "      <td>5650869.561865</td>\n",
       "      <td>1.558343</td>\n",
       "      <td>1</td>\n",
       "    </tr>\n",
       "    <tr>\n",
       "      <th>3</th>\n",
       "      <td>240</td>\n",
       "      <td>Peter Yates</td>\n",
       "      <td>Fox</td>\n",
       "      <td>Comedy / Drama</td>\n",
       "      <td>PG</td>\n",
       "      <td>Breaking Away</td>\n",
       "      <td>1979-07-13</td>\n",
       "      <td>0</td>\n",
       "      <td>breakingaway</td>\n",
       "      <td>56370318.57600</td>\n",
       "      <td>17702</td>\n",
       "      <td>1</td>\n",
       "      <td>1 hrs. 40 min.</td>\n",
       "      <td>0</td>\n",
       "      <td>1.934022e+08</td>\n",
       "      <td>Dennis Christopher</td>\n",
       "      <td>100</td>\n",
       "      <td>1979</td>\n",
       "      <td>1979</td>\n",
       "      <td>2.5</td>\n",
       "      <td>60753.264000</td>\n",
       "      <td>1.934629e+08</td>\n",
       "      <td>1979</td>\n",
       "      <td>72.6</td>\n",
       "      <td>24281886.199245</td>\n",
       "      <td>1.541993</td>\n",
       "      <td>1</td>\n",
       "    </tr>\n",
       "    <tr>\n",
       "      <th>6</th>\n",
       "      <td>3773</td>\n",
       "      <td>Jeffrey Blitz</td>\n",
       "      <td>ThinkFilm</td>\n",
       "      <td>Documentary</td>\n",
       "      <td>G</td>\n",
       "      <td>Spellbound</td>\n",
       "      <td>2003-04-30</td>\n",
       "      <td>0</td>\n",
       "      <td>spellbound</td>\n",
       "      <td>8191870.83000</td>\n",
       "      <td>17508</td>\n",
       "      <td>1</td>\n",
       "      <td>1 hrs. 37 min.</td>\n",
       "      <td>0</td>\n",
       "      <td>1.168934e+07</td>\n",
       "      <td>the 1999 Scripps National Spelling Bee</td>\n",
       "      <td>97</td>\n",
       "      <td>2003</td>\n",
       "      <td>2003</td>\n",
       "      <td>6.0</td>\n",
       "      <td>25036.440000</td>\n",
       "      <td>1.171438e+07</td>\n",
       "      <td>2003</td>\n",
       "      <td>184.0</td>\n",
       "      <td>1470292.595044</td>\n",
       "      <td>1.494456</td>\n",
       "      <td>1</td>\n",
       "    </tr>\n",
       "    <tr>\n",
       "      <th>7</th>\n",
       "      <td>4000</td>\n",
       "      <td>Zana Briski, Ross Kauffman</td>\n",
       "      <td>ThinkFilm</td>\n",
       "      <td>Documentary</td>\n",
       "      <td>R</td>\n",
       "      <td>Born into Brothels</td>\n",
       "      <td>2004-12-08</td>\n",
       "      <td>0</td>\n",
       "      <td>bornintobrothels</td>\n",
       "      <td>4864390.86774</td>\n",
       "      <td>14605</td>\n",
       "      <td>1</td>\n",
       "      <td>1 hrs. 25 min.</td>\n",
       "      <td>0</td>\n",
       "      <td>6.711478e+06</td>\n",
       "      <td>the children of prostitutes in India</td>\n",
       "      <td>85</td>\n",
       "      <td>2004</td>\n",
       "      <td>2004</td>\n",
       "      <td>6.2</td>\n",
       "      <td>20211.435484</td>\n",
       "      <td>6.731689e+06</td>\n",
       "      <td>2004</td>\n",
       "      <td>188.9</td>\n",
       "      <td>844906.581073</td>\n",
       "      <td>1.486565</td>\n",
       "      <td>1</td>\n",
       "    </tr>\n",
       "    <tr>\n",
       "      <th>13</th>\n",
       "      <td>428</td>\n",
       "      <td>Albert Brooks</td>\n",
       "      <td>Columbia</td>\n",
       "      <td>Romantic Comedy</td>\n",
       "      <td>R</td>\n",
       "      <td>Modern Romance</td>\n",
       "      <td>1981-03-13</td>\n",
       "      <td>0</td>\n",
       "      <td>modernromance</td>\n",
       "      <td>9100017.91111</td>\n",
       "      <td>18225</td>\n",
       "      <td>1</td>\n",
       "      <td>1 hrs. 33 min.</td>\n",
       "      <td>0</td>\n",
       "      <td>2.885992e+07</td>\n",
       "      <td>Albert Brooks</td>\n",
       "      <td>93</td>\n",
       "      <td>1981</td>\n",
       "      <td>1981</td>\n",
       "      <td>2.7</td>\n",
       "      <td>57915.000000</td>\n",
       "      <td>2.891783e+07</td>\n",
       "      <td>1981</td>\n",
       "      <td>90.9</td>\n",
       "      <td>3629530.152339</td>\n",
       "      <td>1.479403</td>\n",
       "      <td>1</td>\n",
       "    </tr>\n",
       "  </tbody>\n",
       "</table>\n",
       "</div>"
      ],
      "text/plain": [
       "    Unnamed: 0                    director      distributor     genre_bomojo  \\\n",
       "1          890             Peter Masterson  Island Pictures            Drama   \n",
       "3          240                 Peter Yates              Fox   Comedy / Drama   \n",
       "6         3773               Jeffrey Blitz        ThinkFilm      Documentary   \n",
       "7         4000  Zana Briski, Ross Kauffman        ThinkFilm      Documentary   \n",
       "13         428               Albert Brooks         Columbia  Romantic Comedy   \n",
       "\n",
       "   rating                  title releaseDate  isCult        canontitle  \\\n",
       "1      PG  The Trip to Bountiful  1985-12-20       0   triptobountiful   \n",
       "3      PG          Breaking Away  1979-07-13       0      breakingaway   \n",
       "6       G             Spellbound  2003-04-30       0        spellbound   \n",
       "7       R     Born into Brothels  2004-12-08       0  bornintobrothels   \n",
       "13      R         Modern Romance  1981-03-13       0     modernromance   \n",
       "\n",
       "    rev_totalGross  rev_opening  num_theaters         runtime  prod_budget  \\\n",
       "1   18365865.06860         8387             1  1 hrs. 48 min.            0   \n",
       "3   56370318.57600        17702             1  1 hrs. 40 min.            0   \n",
       "6    8191870.83000        17508             1  1 hrs. 37 min.            0   \n",
       "7    4864390.86774        14605             1  1 hrs. 25 min.            0   \n",
       "13   9100017.91111        18225             1  1 hrs. 33 min.            0   \n",
       "\n",
       "    rev_postOpening                               leadActor  runtime_mins  \\\n",
       "1      4.500205e+07                          Geraldine Page           108   \n",
       "3      1.934022e+08                      Dennis Christopher           100   \n",
       "6      1.168934e+07  the 1999 Scripps National Spelling Bee            97   \n",
       "7      6.711478e+06    the children of prostitutes in India            85   \n",
       "13     2.885992e+07                           Albert Brooks            93   \n",
       "\n",
       "    releaseYear  Year  AvgPrice  rev_opening_ADJ  rev_totalGross_ADJ  year  \\\n",
       "1          1985  1985       3.5     20560.131429        4.502261e+07  1985   \n",
       "3          1979  1979       2.5     60753.264000        1.934629e+08  1979   \n",
       "6          2003  2003       6.0     25036.440000        1.171438e+07  2003   \n",
       "7          2004  2004       6.2     20211.435484        6.731689e+06  2004   \n",
       "13         1981  1981       2.7     57915.000000        2.891783e+07  1981   \n",
       "\n",
       "      CPI  prod_budget_ADJ  CULT_INDEX  is_missing_prodbudgetADJ  \n",
       "1   107.6   5650869.561865    1.558343                         1  \n",
       "3    72.6  24281886.199245    1.541993                         1  \n",
       "6   184.0   1470292.595044    1.494456                         1  \n",
       "7   188.9    844906.581073    1.486565                         1  \n",
       "13   90.9   3629530.152339    1.479403                         1  "
      ]
     },
     "execution_count": 514,
     "metadata": {},
     "output_type": "execute_result"
    }
   ],
   "source": [
    "pd.set_option('display.max_columns', None)\n",
    "mov.head()"
   ]
  },
  {
   "cell_type": "code",
   "execution_count": null,
   "metadata": {
    "collapsed": true
   },
   "outputs": [],
   "source": [
    "#CATEGORICALSSSS\n"
   ]
  }
 ],
 "metadata": {
  "kernelspec": {
   "display_name": "Python 2",
   "language": "python",
   "name": "python2"
  },
  "language_info": {
   "codemirror_mode": {
    "name": "ipython",
    "version": 2
   },
   "file_extension": ".py",
   "mimetype": "text/x-python",
   "name": "python",
   "nbconvert_exporter": "python",
   "pygments_lexer": "ipython2",
   "version": "2.7.11"
  }
 },
 "nbformat": 4,
 "nbformat_minor": 0
}
